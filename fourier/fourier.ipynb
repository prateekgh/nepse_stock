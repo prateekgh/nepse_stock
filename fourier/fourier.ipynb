{
 "cells": [
  {
   "cell_type": "code",
   "execution_count": 245,
   "metadata": {},
   "outputs": [],
   "source": [
    "import numpy as np\n",
    "import pandas as pd\n",
    "import matplotlib.pyplot as plt\n",
    "import function_initial as fn"
   ]
  },
  {
   "cell_type": "code",
   "execution_count": 246,
   "metadata": {},
   "outputs": [
    {
     "name": "stderr",
     "output_type": "stream",
     "text": [
      "C:\\Users\\HP\\AppData\\Local\\Temp\\ipykernel_20356\\181138329.py:1: DtypeWarning:\n",
      "\n",
      "Columns (3) have mixed types. Specify dtype option on import or set low_memory=False.\n",
      "\n"
     ]
    }
   ],
   "source": [
    "df = pd.read_csv(\"../stock_data.csv\")"
   ]
  },
  {
   "cell_type": "code",
   "execution_count": 247,
   "metadata": {},
   "outputs": [],
   "source": [
    "df = fn.initialization(df,'ADBL','2022-01-01','2022-02-27')"
   ]
  },
  {
   "cell_type": "code",
   "execution_count": 248,
   "metadata": {},
   "outputs": [
    {
     "data": {
      "text/html": [
       "<div>\n",
       "<style scoped>\n",
       "    .dataframe tbody tr th:only-of-type {\n",
       "        vertical-align: middle;\n",
       "    }\n",
       "\n",
       "    .dataframe tbody tr th {\n",
       "        vertical-align: top;\n",
       "    }\n",
       "\n",
       "    .dataframe thead th {\n",
       "        text-align: right;\n",
       "    }\n",
       "</style>\n",
       "<table border=\"1\" class=\"dataframe\">\n",
       "  <thead>\n",
       "    <tr style=\"text-align: right;\">\n",
       "      <th></th>\n",
       "      <th>Date</th>\n",
       "      <th>Symbol</th>\n",
       "      <th>LTP</th>\n",
       "      <th>%Change</th>\n",
       "      <th>High</th>\n",
       "      <th>Low</th>\n",
       "      <th>Open</th>\n",
       "      <th>Quantity</th>\n",
       "      <th>Turnover</th>\n",
       "    </tr>\n",
       "  </thead>\n",
       "  <tbody>\n",
       "    <tr>\n",
       "      <th>406394</th>\n",
       "      <td>2022-01-02</td>\n",
       "      <td>ADBL</td>\n",
       "      <td>411.00</td>\n",
       "      <td>0.24</td>\n",
       "      <td>412.00</td>\n",
       "      <td>400.10</td>\n",
       "      <td>410.00</td>\n",
       "      <td>78,818</td>\n",
       "      <td>32,071,339.80</td>\n",
       "    </tr>\n",
       "    <tr>\n",
       "      <th>407794</th>\n",
       "      <td>2022-01-03</td>\n",
       "      <td>ADBL</td>\n",
       "      <td>415.00</td>\n",
       "      <td>0.97</td>\n",
       "      <td>418.00</td>\n",
       "      <td>412.00</td>\n",
       "      <td>416.00</td>\n",
       "      <td>35,929</td>\n",
       "      <td>14,924,061.50</td>\n",
       "    </tr>\n",
       "    <tr>\n",
       "      <th>408394</th>\n",
       "      <td>2022-01-04</td>\n",
       "      <td>ADBL</td>\n",
       "      <td>422.00</td>\n",
       "      <td>1.69</td>\n",
       "      <td>424.00</td>\n",
       "      <td>410.00</td>\n",
       "      <td>422.00</td>\n",
       "      <td>52,990</td>\n",
       "      <td>22,249,267.50</td>\n",
       "    </tr>\n",
       "    <tr>\n",
       "      <th>408594</th>\n",
       "      <td>2022-01-05</td>\n",
       "      <td>ADBL</td>\n",
       "      <td>419.00</td>\n",
       "      <td>-0.71</td>\n",
       "      <td>430.00</td>\n",
       "      <td>418.00</td>\n",
       "      <td>426.00</td>\n",
       "      <td>45,591</td>\n",
       "      <td>19,202,068.30</td>\n",
       "    </tr>\n",
       "    <tr>\n",
       "      <th>408794</th>\n",
       "      <td>2022-01-06</td>\n",
       "      <td>ADBL</td>\n",
       "      <td>421.00</td>\n",
       "      <td>0.48</td>\n",
       "      <td>422.00</td>\n",
       "      <td>415.50</td>\n",
       "      <td>420.00</td>\n",
       "      <td>37,485</td>\n",
       "      <td>15,665,637.00</td>\n",
       "    </tr>\n",
       "    <tr>\n",
       "      <th>408994</th>\n",
       "      <td>2022-01-09</td>\n",
       "      <td>ADBL</td>\n",
       "      <td>431.00</td>\n",
       "      <td>2.38</td>\n",
       "      <td>434.00</td>\n",
       "      <td>420.00</td>\n",
       "      <td>424.00</td>\n",
       "      <td>79,470</td>\n",
       "      <td>34,177,337.20</td>\n",
       "    </tr>\n",
       "    <tr>\n",
       "      <th>404794</th>\n",
       "      <td>2022-01-10</td>\n",
       "      <td>ADBL</td>\n",
       "      <td>429.00</td>\n",
       "      <td>-0.46</td>\n",
       "      <td>437.50</td>\n",
       "      <td>427.00</td>\n",
       "      <td>435.00</td>\n",
       "      <td>70,123</td>\n",
       "      <td>30,115,309.40</td>\n",
       "    </tr>\n",
       "    <tr>\n",
       "      <th>404994</th>\n",
       "      <td>2022-01-11</td>\n",
       "      <td>ADBL</td>\n",
       "      <td>428.90</td>\n",
       "      <td>-0.02</td>\n",
       "      <td>432.90</td>\n",
       "      <td>426.10</td>\n",
       "      <td>429.50</td>\n",
       "      <td>41,350</td>\n",
       "      <td>17,749,665.30</td>\n",
       "    </tr>\n",
       "    <tr>\n",
       "      <th>405194</th>\n",
       "      <td>2022-01-12</td>\n",
       "      <td>ADBL</td>\n",
       "      <td>424.00</td>\n",
       "      <td>-1.14</td>\n",
       "      <td>435.00</td>\n",
       "      <td>422.00</td>\n",
       "      <td>435.00</td>\n",
       "      <td>39,598</td>\n",
       "      <td>16,913,382.00</td>\n",
       "    </tr>\n",
       "    <tr>\n",
       "      <th>405394</th>\n",
       "      <td>2022-01-13</td>\n",
       "      <td>ADBL</td>\n",
       "      <td>426.90</td>\n",
       "      <td>0.68</td>\n",
       "      <td>426.90</td>\n",
       "      <td>421.50</td>\n",
       "      <td>421.50</td>\n",
       "      <td>37,250</td>\n",
       "      <td>15,789,732.40</td>\n",
       "    </tr>\n",
       "    <tr>\n",
       "      <th>405594</th>\n",
       "      <td>2022-01-16</td>\n",
       "      <td>ADBL</td>\n",
       "      <td>435.00</td>\n",
       "      <td>1.9</td>\n",
       "      <td>437.00</td>\n",
       "      <td>430.10</td>\n",
       "      <td>426.90</td>\n",
       "      <td>63,396</td>\n",
       "      <td>27,521,590.60</td>\n",
       "    </tr>\n",
       "    <tr>\n",
       "      <th>405794</th>\n",
       "      <td>2022-01-17</td>\n",
       "      <td>ADBL</td>\n",
       "      <td>441.00</td>\n",
       "      <td>1.38</td>\n",
       "      <td>442.00</td>\n",
       "      <td>435.00</td>\n",
       "      <td>441.00</td>\n",
       "      <td>50,102</td>\n",
       "      <td>21,983,243.90</td>\n",
       "    </tr>\n",
       "    <tr>\n",
       "      <th>405994</th>\n",
       "      <td>2022-01-18</td>\n",
       "      <td>ADBL</td>\n",
       "      <td>440.00</td>\n",
       "      <td>-0.23</td>\n",
       "      <td>448.00</td>\n",
       "      <td>436.90</td>\n",
       "      <td>441.00</td>\n",
       "      <td>95,284</td>\n",
       "      <td>42,216,372.90</td>\n",
       "    </tr>\n",
       "    <tr>\n",
       "      <th>406194</th>\n",
       "      <td>2022-01-19</td>\n",
       "      <td>ADBL</td>\n",
       "      <td>433.00</td>\n",
       "      <td>-1.59</td>\n",
       "      <td>442.00</td>\n",
       "      <td>426.30</td>\n",
       "      <td>440.00</td>\n",
       "      <td>60,921</td>\n",
       "      <td>26,352,303.20</td>\n",
       "    </tr>\n",
       "    <tr>\n",
       "      <th>406594</th>\n",
       "      <td>2022-01-20</td>\n",
       "      <td>ADBL</td>\n",
       "      <td>433.00</td>\n",
       "      <td>0.0</td>\n",
       "      <td>435.00</td>\n",
       "      <td>427.50</td>\n",
       "      <td>430.00</td>\n",
       "      <td>41,039</td>\n",
       "      <td>17,658,669.90</td>\n",
       "    </tr>\n",
       "    <tr>\n",
       "      <th>406794</th>\n",
       "      <td>2022-01-23</td>\n",
       "      <td>ADBL</td>\n",
       "      <td>430.20</td>\n",
       "      <td>-0.65</td>\n",
       "      <td>441.00</td>\n",
       "      <td>428.00</td>\n",
       "      <td>440.00</td>\n",
       "      <td>42,972</td>\n",
       "      <td>18,568,857.50</td>\n",
       "    </tr>\n",
       "    <tr>\n",
       "      <th>406994</th>\n",
       "      <td>2022-01-24</td>\n",
       "      <td>ADBL</td>\n",
       "      <td>422.00</td>\n",
       "      <td>-1.91</td>\n",
       "      <td>434.00</td>\n",
       "      <td>418.00</td>\n",
       "      <td>434.00</td>\n",
       "      <td>67,946</td>\n",
       "      <td>28,660,971.00</td>\n",
       "    </tr>\n",
       "    <tr>\n",
       "      <th>407194</th>\n",
       "      <td>2022-01-25</td>\n",
       "      <td>ADBL</td>\n",
       "      <td>419.90</td>\n",
       "      <td>-0.5</td>\n",
       "      <td>425.00</td>\n",
       "      <td>415.00</td>\n",
       "      <td>420.00</td>\n",
       "      <td>51,430</td>\n",
       "      <td>21,650,239.00</td>\n",
       "    </tr>\n",
       "    <tr>\n",
       "      <th>407394</th>\n",
       "      <td>2022-01-26</td>\n",
       "      <td>ADBL</td>\n",
       "      <td>416.40</td>\n",
       "      <td>-0.83</td>\n",
       "      <td>420.00</td>\n",
       "      <td>415.00</td>\n",
       "      <td>420.00</td>\n",
       "      <td>27,790</td>\n",
       "      <td>11,568,945.60</td>\n",
       "    </tr>\n",
       "    <tr>\n",
       "      <th>407594</th>\n",
       "      <td>2022-01-27</td>\n",
       "      <td>ADBL</td>\n",
       "      <td>417.00</td>\n",
       "      <td>0.14</td>\n",
       "      <td>423.00</td>\n",
       "      <td>415.00</td>\n",
       "      <td>415.00</td>\n",
       "      <td>21,775</td>\n",
       "      <td>9,106,564.70</td>\n",
       "    </tr>\n",
       "    <tr>\n",
       "      <th>407994</th>\n",
       "      <td>2022-01-30</td>\n",
       "      <td>ADBL</td>\n",
       "      <td>424.70</td>\n",
       "      <td>1.85</td>\n",
       "      <td>432.00</td>\n",
       "      <td>420.10</td>\n",
       "      <td>425.00</td>\n",
       "      <td>39,524</td>\n",
       "      <td>16,780,628.10</td>\n",
       "    </tr>\n",
       "    <tr>\n",
       "      <th>408194</th>\n",
       "      <td>2022-01-31</td>\n",
       "      <td>ADBL</td>\n",
       "      <td>422.00</td>\n",
       "      <td>-0.64</td>\n",
       "      <td>426.00</td>\n",
       "      <td>421.20</td>\n",
       "      <td>426.00</td>\n",
       "      <td>20,348</td>\n",
       "      <td>8,603,029.50</td>\n",
       "    </tr>\n",
       "    <tr>\n",
       "      <th>419194</th>\n",
       "      <td>2022-02-01</td>\n",
       "      <td>ADBL</td>\n",
       "      <td>423.00</td>\n",
       "      <td>0.24</td>\n",
       "      <td>424.00</td>\n",
       "      <td>418.00</td>\n",
       "      <td>420.00</td>\n",
       "      <td>33,761</td>\n",
       "      <td>14,242,566.10</td>\n",
       "    </tr>\n",
       "    <tr>\n",
       "      <th>421994</th>\n",
       "      <td>2022-02-03</td>\n",
       "      <td>ADBL</td>\n",
       "      <td>420.60</td>\n",
       "      <td>-0.57</td>\n",
       "      <td>425.00</td>\n",
       "      <td>420.00</td>\n",
       "      <td>425.00</td>\n",
       "      <td>47,402</td>\n",
       "      <td>20,034,413.90</td>\n",
       "    </tr>\n",
       "    <tr>\n",
       "      <th>422194</th>\n",
       "      <td>2022-02-06</td>\n",
       "      <td>ADBL</td>\n",
       "      <td>418.00</td>\n",
       "      <td>-0.62</td>\n",
       "      <td>422.00</td>\n",
       "      <td>417.00</td>\n",
       "      <td>418.00</td>\n",
       "      <td>33,404</td>\n",
       "      <td>13,980,967.80</td>\n",
       "    </tr>\n",
       "    <tr>\n",
       "      <th>422394</th>\n",
       "      <td>2022-02-07</td>\n",
       "      <td>ADBL</td>\n",
       "      <td>417.00</td>\n",
       "      <td>-0.24</td>\n",
       "      <td>423.00</td>\n",
       "      <td>416.10</td>\n",
       "      <td>416.50</td>\n",
       "      <td>26,388</td>\n",
       "      <td>11,022,862.60</td>\n",
       "    </tr>\n",
       "    <tr>\n",
       "      <th>422594</th>\n",
       "      <td>2022-02-08</td>\n",
       "      <td>ADBL</td>\n",
       "      <td>417.00</td>\n",
       "      <td>0.0</td>\n",
       "      <td>425.00</td>\n",
       "      <td>416.00</td>\n",
       "      <td>423.00</td>\n",
       "      <td>33,948</td>\n",
       "      <td>14,242,320.40</td>\n",
       "    </tr>\n",
       "    <tr>\n",
       "      <th>422794</th>\n",
       "      <td>2022-02-09</td>\n",
       "      <td>ADBL</td>\n",
       "      <td>415.50</td>\n",
       "      <td>-0.36</td>\n",
       "      <td>418.00</td>\n",
       "      <td>413.00</td>\n",
       "      <td>417.00</td>\n",
       "      <td>16,231</td>\n",
       "      <td>6,743,613.00</td>\n",
       "    </tr>\n",
       "    <tr>\n",
       "      <th>419394</th>\n",
       "      <td>2022-02-10</td>\n",
       "      <td>ADBL</td>\n",
       "      <td>414.50</td>\n",
       "      <td>-0.24</td>\n",
       "      <td>422.00</td>\n",
       "      <td>413.00</td>\n",
       "      <td>422.00</td>\n",
       "      <td>20,035</td>\n",
       "      <td>8,301,022.10</td>\n",
       "    </tr>\n",
       "    <tr>\n",
       "      <th>419594</th>\n",
       "      <td>2022-02-13</td>\n",
       "      <td>ADBL</td>\n",
       "      <td>405.50</td>\n",
       "      <td>-2.17</td>\n",
       "      <td>414.00</td>\n",
       "      <td>405.00</td>\n",
       "      <td>406.30</td>\n",
       "      <td>42,697</td>\n",
       "      <td>17,343,445.10</td>\n",
       "    </tr>\n",
       "    <tr>\n",
       "      <th>419794</th>\n",
       "      <td>2022-02-14</td>\n",
       "      <td>ADBL</td>\n",
       "      <td>404.00</td>\n",
       "      <td>-0.37</td>\n",
       "      <td>410.00</td>\n",
       "      <td>403.00</td>\n",
       "      <td>405.00</td>\n",
       "      <td>24,705</td>\n",
       "      <td>10,036,310.20</td>\n",
       "    </tr>\n",
       "    <tr>\n",
       "      <th>419994</th>\n",
       "      <td>2022-02-15</td>\n",
       "      <td>ADBL</td>\n",
       "      <td>407.00</td>\n",
       "      <td>0.74</td>\n",
       "      <td>410.00</td>\n",
       "      <td>403.20</td>\n",
       "      <td>405.00</td>\n",
       "      <td>36,803</td>\n",
       "      <td>14,894,245.90</td>\n",
       "    </tr>\n",
       "    <tr>\n",
       "      <th>420194</th>\n",
       "      <td>2022-02-16</td>\n",
       "      <td>ADBL</td>\n",
       "      <td>406.90</td>\n",
       "      <td>-0.02</td>\n",
       "      <td>415.00</td>\n",
       "      <td>406.00</td>\n",
       "      <td>415.00</td>\n",
       "      <td>17,607</td>\n",
       "      <td>7,173,672.30</td>\n",
       "    </tr>\n",
       "    <tr>\n",
       "      <th>420394</th>\n",
       "      <td>2022-02-17</td>\n",
       "      <td>ADBL</td>\n",
       "      <td>405.00</td>\n",
       "      <td>-0.47</td>\n",
       "      <td>415.00</td>\n",
       "      <td>403.50</td>\n",
       "      <td>415.00</td>\n",
       "      <td>18,795</td>\n",
       "      <td>7,630,343.20</td>\n",
       "    </tr>\n",
       "    <tr>\n",
       "      <th>420594</th>\n",
       "      <td>2022-02-20</td>\n",
       "      <td>ADBL</td>\n",
       "      <td>399.00</td>\n",
       "      <td>-1.48</td>\n",
       "      <td>402.00</td>\n",
       "      <td>395.00</td>\n",
       "      <td>400.00</td>\n",
       "      <td>35,466</td>\n",
       "      <td>14,177,046.70</td>\n",
       "    </tr>\n",
       "    <tr>\n",
       "      <th>420794</th>\n",
       "      <td>2022-02-21</td>\n",
       "      <td>ADBL</td>\n",
       "      <td>402.00</td>\n",
       "      <td>0.75</td>\n",
       "      <td>405.00</td>\n",
       "      <td>398.00</td>\n",
       "      <td>400.00</td>\n",
       "      <td>27,798</td>\n",
       "      <td>11,132,799.40</td>\n",
       "    </tr>\n",
       "    <tr>\n",
       "      <th>420994</th>\n",
       "      <td>2022-02-22</td>\n",
       "      <td>ADBL</td>\n",
       "      <td>404.80</td>\n",
       "      <td>0.7</td>\n",
       "      <td>408.00</td>\n",
       "      <td>402.00</td>\n",
       "      <td>402.00</td>\n",
       "      <td>15,662</td>\n",
       "      <td>6,345,069.60</td>\n",
       "    </tr>\n",
       "    <tr>\n",
       "      <th>421194</th>\n",
       "      <td>2022-02-23</td>\n",
       "      <td>ADBL</td>\n",
       "      <td>400.00</td>\n",
       "      <td>-1.19</td>\n",
       "      <td>406.00</td>\n",
       "      <td>399.90</td>\n",
       "      <td>405.90</td>\n",
       "      <td>35,048</td>\n",
       "      <td>14,076,613.90</td>\n",
       "    </tr>\n",
       "    <tr>\n",
       "      <th>421394</th>\n",
       "      <td>2022-02-24</td>\n",
       "      <td>ADBL</td>\n",
       "      <td>397.00</td>\n",
       "      <td>-0.75</td>\n",
       "      <td>401.00</td>\n",
       "      <td>392.00</td>\n",
       "      <td>401.00</td>\n",
       "      <td>33,591</td>\n",
       "      <td>13,341,064.70</td>\n",
       "    </tr>\n",
       "  </tbody>\n",
       "</table>\n",
       "</div>"
      ],
      "text/plain": [
       "             Date Symbol     LTP %Change    High     Low    Open Quantity  \\\n",
       "406394 2022-01-02   ADBL  411.00    0.24  412.00  400.10  410.00   78,818   \n",
       "407794 2022-01-03   ADBL  415.00    0.97  418.00  412.00  416.00   35,929   \n",
       "408394 2022-01-04   ADBL  422.00    1.69  424.00  410.00  422.00   52,990   \n",
       "408594 2022-01-05   ADBL  419.00   -0.71  430.00  418.00  426.00   45,591   \n",
       "408794 2022-01-06   ADBL  421.00    0.48  422.00  415.50  420.00   37,485   \n",
       "408994 2022-01-09   ADBL  431.00    2.38  434.00  420.00  424.00   79,470   \n",
       "404794 2022-01-10   ADBL  429.00   -0.46  437.50  427.00  435.00   70,123   \n",
       "404994 2022-01-11   ADBL  428.90   -0.02  432.90  426.10  429.50   41,350   \n",
       "405194 2022-01-12   ADBL  424.00   -1.14  435.00  422.00  435.00   39,598   \n",
       "405394 2022-01-13   ADBL  426.90    0.68  426.90  421.50  421.50   37,250   \n",
       "405594 2022-01-16   ADBL  435.00     1.9  437.00  430.10  426.90   63,396   \n",
       "405794 2022-01-17   ADBL  441.00    1.38  442.00  435.00  441.00   50,102   \n",
       "405994 2022-01-18   ADBL  440.00   -0.23  448.00  436.90  441.00   95,284   \n",
       "406194 2022-01-19   ADBL  433.00   -1.59  442.00  426.30  440.00   60,921   \n",
       "406594 2022-01-20   ADBL  433.00     0.0  435.00  427.50  430.00   41,039   \n",
       "406794 2022-01-23   ADBL  430.20   -0.65  441.00  428.00  440.00   42,972   \n",
       "406994 2022-01-24   ADBL  422.00   -1.91  434.00  418.00  434.00   67,946   \n",
       "407194 2022-01-25   ADBL  419.90    -0.5  425.00  415.00  420.00   51,430   \n",
       "407394 2022-01-26   ADBL  416.40   -0.83  420.00  415.00  420.00   27,790   \n",
       "407594 2022-01-27   ADBL  417.00    0.14  423.00  415.00  415.00   21,775   \n",
       "407994 2022-01-30   ADBL  424.70    1.85  432.00  420.10  425.00   39,524   \n",
       "408194 2022-01-31   ADBL  422.00   -0.64  426.00  421.20  426.00   20,348   \n",
       "419194 2022-02-01   ADBL  423.00    0.24  424.00  418.00  420.00   33,761   \n",
       "421994 2022-02-03   ADBL  420.60   -0.57  425.00  420.00  425.00   47,402   \n",
       "422194 2022-02-06   ADBL  418.00   -0.62  422.00  417.00  418.00   33,404   \n",
       "422394 2022-02-07   ADBL  417.00   -0.24  423.00  416.10  416.50   26,388   \n",
       "422594 2022-02-08   ADBL  417.00     0.0  425.00  416.00  423.00   33,948   \n",
       "422794 2022-02-09   ADBL  415.50   -0.36  418.00  413.00  417.00   16,231   \n",
       "419394 2022-02-10   ADBL  414.50   -0.24  422.00  413.00  422.00   20,035   \n",
       "419594 2022-02-13   ADBL  405.50   -2.17  414.00  405.00  406.30   42,697   \n",
       "419794 2022-02-14   ADBL  404.00   -0.37  410.00  403.00  405.00   24,705   \n",
       "419994 2022-02-15   ADBL  407.00    0.74  410.00  403.20  405.00   36,803   \n",
       "420194 2022-02-16   ADBL  406.90   -0.02  415.00  406.00  415.00   17,607   \n",
       "420394 2022-02-17   ADBL  405.00   -0.47  415.00  403.50  415.00   18,795   \n",
       "420594 2022-02-20   ADBL  399.00   -1.48  402.00  395.00  400.00   35,466   \n",
       "420794 2022-02-21   ADBL  402.00    0.75  405.00  398.00  400.00   27,798   \n",
       "420994 2022-02-22   ADBL  404.80     0.7  408.00  402.00  402.00   15,662   \n",
       "421194 2022-02-23   ADBL  400.00   -1.19  406.00  399.90  405.90   35,048   \n",
       "421394 2022-02-24   ADBL  397.00   -0.75  401.00  392.00  401.00   33,591   \n",
       "\n",
       "             Turnover  \n",
       "406394  32,071,339.80  \n",
       "407794  14,924,061.50  \n",
       "408394  22,249,267.50  \n",
       "408594  19,202,068.30  \n",
       "408794  15,665,637.00  \n",
       "408994  34,177,337.20  \n",
       "404794  30,115,309.40  \n",
       "404994  17,749,665.30  \n",
       "405194  16,913,382.00  \n",
       "405394  15,789,732.40  \n",
       "405594  27,521,590.60  \n",
       "405794  21,983,243.90  \n",
       "405994  42,216,372.90  \n",
       "406194  26,352,303.20  \n",
       "406594  17,658,669.90  \n",
       "406794  18,568,857.50  \n",
       "406994  28,660,971.00  \n",
       "407194  21,650,239.00  \n",
       "407394  11,568,945.60  \n",
       "407594   9,106,564.70  \n",
       "407994  16,780,628.10  \n",
       "408194   8,603,029.50  \n",
       "419194  14,242,566.10  \n",
       "421994  20,034,413.90  \n",
       "422194  13,980,967.80  \n",
       "422394  11,022,862.60  \n",
       "422594  14,242,320.40  \n",
       "422794   6,743,613.00  \n",
       "419394   8,301,022.10  \n",
       "419594  17,343,445.10  \n",
       "419794  10,036,310.20  \n",
       "419994  14,894,245.90  \n",
       "420194   7,173,672.30  \n",
       "420394   7,630,343.20  \n",
       "420594  14,177,046.70  \n",
       "420794  11,132,799.40  \n",
       "420994   6,345,069.60  \n",
       "421194  14,076,613.90  \n",
       "421394  13,341,064.70  "
      ]
     },
     "execution_count": 248,
     "metadata": {},
     "output_type": "execute_result"
    }
   ],
   "source": [
    "df"
   ]
  },
  {
   "cell_type": "code",
   "execution_count": 249,
   "metadata": {},
   "outputs": [
    {
     "ename": "TypeError",
     "evalue": "unsupported operand type(s) for /: 'str' and 'str'",
     "output_type": "error",
     "traceback": [
      "\u001b[1;31m---------------------------------------------------------------------------\u001b[0m",
      "\u001b[1;31mTypeError\u001b[0m                                 Traceback (most recent call last)",
      "File \u001b[1;32mc:\\ProgramData\\anaconda3\\lib\\site-packages\\pandas\\core\\ops\\array_ops.py:165\u001b[0m, in \u001b[0;36m_na_arithmetic_op\u001b[1;34m(left, right, op, is_cmp)\u001b[0m\n\u001b[0;32m    164\u001b[0m \u001b[39mtry\u001b[39;00m:\n\u001b[1;32m--> 165\u001b[0m     result \u001b[39m=\u001b[39m func(left, right)\n\u001b[0;32m    166\u001b[0m \u001b[39mexcept\u001b[39;00m \u001b[39mTypeError\u001b[39;00m:\n",
      "File \u001b[1;32mc:\\ProgramData\\anaconda3\\lib\\site-packages\\pandas\\core\\computation\\expressions.py:241\u001b[0m, in \u001b[0;36mevaluate\u001b[1;34m(op, a, b, use_numexpr)\u001b[0m\n\u001b[0;32m    239\u001b[0m     \u001b[39mif\u001b[39;00m use_numexpr:\n\u001b[0;32m    240\u001b[0m         \u001b[39m# error: \"None\" not callable\u001b[39;00m\n\u001b[1;32m--> 241\u001b[0m         \u001b[39mreturn\u001b[39;00m _evaluate(op, op_str, a, b)  \u001b[39m# type: ignore[misc]\u001b[39;00m\n\u001b[0;32m    242\u001b[0m \u001b[39mreturn\u001b[39;00m _evaluate_standard(op, op_str, a, b)\n",
      "File \u001b[1;32mc:\\ProgramData\\anaconda3\\lib\\site-packages\\pandas\\core\\computation\\expressions.py:129\u001b[0m, in \u001b[0;36m_evaluate_numexpr\u001b[1;34m(op, op_str, a, b)\u001b[0m\n\u001b[0;32m    128\u001b[0m \u001b[39mif\u001b[39;00m result \u001b[39mis\u001b[39;00m \u001b[39mNone\u001b[39;00m:\n\u001b[1;32m--> 129\u001b[0m     result \u001b[39m=\u001b[39m _evaluate_standard(op, op_str, a, b)\n\u001b[0;32m    131\u001b[0m \u001b[39mreturn\u001b[39;00m result\n",
      "File \u001b[1;32mc:\\ProgramData\\anaconda3\\lib\\site-packages\\pandas\\core\\computation\\expressions.py:70\u001b[0m, in \u001b[0;36m_evaluate_standard\u001b[1;34m(op, op_str, a, b)\u001b[0m\n\u001b[0;32m     69\u001b[0m     _store_test_result(\u001b[39mFalse\u001b[39;00m)\n\u001b[1;32m---> 70\u001b[0m \u001b[39mreturn\u001b[39;00m op(a, b)\n",
      "\u001b[1;31mTypeError\u001b[0m: unsupported operand type(s) for /: 'str' and 'str'",
      "\nDuring handling of the above exception, another exception occurred:\n",
      "\u001b[1;31mTypeError\u001b[0m                                 Traceback (most recent call last)",
      "Cell \u001b[1;32mIn[249], line 1\u001b[0m\n\u001b[1;32m----> 1\u001b[0m df[\u001b[39m'\u001b[39m\u001b[39mAverage\u001b[39m\u001b[39m'\u001b[39m] \u001b[39m=\u001b[39m pd\u001b[39m.\u001b[39mSeries(df[\u001b[39m'\u001b[39;49m\u001b[39mTurnover\u001b[39;49m\u001b[39m'\u001b[39;49m]\u001b[39m/\u001b[39;49mdf[\u001b[39m'\u001b[39;49m\u001b[39mQuantity\u001b[39;49m\u001b[39m'\u001b[39;49m])\n",
      "File \u001b[1;32mc:\\ProgramData\\anaconda3\\lib\\site-packages\\pandas\\core\\ops\\common.py:72\u001b[0m, in \u001b[0;36m_unpack_zerodim_and_defer.<locals>.new_method\u001b[1;34m(self, other)\u001b[0m\n\u001b[0;32m     68\u001b[0m             \u001b[39mreturn\u001b[39;00m \u001b[39mNotImplemented\u001b[39m\n\u001b[0;32m     70\u001b[0m other \u001b[39m=\u001b[39m item_from_zerodim(other)\n\u001b[1;32m---> 72\u001b[0m \u001b[39mreturn\u001b[39;00m method(\u001b[39mself\u001b[39;49m, other)\n",
      "File \u001b[1;32mc:\\ProgramData\\anaconda3\\lib\\site-packages\\pandas\\core\\arraylike.py:126\u001b[0m, in \u001b[0;36mOpsMixin.__truediv__\u001b[1;34m(self, other)\u001b[0m\n\u001b[0;32m    124\u001b[0m \u001b[39m@unpack_zerodim_and_defer\u001b[39m(\u001b[39m\"\u001b[39m\u001b[39m__truediv__\u001b[39m\u001b[39m\"\u001b[39m)\n\u001b[0;32m    125\u001b[0m \u001b[39mdef\u001b[39;00m \u001b[39m__truediv__\u001b[39m(\u001b[39mself\u001b[39m, other):\n\u001b[1;32m--> 126\u001b[0m     \u001b[39mreturn\u001b[39;00m \u001b[39mself\u001b[39;49m\u001b[39m.\u001b[39;49m_arith_method(other, operator\u001b[39m.\u001b[39;49mtruediv)\n",
      "File \u001b[1;32mc:\\ProgramData\\anaconda3\\lib\\site-packages\\pandas\\core\\series.py:6259\u001b[0m, in \u001b[0;36mSeries._arith_method\u001b[1;34m(self, other, op)\u001b[0m\n\u001b[0;32m   6257\u001b[0m \u001b[39mdef\u001b[39;00m \u001b[39m_arith_method\u001b[39m(\u001b[39mself\u001b[39m, other, op):\n\u001b[0;32m   6258\u001b[0m     \u001b[39mself\u001b[39m, other \u001b[39m=\u001b[39m ops\u001b[39m.\u001b[39malign_method_SERIES(\u001b[39mself\u001b[39m, other)\n\u001b[1;32m-> 6259\u001b[0m     \u001b[39mreturn\u001b[39;00m base\u001b[39m.\u001b[39;49mIndexOpsMixin\u001b[39m.\u001b[39;49m_arith_method(\u001b[39mself\u001b[39;49m, other, op)\n",
      "File \u001b[1;32mc:\\ProgramData\\anaconda3\\lib\\site-packages\\pandas\\core\\base.py:1325\u001b[0m, in \u001b[0;36mIndexOpsMixin._arith_method\u001b[1;34m(self, other, op)\u001b[0m\n\u001b[0;32m   1322\u001b[0m rvalues \u001b[39m=\u001b[39m ensure_wrapped_if_datetimelike(rvalues)\n\u001b[0;32m   1324\u001b[0m \u001b[39mwith\u001b[39;00m np\u001b[39m.\u001b[39merrstate(\u001b[39mall\u001b[39m\u001b[39m=\u001b[39m\u001b[39m\"\u001b[39m\u001b[39mignore\u001b[39m\u001b[39m\"\u001b[39m):\n\u001b[1;32m-> 1325\u001b[0m     result \u001b[39m=\u001b[39m ops\u001b[39m.\u001b[39;49marithmetic_op(lvalues, rvalues, op)\n\u001b[0;32m   1327\u001b[0m \u001b[39mreturn\u001b[39;00m \u001b[39mself\u001b[39m\u001b[39m.\u001b[39m_construct_result(result, name\u001b[39m=\u001b[39mres_name)\n",
      "File \u001b[1;32mc:\\ProgramData\\anaconda3\\lib\\site-packages\\pandas\\core\\ops\\array_ops.py:226\u001b[0m, in \u001b[0;36marithmetic_op\u001b[1;34m(left, right, op)\u001b[0m\n\u001b[0;32m    222\u001b[0m     _bool_arith_check(op, left, right)\n\u001b[0;32m    224\u001b[0m     \u001b[39m# error: Argument 1 to \"_na_arithmetic_op\" has incompatible type\u001b[39;00m\n\u001b[0;32m    225\u001b[0m     \u001b[39m# \"Union[ExtensionArray, ndarray[Any, Any]]\"; expected \"ndarray[Any, Any]\"\u001b[39;00m\n\u001b[1;32m--> 226\u001b[0m     res_values \u001b[39m=\u001b[39m _na_arithmetic_op(left, right, op)  \u001b[39m# type: ignore[arg-type]\u001b[39;00m\n\u001b[0;32m    228\u001b[0m \u001b[39mreturn\u001b[39;00m res_values\n",
      "File \u001b[1;32mc:\\ProgramData\\anaconda3\\lib\\site-packages\\pandas\\core\\ops\\array_ops.py:172\u001b[0m, in \u001b[0;36m_na_arithmetic_op\u001b[1;34m(left, right, op, is_cmp)\u001b[0m\n\u001b[0;32m    166\u001b[0m \u001b[39mexcept\u001b[39;00m \u001b[39mTypeError\u001b[39;00m:\n\u001b[0;32m    167\u001b[0m     \u001b[39mif\u001b[39;00m \u001b[39mnot\u001b[39;00m is_cmp \u001b[39mand\u001b[39;00m (is_object_dtype(left\u001b[39m.\u001b[39mdtype) \u001b[39mor\u001b[39;00m is_object_dtype(right)):\n\u001b[0;32m    168\u001b[0m         \u001b[39m# For object dtype, fallback to a masked operation (only operating\u001b[39;00m\n\u001b[0;32m    169\u001b[0m         \u001b[39m#  on the non-missing values)\u001b[39;00m\n\u001b[0;32m    170\u001b[0m         \u001b[39m# Don't do this for comparisons, as that will handle complex numbers\u001b[39;00m\n\u001b[0;32m    171\u001b[0m         \u001b[39m#  incorrectly, see GH#32047\u001b[39;00m\n\u001b[1;32m--> 172\u001b[0m         result \u001b[39m=\u001b[39m _masked_arith_op(left, right, op)\n\u001b[0;32m    173\u001b[0m     \u001b[39melse\u001b[39;00m:\n\u001b[0;32m    174\u001b[0m         \u001b[39mraise\u001b[39;00m\n",
      "File \u001b[1;32mc:\\ProgramData\\anaconda3\\lib\\site-packages\\pandas\\core\\ops\\array_ops.py:110\u001b[0m, in \u001b[0;36m_masked_arith_op\u001b[1;34m(x, y, op)\u001b[0m\n\u001b[0;32m    108\u001b[0m     \u001b[39m# See GH#5284, GH#5035, GH#19448 for historical reference\u001b[39;00m\n\u001b[0;32m    109\u001b[0m     \u001b[39mif\u001b[39;00m mask\u001b[39m.\u001b[39many():\n\u001b[1;32m--> 110\u001b[0m         result[mask] \u001b[39m=\u001b[39m op(xrav[mask], yrav[mask])\n\u001b[0;32m    112\u001b[0m \u001b[39melse\u001b[39;00m:\n\u001b[0;32m    113\u001b[0m     \u001b[39mif\u001b[39;00m \u001b[39mnot\u001b[39;00m is_scalar(y):\n",
      "\u001b[1;31mTypeError\u001b[0m: unsupported operand type(s) for /: 'str' and 'str'"
     ]
    }
   ],
   "source": [
    "df['Average'] = pd.Series(df['Turnover']/df['Quantity'])"
   ]
  },
  {
   "cell_type": "code",
   "execution_count": null,
   "metadata": {},
   "outputs": [],
   "source": [
    "df.reset_index(inplace=True)"
   ]
  },
  {
   "cell_type": "code",
   "execution_count": null,
   "metadata": {},
   "outputs": [],
   "source": [
    "df.drop('index' , axis = 1, inplace= True) "
   ]
  },
  {
   "cell_type": "code",
   "execution_count": null,
   "metadata": {},
   "outputs": [
    {
     "data": {
      "text/html": [
       "<div>\n",
       "<style scoped>\n",
       "    .dataframe tbody tr th:only-of-type {\n",
       "        vertical-align: middle;\n",
       "    }\n",
       "\n",
       "    .dataframe tbody tr th {\n",
       "        vertical-align: top;\n",
       "    }\n",
       "\n",
       "    .dataframe thead th {\n",
       "        text-align: right;\n",
       "    }\n",
       "</style>\n",
       "<table border=\"1\" class=\"dataframe\">\n",
       "  <thead>\n",
       "    <tr style=\"text-align: right;\">\n",
       "      <th></th>\n",
       "      <th>Date</th>\n",
       "      <th>Symbol</th>\n",
       "      <th>LTP</th>\n",
       "      <th>%Change</th>\n",
       "      <th>High</th>\n",
       "      <th>Low</th>\n",
       "      <th>Open</th>\n",
       "      <th>Quantity</th>\n",
       "      <th>Turnover</th>\n",
       "    </tr>\n",
       "  </thead>\n",
       "  <tbody>\n",
       "    <tr>\n",
       "      <th>0</th>\n",
       "      <td>2022-01-02</td>\n",
       "      <td>ADBL</td>\n",
       "      <td>411.00</td>\n",
       "      <td>0.24</td>\n",
       "      <td>412.00</td>\n",
       "      <td>400.10</td>\n",
       "      <td>410.00</td>\n",
       "      <td>78,818</td>\n",
       "      <td>32,071,339.80</td>\n",
       "    </tr>\n",
       "    <tr>\n",
       "      <th>1</th>\n",
       "      <td>2022-01-03</td>\n",
       "      <td>ADBL</td>\n",
       "      <td>415.00</td>\n",
       "      <td>0.97</td>\n",
       "      <td>418.00</td>\n",
       "      <td>412.00</td>\n",
       "      <td>416.00</td>\n",
       "      <td>35,929</td>\n",
       "      <td>14,924,061.50</td>\n",
       "    </tr>\n",
       "    <tr>\n",
       "      <th>2</th>\n",
       "      <td>2022-01-04</td>\n",
       "      <td>ADBL</td>\n",
       "      <td>422.00</td>\n",
       "      <td>1.69</td>\n",
       "      <td>424.00</td>\n",
       "      <td>410.00</td>\n",
       "      <td>422.00</td>\n",
       "      <td>52,990</td>\n",
       "      <td>22,249,267.50</td>\n",
       "    </tr>\n",
       "    <tr>\n",
       "      <th>3</th>\n",
       "      <td>2022-01-05</td>\n",
       "      <td>ADBL</td>\n",
       "      <td>419.00</td>\n",
       "      <td>-0.71</td>\n",
       "      <td>430.00</td>\n",
       "      <td>418.00</td>\n",
       "      <td>426.00</td>\n",
       "      <td>45,591</td>\n",
       "      <td>19,202,068.30</td>\n",
       "    </tr>\n",
       "    <tr>\n",
       "      <th>4</th>\n",
       "      <td>2022-01-06</td>\n",
       "      <td>ADBL</td>\n",
       "      <td>421.00</td>\n",
       "      <td>0.48</td>\n",
       "      <td>422.00</td>\n",
       "      <td>415.50</td>\n",
       "      <td>420.00</td>\n",
       "      <td>37,485</td>\n",
       "      <td>15,665,637.00</td>\n",
       "    </tr>\n",
       "    <tr>\n",
       "      <th>5</th>\n",
       "      <td>2022-01-09</td>\n",
       "      <td>ADBL</td>\n",
       "      <td>431.00</td>\n",
       "      <td>2.38</td>\n",
       "      <td>434.00</td>\n",
       "      <td>420.00</td>\n",
       "      <td>424.00</td>\n",
       "      <td>79,470</td>\n",
       "      <td>34,177,337.20</td>\n",
       "    </tr>\n",
       "    <tr>\n",
       "      <th>6</th>\n",
       "      <td>2022-01-10</td>\n",
       "      <td>ADBL</td>\n",
       "      <td>429.00</td>\n",
       "      <td>-0.46</td>\n",
       "      <td>437.50</td>\n",
       "      <td>427.00</td>\n",
       "      <td>435.00</td>\n",
       "      <td>70,123</td>\n",
       "      <td>30,115,309.40</td>\n",
       "    </tr>\n",
       "    <tr>\n",
       "      <th>7</th>\n",
       "      <td>2022-01-11</td>\n",
       "      <td>ADBL</td>\n",
       "      <td>428.90</td>\n",
       "      <td>-0.02</td>\n",
       "      <td>432.90</td>\n",
       "      <td>426.10</td>\n",
       "      <td>429.50</td>\n",
       "      <td>41,350</td>\n",
       "      <td>17,749,665.30</td>\n",
       "    </tr>\n",
       "    <tr>\n",
       "      <th>8</th>\n",
       "      <td>2022-01-12</td>\n",
       "      <td>ADBL</td>\n",
       "      <td>424.00</td>\n",
       "      <td>-1.14</td>\n",
       "      <td>435.00</td>\n",
       "      <td>422.00</td>\n",
       "      <td>435.00</td>\n",
       "      <td>39,598</td>\n",
       "      <td>16,913,382.00</td>\n",
       "    </tr>\n",
       "    <tr>\n",
       "      <th>9</th>\n",
       "      <td>2022-01-13</td>\n",
       "      <td>ADBL</td>\n",
       "      <td>426.90</td>\n",
       "      <td>0.68</td>\n",
       "      <td>426.90</td>\n",
       "      <td>421.50</td>\n",
       "      <td>421.50</td>\n",
       "      <td>37,250</td>\n",
       "      <td>15,789,732.40</td>\n",
       "    </tr>\n",
       "    <tr>\n",
       "      <th>10</th>\n",
       "      <td>2022-01-16</td>\n",
       "      <td>ADBL</td>\n",
       "      <td>435.00</td>\n",
       "      <td>1.9</td>\n",
       "      <td>437.00</td>\n",
       "      <td>430.10</td>\n",
       "      <td>426.90</td>\n",
       "      <td>63,396</td>\n",
       "      <td>27,521,590.60</td>\n",
       "    </tr>\n",
       "    <tr>\n",
       "      <th>11</th>\n",
       "      <td>2022-01-17</td>\n",
       "      <td>ADBL</td>\n",
       "      <td>441.00</td>\n",
       "      <td>1.38</td>\n",
       "      <td>442.00</td>\n",
       "      <td>435.00</td>\n",
       "      <td>441.00</td>\n",
       "      <td>50,102</td>\n",
       "      <td>21,983,243.90</td>\n",
       "    </tr>\n",
       "    <tr>\n",
       "      <th>12</th>\n",
       "      <td>2022-01-18</td>\n",
       "      <td>ADBL</td>\n",
       "      <td>440.00</td>\n",
       "      <td>-0.23</td>\n",
       "      <td>448.00</td>\n",
       "      <td>436.90</td>\n",
       "      <td>441.00</td>\n",
       "      <td>95,284</td>\n",
       "      <td>42,216,372.90</td>\n",
       "    </tr>\n",
       "    <tr>\n",
       "      <th>13</th>\n",
       "      <td>2022-01-19</td>\n",
       "      <td>ADBL</td>\n",
       "      <td>433.00</td>\n",
       "      <td>-1.59</td>\n",
       "      <td>442.00</td>\n",
       "      <td>426.30</td>\n",
       "      <td>440.00</td>\n",
       "      <td>60,921</td>\n",
       "      <td>26,352,303.20</td>\n",
       "    </tr>\n",
       "    <tr>\n",
       "      <th>14</th>\n",
       "      <td>2022-01-20</td>\n",
       "      <td>ADBL</td>\n",
       "      <td>433.00</td>\n",
       "      <td>0.0</td>\n",
       "      <td>435.00</td>\n",
       "      <td>427.50</td>\n",
       "      <td>430.00</td>\n",
       "      <td>41,039</td>\n",
       "      <td>17,658,669.90</td>\n",
       "    </tr>\n",
       "    <tr>\n",
       "      <th>15</th>\n",
       "      <td>2022-01-23</td>\n",
       "      <td>ADBL</td>\n",
       "      <td>430.20</td>\n",
       "      <td>-0.65</td>\n",
       "      <td>441.00</td>\n",
       "      <td>428.00</td>\n",
       "      <td>440.00</td>\n",
       "      <td>42,972</td>\n",
       "      <td>18,568,857.50</td>\n",
       "    </tr>\n",
       "    <tr>\n",
       "      <th>16</th>\n",
       "      <td>2022-01-24</td>\n",
       "      <td>ADBL</td>\n",
       "      <td>422.00</td>\n",
       "      <td>-1.91</td>\n",
       "      <td>434.00</td>\n",
       "      <td>418.00</td>\n",
       "      <td>434.00</td>\n",
       "      <td>67,946</td>\n",
       "      <td>28,660,971.00</td>\n",
       "    </tr>\n",
       "    <tr>\n",
       "      <th>17</th>\n",
       "      <td>2022-01-25</td>\n",
       "      <td>ADBL</td>\n",
       "      <td>419.90</td>\n",
       "      <td>-0.5</td>\n",
       "      <td>425.00</td>\n",
       "      <td>415.00</td>\n",
       "      <td>420.00</td>\n",
       "      <td>51,430</td>\n",
       "      <td>21,650,239.00</td>\n",
       "    </tr>\n",
       "    <tr>\n",
       "      <th>18</th>\n",
       "      <td>2022-01-26</td>\n",
       "      <td>ADBL</td>\n",
       "      <td>416.40</td>\n",
       "      <td>-0.83</td>\n",
       "      <td>420.00</td>\n",
       "      <td>415.00</td>\n",
       "      <td>420.00</td>\n",
       "      <td>27,790</td>\n",
       "      <td>11,568,945.60</td>\n",
       "    </tr>\n",
       "    <tr>\n",
       "      <th>19</th>\n",
       "      <td>2022-01-27</td>\n",
       "      <td>ADBL</td>\n",
       "      <td>417.00</td>\n",
       "      <td>0.14</td>\n",
       "      <td>423.00</td>\n",
       "      <td>415.00</td>\n",
       "      <td>415.00</td>\n",
       "      <td>21,775</td>\n",
       "      <td>9,106,564.70</td>\n",
       "    </tr>\n",
       "    <tr>\n",
       "      <th>20</th>\n",
       "      <td>2022-01-30</td>\n",
       "      <td>ADBL</td>\n",
       "      <td>424.70</td>\n",
       "      <td>1.85</td>\n",
       "      <td>432.00</td>\n",
       "      <td>420.10</td>\n",
       "      <td>425.00</td>\n",
       "      <td>39,524</td>\n",
       "      <td>16,780,628.10</td>\n",
       "    </tr>\n",
       "    <tr>\n",
       "      <th>21</th>\n",
       "      <td>2022-01-31</td>\n",
       "      <td>ADBL</td>\n",
       "      <td>422.00</td>\n",
       "      <td>-0.64</td>\n",
       "      <td>426.00</td>\n",
       "      <td>421.20</td>\n",
       "      <td>426.00</td>\n",
       "      <td>20,348</td>\n",
       "      <td>8,603,029.50</td>\n",
       "    </tr>\n",
       "    <tr>\n",
       "      <th>22</th>\n",
       "      <td>2022-02-01</td>\n",
       "      <td>ADBL</td>\n",
       "      <td>423.00</td>\n",
       "      <td>0.24</td>\n",
       "      <td>424.00</td>\n",
       "      <td>418.00</td>\n",
       "      <td>420.00</td>\n",
       "      <td>33,761</td>\n",
       "      <td>14,242,566.10</td>\n",
       "    </tr>\n",
       "    <tr>\n",
       "      <th>23</th>\n",
       "      <td>2022-02-03</td>\n",
       "      <td>ADBL</td>\n",
       "      <td>420.60</td>\n",
       "      <td>-0.57</td>\n",
       "      <td>425.00</td>\n",
       "      <td>420.00</td>\n",
       "      <td>425.00</td>\n",
       "      <td>47,402</td>\n",
       "      <td>20,034,413.90</td>\n",
       "    </tr>\n",
       "    <tr>\n",
       "      <th>24</th>\n",
       "      <td>2022-02-06</td>\n",
       "      <td>ADBL</td>\n",
       "      <td>418.00</td>\n",
       "      <td>-0.62</td>\n",
       "      <td>422.00</td>\n",
       "      <td>417.00</td>\n",
       "      <td>418.00</td>\n",
       "      <td>33,404</td>\n",
       "      <td>13,980,967.80</td>\n",
       "    </tr>\n",
       "    <tr>\n",
       "      <th>25</th>\n",
       "      <td>2022-02-07</td>\n",
       "      <td>ADBL</td>\n",
       "      <td>417.00</td>\n",
       "      <td>-0.24</td>\n",
       "      <td>423.00</td>\n",
       "      <td>416.10</td>\n",
       "      <td>416.50</td>\n",
       "      <td>26,388</td>\n",
       "      <td>11,022,862.60</td>\n",
       "    </tr>\n",
       "    <tr>\n",
       "      <th>26</th>\n",
       "      <td>2022-02-08</td>\n",
       "      <td>ADBL</td>\n",
       "      <td>417.00</td>\n",
       "      <td>0.0</td>\n",
       "      <td>425.00</td>\n",
       "      <td>416.00</td>\n",
       "      <td>423.00</td>\n",
       "      <td>33,948</td>\n",
       "      <td>14,242,320.40</td>\n",
       "    </tr>\n",
       "    <tr>\n",
       "      <th>27</th>\n",
       "      <td>2022-02-09</td>\n",
       "      <td>ADBL</td>\n",
       "      <td>415.50</td>\n",
       "      <td>-0.36</td>\n",
       "      <td>418.00</td>\n",
       "      <td>413.00</td>\n",
       "      <td>417.00</td>\n",
       "      <td>16,231</td>\n",
       "      <td>6,743,613.00</td>\n",
       "    </tr>\n",
       "    <tr>\n",
       "      <th>28</th>\n",
       "      <td>2022-02-10</td>\n",
       "      <td>ADBL</td>\n",
       "      <td>414.50</td>\n",
       "      <td>-0.24</td>\n",
       "      <td>422.00</td>\n",
       "      <td>413.00</td>\n",
       "      <td>422.00</td>\n",
       "      <td>20,035</td>\n",
       "      <td>8,301,022.10</td>\n",
       "    </tr>\n",
       "    <tr>\n",
       "      <th>29</th>\n",
       "      <td>2022-02-13</td>\n",
       "      <td>ADBL</td>\n",
       "      <td>405.50</td>\n",
       "      <td>-2.17</td>\n",
       "      <td>414.00</td>\n",
       "      <td>405.00</td>\n",
       "      <td>406.30</td>\n",
       "      <td>42,697</td>\n",
       "      <td>17,343,445.10</td>\n",
       "    </tr>\n",
       "    <tr>\n",
       "      <th>30</th>\n",
       "      <td>2022-02-14</td>\n",
       "      <td>ADBL</td>\n",
       "      <td>404.00</td>\n",
       "      <td>-0.37</td>\n",
       "      <td>410.00</td>\n",
       "      <td>403.00</td>\n",
       "      <td>405.00</td>\n",
       "      <td>24,705</td>\n",
       "      <td>10,036,310.20</td>\n",
       "    </tr>\n",
       "    <tr>\n",
       "      <th>31</th>\n",
       "      <td>2022-02-15</td>\n",
       "      <td>ADBL</td>\n",
       "      <td>407.00</td>\n",
       "      <td>0.74</td>\n",
       "      <td>410.00</td>\n",
       "      <td>403.20</td>\n",
       "      <td>405.00</td>\n",
       "      <td>36,803</td>\n",
       "      <td>14,894,245.90</td>\n",
       "    </tr>\n",
       "    <tr>\n",
       "      <th>32</th>\n",
       "      <td>2022-02-16</td>\n",
       "      <td>ADBL</td>\n",
       "      <td>406.90</td>\n",
       "      <td>-0.02</td>\n",
       "      <td>415.00</td>\n",
       "      <td>406.00</td>\n",
       "      <td>415.00</td>\n",
       "      <td>17,607</td>\n",
       "      <td>7,173,672.30</td>\n",
       "    </tr>\n",
       "    <tr>\n",
       "      <th>33</th>\n",
       "      <td>2022-02-17</td>\n",
       "      <td>ADBL</td>\n",
       "      <td>405.00</td>\n",
       "      <td>-0.47</td>\n",
       "      <td>415.00</td>\n",
       "      <td>403.50</td>\n",
       "      <td>415.00</td>\n",
       "      <td>18,795</td>\n",
       "      <td>7,630,343.20</td>\n",
       "    </tr>\n",
       "    <tr>\n",
       "      <th>34</th>\n",
       "      <td>2022-02-20</td>\n",
       "      <td>ADBL</td>\n",
       "      <td>399.00</td>\n",
       "      <td>-1.48</td>\n",
       "      <td>402.00</td>\n",
       "      <td>395.00</td>\n",
       "      <td>400.00</td>\n",
       "      <td>35,466</td>\n",
       "      <td>14,177,046.70</td>\n",
       "    </tr>\n",
       "    <tr>\n",
       "      <th>35</th>\n",
       "      <td>2022-02-21</td>\n",
       "      <td>ADBL</td>\n",
       "      <td>402.00</td>\n",
       "      <td>0.75</td>\n",
       "      <td>405.00</td>\n",
       "      <td>398.00</td>\n",
       "      <td>400.00</td>\n",
       "      <td>27,798</td>\n",
       "      <td>11,132,799.40</td>\n",
       "    </tr>\n",
       "    <tr>\n",
       "      <th>36</th>\n",
       "      <td>2022-02-22</td>\n",
       "      <td>ADBL</td>\n",
       "      <td>404.80</td>\n",
       "      <td>0.7</td>\n",
       "      <td>408.00</td>\n",
       "      <td>402.00</td>\n",
       "      <td>402.00</td>\n",
       "      <td>15,662</td>\n",
       "      <td>6,345,069.60</td>\n",
       "    </tr>\n",
       "    <tr>\n",
       "      <th>37</th>\n",
       "      <td>2022-02-23</td>\n",
       "      <td>ADBL</td>\n",
       "      <td>400.00</td>\n",
       "      <td>-1.19</td>\n",
       "      <td>406.00</td>\n",
       "      <td>399.90</td>\n",
       "      <td>405.90</td>\n",
       "      <td>35,048</td>\n",
       "      <td>14,076,613.90</td>\n",
       "    </tr>\n",
       "    <tr>\n",
       "      <th>38</th>\n",
       "      <td>2022-02-24</td>\n",
       "      <td>ADBL</td>\n",
       "      <td>397.00</td>\n",
       "      <td>-0.75</td>\n",
       "      <td>401.00</td>\n",
       "      <td>392.00</td>\n",
       "      <td>401.00</td>\n",
       "      <td>33,591</td>\n",
       "      <td>13,341,064.70</td>\n",
       "    </tr>\n",
       "  </tbody>\n",
       "</table>\n",
       "</div>"
      ],
      "text/plain": [
       "         Date Symbol     LTP %Change    High     Low    Open Quantity  \\\n",
       "0  2022-01-02   ADBL  411.00    0.24  412.00  400.10  410.00   78,818   \n",
       "1  2022-01-03   ADBL  415.00    0.97  418.00  412.00  416.00   35,929   \n",
       "2  2022-01-04   ADBL  422.00    1.69  424.00  410.00  422.00   52,990   \n",
       "3  2022-01-05   ADBL  419.00   -0.71  430.00  418.00  426.00   45,591   \n",
       "4  2022-01-06   ADBL  421.00    0.48  422.00  415.50  420.00   37,485   \n",
       "5  2022-01-09   ADBL  431.00    2.38  434.00  420.00  424.00   79,470   \n",
       "6  2022-01-10   ADBL  429.00   -0.46  437.50  427.00  435.00   70,123   \n",
       "7  2022-01-11   ADBL  428.90   -0.02  432.90  426.10  429.50   41,350   \n",
       "8  2022-01-12   ADBL  424.00   -1.14  435.00  422.00  435.00   39,598   \n",
       "9  2022-01-13   ADBL  426.90    0.68  426.90  421.50  421.50   37,250   \n",
       "10 2022-01-16   ADBL  435.00     1.9  437.00  430.10  426.90   63,396   \n",
       "11 2022-01-17   ADBL  441.00    1.38  442.00  435.00  441.00   50,102   \n",
       "12 2022-01-18   ADBL  440.00   -0.23  448.00  436.90  441.00   95,284   \n",
       "13 2022-01-19   ADBL  433.00   -1.59  442.00  426.30  440.00   60,921   \n",
       "14 2022-01-20   ADBL  433.00     0.0  435.00  427.50  430.00   41,039   \n",
       "15 2022-01-23   ADBL  430.20   -0.65  441.00  428.00  440.00   42,972   \n",
       "16 2022-01-24   ADBL  422.00   -1.91  434.00  418.00  434.00   67,946   \n",
       "17 2022-01-25   ADBL  419.90    -0.5  425.00  415.00  420.00   51,430   \n",
       "18 2022-01-26   ADBL  416.40   -0.83  420.00  415.00  420.00   27,790   \n",
       "19 2022-01-27   ADBL  417.00    0.14  423.00  415.00  415.00   21,775   \n",
       "20 2022-01-30   ADBL  424.70    1.85  432.00  420.10  425.00   39,524   \n",
       "21 2022-01-31   ADBL  422.00   -0.64  426.00  421.20  426.00   20,348   \n",
       "22 2022-02-01   ADBL  423.00    0.24  424.00  418.00  420.00   33,761   \n",
       "23 2022-02-03   ADBL  420.60   -0.57  425.00  420.00  425.00   47,402   \n",
       "24 2022-02-06   ADBL  418.00   -0.62  422.00  417.00  418.00   33,404   \n",
       "25 2022-02-07   ADBL  417.00   -0.24  423.00  416.10  416.50   26,388   \n",
       "26 2022-02-08   ADBL  417.00     0.0  425.00  416.00  423.00   33,948   \n",
       "27 2022-02-09   ADBL  415.50   -0.36  418.00  413.00  417.00   16,231   \n",
       "28 2022-02-10   ADBL  414.50   -0.24  422.00  413.00  422.00   20,035   \n",
       "29 2022-02-13   ADBL  405.50   -2.17  414.00  405.00  406.30   42,697   \n",
       "30 2022-02-14   ADBL  404.00   -0.37  410.00  403.00  405.00   24,705   \n",
       "31 2022-02-15   ADBL  407.00    0.74  410.00  403.20  405.00   36,803   \n",
       "32 2022-02-16   ADBL  406.90   -0.02  415.00  406.00  415.00   17,607   \n",
       "33 2022-02-17   ADBL  405.00   -0.47  415.00  403.50  415.00   18,795   \n",
       "34 2022-02-20   ADBL  399.00   -1.48  402.00  395.00  400.00   35,466   \n",
       "35 2022-02-21   ADBL  402.00    0.75  405.00  398.00  400.00   27,798   \n",
       "36 2022-02-22   ADBL  404.80     0.7  408.00  402.00  402.00   15,662   \n",
       "37 2022-02-23   ADBL  400.00   -1.19  406.00  399.90  405.90   35,048   \n",
       "38 2022-02-24   ADBL  397.00   -0.75  401.00  392.00  401.00   33,591   \n",
       "\n",
       "         Turnover  \n",
       "0   32,071,339.80  \n",
       "1   14,924,061.50  \n",
       "2   22,249,267.50  \n",
       "3   19,202,068.30  \n",
       "4   15,665,637.00  \n",
       "5   34,177,337.20  \n",
       "6   30,115,309.40  \n",
       "7   17,749,665.30  \n",
       "8   16,913,382.00  \n",
       "9   15,789,732.40  \n",
       "10  27,521,590.60  \n",
       "11  21,983,243.90  \n",
       "12  42,216,372.90  \n",
       "13  26,352,303.20  \n",
       "14  17,658,669.90  \n",
       "15  18,568,857.50  \n",
       "16  28,660,971.00  \n",
       "17  21,650,239.00  \n",
       "18  11,568,945.60  \n",
       "19   9,106,564.70  \n",
       "20  16,780,628.10  \n",
       "21   8,603,029.50  \n",
       "22  14,242,566.10  \n",
       "23  20,034,413.90  \n",
       "24  13,980,967.80  \n",
       "25  11,022,862.60  \n",
       "26  14,242,320.40  \n",
       "27   6,743,613.00  \n",
       "28   8,301,022.10  \n",
       "29  17,343,445.10  \n",
       "30  10,036,310.20  \n",
       "31  14,894,245.90  \n",
       "32   7,173,672.30  \n",
       "33   7,630,343.20  \n",
       "34  14,177,046.70  \n",
       "35  11,132,799.40  \n",
       "36   6,345,069.60  \n",
       "37  14,076,613.90  \n",
       "38  13,341,064.70  "
      ]
     },
     "execution_count": 236,
     "metadata": {},
     "output_type": "execute_result"
    }
   ],
   "source": [
    "df"
   ]
  },
  {
   "cell_type": "code",
   "execution_count": null,
   "metadata": {},
   "outputs": [
    {
     "data": {
      "application/vnd.plotly.v1+json": {
       "config": {
        "plotlyServerURL": "https://plot.ly"
       },
       "data": [
        {
         "hovertemplate": "Date=%{x}<br>LTP=%{y}<extra></extra>",
         "legendgroup": "",
         "line": {
          "color": "#636efa",
          "dash": "solid"
         },
         "marker": {
          "symbol": "circle"
         },
         "mode": "lines",
         "name": "",
         "orientation": "v",
         "showlegend": false,
         "type": "scatter",
         "x": [
          "2022-01-02T00:00:00",
          "2022-01-03T00:00:00",
          "2022-01-04T00:00:00",
          "2022-01-05T00:00:00",
          "2022-01-06T00:00:00",
          "2022-01-09T00:00:00",
          "2022-01-10T00:00:00",
          "2022-01-11T00:00:00",
          "2022-01-12T00:00:00",
          "2022-01-13T00:00:00",
          "2022-01-16T00:00:00",
          "2022-01-17T00:00:00",
          "2022-01-18T00:00:00",
          "2022-01-19T00:00:00",
          "2022-01-20T00:00:00",
          "2022-01-23T00:00:00",
          "2022-01-24T00:00:00",
          "2022-01-25T00:00:00",
          "2022-01-26T00:00:00",
          "2022-01-27T00:00:00",
          "2022-01-30T00:00:00",
          "2022-01-31T00:00:00",
          "2022-02-01T00:00:00",
          "2022-02-03T00:00:00",
          "2022-02-06T00:00:00",
          "2022-02-07T00:00:00",
          "2022-02-08T00:00:00",
          "2022-02-09T00:00:00",
          "2022-02-10T00:00:00",
          "2022-02-13T00:00:00",
          "2022-02-14T00:00:00",
          "2022-02-15T00:00:00",
          "2022-02-16T00:00:00",
          "2022-02-17T00:00:00",
          "2022-02-20T00:00:00",
          "2022-02-21T00:00:00",
          "2022-02-22T00:00:00",
          "2022-02-23T00:00:00",
          "2022-02-24T00:00:00"
         ],
         "xaxis": "x",
         "y": [
          "411.00",
          "415.00",
          "422.00",
          "419.00",
          "421.00",
          "431.00",
          "429.00",
          "428.90",
          "424.00",
          "426.90",
          "435.00",
          "441.00",
          "440.00",
          "433.00",
          "433.00",
          "430.20",
          "422.00",
          "419.90",
          "416.40",
          "417.00",
          "424.70",
          "422.00",
          "423.00",
          "420.60",
          "418.00",
          "417.00",
          "417.00",
          "415.50",
          "414.50",
          "405.50",
          "404.00",
          "407.00",
          "406.90",
          "405.00",
          "399.00",
          "402.00",
          "404.80",
          "400.00",
          "397.00"
         ],
         "yaxis": "y"
        }
       ],
       "layout": {
        "height": 400,
        "legend": {
         "tracegroupgap": 0
        },
        "template": {
         "data": {
          "bar": [
           {
            "error_x": {
             "color": "#2a3f5f"
            },
            "error_y": {
             "color": "#2a3f5f"
            },
            "marker": {
             "line": {
              "color": "#E5ECF6",
              "width": 0.5
             },
             "pattern": {
              "fillmode": "overlay",
              "size": 10,
              "solidity": 0.2
             }
            },
            "type": "bar"
           }
          ],
          "barpolar": [
           {
            "marker": {
             "line": {
              "color": "#E5ECF6",
              "width": 0.5
             },
             "pattern": {
              "fillmode": "overlay",
              "size": 10,
              "solidity": 0.2
             }
            },
            "type": "barpolar"
           }
          ],
          "carpet": [
           {
            "aaxis": {
             "endlinecolor": "#2a3f5f",
             "gridcolor": "white",
             "linecolor": "white",
             "minorgridcolor": "white",
             "startlinecolor": "#2a3f5f"
            },
            "baxis": {
             "endlinecolor": "#2a3f5f",
             "gridcolor": "white",
             "linecolor": "white",
             "minorgridcolor": "white",
             "startlinecolor": "#2a3f5f"
            },
            "type": "carpet"
           }
          ],
          "choropleth": [
           {
            "colorbar": {
             "outlinewidth": 0,
             "ticks": ""
            },
            "type": "choropleth"
           }
          ],
          "contour": [
           {
            "colorbar": {
             "outlinewidth": 0,
             "ticks": ""
            },
            "colorscale": [
             [
              0,
              "#0d0887"
             ],
             [
              0.1111111111111111,
              "#46039f"
             ],
             [
              0.2222222222222222,
              "#7201a8"
             ],
             [
              0.3333333333333333,
              "#9c179e"
             ],
             [
              0.4444444444444444,
              "#bd3786"
             ],
             [
              0.5555555555555556,
              "#d8576b"
             ],
             [
              0.6666666666666666,
              "#ed7953"
             ],
             [
              0.7777777777777778,
              "#fb9f3a"
             ],
             [
              0.8888888888888888,
              "#fdca26"
             ],
             [
              1,
              "#f0f921"
             ]
            ],
            "type": "contour"
           }
          ],
          "contourcarpet": [
           {
            "colorbar": {
             "outlinewidth": 0,
             "ticks": ""
            },
            "type": "contourcarpet"
           }
          ],
          "heatmap": [
           {
            "colorbar": {
             "outlinewidth": 0,
             "ticks": ""
            },
            "colorscale": [
             [
              0,
              "#0d0887"
             ],
             [
              0.1111111111111111,
              "#46039f"
             ],
             [
              0.2222222222222222,
              "#7201a8"
             ],
             [
              0.3333333333333333,
              "#9c179e"
             ],
             [
              0.4444444444444444,
              "#bd3786"
             ],
             [
              0.5555555555555556,
              "#d8576b"
             ],
             [
              0.6666666666666666,
              "#ed7953"
             ],
             [
              0.7777777777777778,
              "#fb9f3a"
             ],
             [
              0.8888888888888888,
              "#fdca26"
             ],
             [
              1,
              "#f0f921"
             ]
            ],
            "type": "heatmap"
           }
          ],
          "heatmapgl": [
           {
            "colorbar": {
             "outlinewidth": 0,
             "ticks": ""
            },
            "colorscale": [
             [
              0,
              "#0d0887"
             ],
             [
              0.1111111111111111,
              "#46039f"
             ],
             [
              0.2222222222222222,
              "#7201a8"
             ],
             [
              0.3333333333333333,
              "#9c179e"
             ],
             [
              0.4444444444444444,
              "#bd3786"
             ],
             [
              0.5555555555555556,
              "#d8576b"
             ],
             [
              0.6666666666666666,
              "#ed7953"
             ],
             [
              0.7777777777777778,
              "#fb9f3a"
             ],
             [
              0.8888888888888888,
              "#fdca26"
             ],
             [
              1,
              "#f0f921"
             ]
            ],
            "type": "heatmapgl"
           }
          ],
          "histogram": [
           {
            "marker": {
             "pattern": {
              "fillmode": "overlay",
              "size": 10,
              "solidity": 0.2
             }
            },
            "type": "histogram"
           }
          ],
          "histogram2d": [
           {
            "colorbar": {
             "outlinewidth": 0,
             "ticks": ""
            },
            "colorscale": [
             [
              0,
              "#0d0887"
             ],
             [
              0.1111111111111111,
              "#46039f"
             ],
             [
              0.2222222222222222,
              "#7201a8"
             ],
             [
              0.3333333333333333,
              "#9c179e"
             ],
             [
              0.4444444444444444,
              "#bd3786"
             ],
             [
              0.5555555555555556,
              "#d8576b"
             ],
             [
              0.6666666666666666,
              "#ed7953"
             ],
             [
              0.7777777777777778,
              "#fb9f3a"
             ],
             [
              0.8888888888888888,
              "#fdca26"
             ],
             [
              1,
              "#f0f921"
             ]
            ],
            "type": "histogram2d"
           }
          ],
          "histogram2dcontour": [
           {
            "colorbar": {
             "outlinewidth": 0,
             "ticks": ""
            },
            "colorscale": [
             [
              0,
              "#0d0887"
             ],
             [
              0.1111111111111111,
              "#46039f"
             ],
             [
              0.2222222222222222,
              "#7201a8"
             ],
             [
              0.3333333333333333,
              "#9c179e"
             ],
             [
              0.4444444444444444,
              "#bd3786"
             ],
             [
              0.5555555555555556,
              "#d8576b"
             ],
             [
              0.6666666666666666,
              "#ed7953"
             ],
             [
              0.7777777777777778,
              "#fb9f3a"
             ],
             [
              0.8888888888888888,
              "#fdca26"
             ],
             [
              1,
              "#f0f921"
             ]
            ],
            "type": "histogram2dcontour"
           }
          ],
          "mesh3d": [
           {
            "colorbar": {
             "outlinewidth": 0,
             "ticks": ""
            },
            "type": "mesh3d"
           }
          ],
          "parcoords": [
           {
            "line": {
             "colorbar": {
              "outlinewidth": 0,
              "ticks": ""
             }
            },
            "type": "parcoords"
           }
          ],
          "pie": [
           {
            "automargin": true,
            "type": "pie"
           }
          ],
          "scatter": [
           {
            "fillpattern": {
             "fillmode": "overlay",
             "size": 10,
             "solidity": 0.2
            },
            "type": "scatter"
           }
          ],
          "scatter3d": [
           {
            "line": {
             "colorbar": {
              "outlinewidth": 0,
              "ticks": ""
             }
            },
            "marker": {
             "colorbar": {
              "outlinewidth": 0,
              "ticks": ""
             }
            },
            "type": "scatter3d"
           }
          ],
          "scattercarpet": [
           {
            "marker": {
             "colorbar": {
              "outlinewidth": 0,
              "ticks": ""
             }
            },
            "type": "scattercarpet"
           }
          ],
          "scattergeo": [
           {
            "marker": {
             "colorbar": {
              "outlinewidth": 0,
              "ticks": ""
             }
            },
            "type": "scattergeo"
           }
          ],
          "scattergl": [
           {
            "marker": {
             "colorbar": {
              "outlinewidth": 0,
              "ticks": ""
             }
            },
            "type": "scattergl"
           }
          ],
          "scattermapbox": [
           {
            "marker": {
             "colorbar": {
              "outlinewidth": 0,
              "ticks": ""
             }
            },
            "type": "scattermapbox"
           }
          ],
          "scatterpolar": [
           {
            "marker": {
             "colorbar": {
              "outlinewidth": 0,
              "ticks": ""
             }
            },
            "type": "scatterpolar"
           }
          ],
          "scatterpolargl": [
           {
            "marker": {
             "colorbar": {
              "outlinewidth": 0,
              "ticks": ""
             }
            },
            "type": "scatterpolargl"
           }
          ],
          "scatterternary": [
           {
            "marker": {
             "colorbar": {
              "outlinewidth": 0,
              "ticks": ""
             }
            },
            "type": "scatterternary"
           }
          ],
          "surface": [
           {
            "colorbar": {
             "outlinewidth": 0,
             "ticks": ""
            },
            "colorscale": [
             [
              0,
              "#0d0887"
             ],
             [
              0.1111111111111111,
              "#46039f"
             ],
             [
              0.2222222222222222,
              "#7201a8"
             ],
             [
              0.3333333333333333,
              "#9c179e"
             ],
             [
              0.4444444444444444,
              "#bd3786"
             ],
             [
              0.5555555555555556,
              "#d8576b"
             ],
             [
              0.6666666666666666,
              "#ed7953"
             ],
             [
              0.7777777777777778,
              "#fb9f3a"
             ],
             [
              0.8888888888888888,
              "#fdca26"
             ],
             [
              1,
              "#f0f921"
             ]
            ],
            "type": "surface"
           }
          ],
          "table": [
           {
            "cells": {
             "fill": {
              "color": "#EBF0F8"
             },
             "line": {
              "color": "white"
             }
            },
            "header": {
             "fill": {
              "color": "#C8D4E3"
             },
             "line": {
              "color": "white"
             }
            },
            "type": "table"
           }
          ]
         },
         "layout": {
          "annotationdefaults": {
           "arrowcolor": "#2a3f5f",
           "arrowhead": 0,
           "arrowwidth": 1
          },
          "autotypenumbers": "strict",
          "coloraxis": {
           "colorbar": {
            "outlinewidth": 0,
            "ticks": ""
           }
          },
          "colorscale": {
           "diverging": [
            [
             0,
             "#8e0152"
            ],
            [
             0.1,
             "#c51b7d"
            ],
            [
             0.2,
             "#de77ae"
            ],
            [
             0.3,
             "#f1b6da"
            ],
            [
             0.4,
             "#fde0ef"
            ],
            [
             0.5,
             "#f7f7f7"
            ],
            [
             0.6,
             "#e6f5d0"
            ],
            [
             0.7,
             "#b8e186"
            ],
            [
             0.8,
             "#7fbc41"
            ],
            [
             0.9,
             "#4d9221"
            ],
            [
             1,
             "#276419"
            ]
           ],
           "sequential": [
            [
             0,
             "#0d0887"
            ],
            [
             0.1111111111111111,
             "#46039f"
            ],
            [
             0.2222222222222222,
             "#7201a8"
            ],
            [
             0.3333333333333333,
             "#9c179e"
            ],
            [
             0.4444444444444444,
             "#bd3786"
            ],
            [
             0.5555555555555556,
             "#d8576b"
            ],
            [
             0.6666666666666666,
             "#ed7953"
            ],
            [
             0.7777777777777778,
             "#fb9f3a"
            ],
            [
             0.8888888888888888,
             "#fdca26"
            ],
            [
             1,
             "#f0f921"
            ]
           ],
           "sequentialminus": [
            [
             0,
             "#0d0887"
            ],
            [
             0.1111111111111111,
             "#46039f"
            ],
            [
             0.2222222222222222,
             "#7201a8"
            ],
            [
             0.3333333333333333,
             "#9c179e"
            ],
            [
             0.4444444444444444,
             "#bd3786"
            ],
            [
             0.5555555555555556,
             "#d8576b"
            ],
            [
             0.6666666666666666,
             "#ed7953"
            ],
            [
             0.7777777777777778,
             "#fb9f3a"
            ],
            [
             0.8888888888888888,
             "#fdca26"
            ],
            [
             1,
             "#f0f921"
            ]
           ]
          },
          "colorway": [
           "#636efa",
           "#EF553B",
           "#00cc96",
           "#ab63fa",
           "#FFA15A",
           "#19d3f3",
           "#FF6692",
           "#B6E880",
           "#FF97FF",
           "#FECB52"
          ],
          "font": {
           "color": "#2a3f5f"
          },
          "geo": {
           "bgcolor": "white",
           "lakecolor": "white",
           "landcolor": "#E5ECF6",
           "showlakes": true,
           "showland": true,
           "subunitcolor": "white"
          },
          "hoverlabel": {
           "align": "left"
          },
          "hovermode": "closest",
          "mapbox": {
           "style": "light"
          },
          "paper_bgcolor": "white",
          "plot_bgcolor": "#E5ECF6",
          "polar": {
           "angularaxis": {
            "gridcolor": "white",
            "linecolor": "white",
            "ticks": ""
           },
           "bgcolor": "#E5ECF6",
           "radialaxis": {
            "gridcolor": "white",
            "linecolor": "white",
            "ticks": ""
           }
          },
          "scene": {
           "xaxis": {
            "backgroundcolor": "#E5ECF6",
            "gridcolor": "white",
            "gridwidth": 2,
            "linecolor": "white",
            "showbackground": true,
            "ticks": "",
            "zerolinecolor": "white"
           },
           "yaxis": {
            "backgroundcolor": "#E5ECF6",
            "gridcolor": "white",
            "gridwidth": 2,
            "linecolor": "white",
            "showbackground": true,
            "ticks": "",
            "zerolinecolor": "white"
           },
           "zaxis": {
            "backgroundcolor": "#E5ECF6",
            "gridcolor": "white",
            "gridwidth": 2,
            "linecolor": "white",
            "showbackground": true,
            "ticks": "",
            "zerolinecolor": "white"
           }
          },
          "shapedefaults": {
           "line": {
            "color": "#2a3f5f"
           }
          },
          "ternary": {
           "aaxis": {
            "gridcolor": "white",
            "linecolor": "white",
            "ticks": ""
           },
           "baxis": {
            "gridcolor": "white",
            "linecolor": "white",
            "ticks": ""
           },
           "bgcolor": "#E5ECF6",
           "caxis": {
            "gridcolor": "white",
            "linecolor": "white",
            "ticks": ""
           }
          },
          "title": {
           "x": 0.05
          },
          "xaxis": {
           "automargin": true,
           "gridcolor": "white",
           "linecolor": "white",
           "ticks": "",
           "title": {
            "standoff": 15
           },
           "zerolinecolor": "white",
           "zerolinewidth": 2
          },
          "yaxis": {
           "automargin": true,
           "gridcolor": "white",
           "linecolor": "white",
           "ticks": "",
           "title": {
            "standoff": 15
           },
           "zerolinecolor": "white",
           "zerolinewidth": 2
          }
         }
        },
        "title": {
         "text": "LTP of the given dates of ADBL"
        },
        "width": 1000,
        "xaxis": {
         "anchor": "y",
         "domain": [
          0,
          1
         ],
         "title": {
          "text": "Date"
         }
        },
        "yaxis": {
         "anchor": "x",
         "domain": [
          0,
          1
         ],
         "title": {
          "text": "LTP"
         }
        }
       }
      }
     },
     "metadata": {},
     "output_type": "display_data"
    }
   ],
   "source": [
    "fn.plotly_plot_line(df,'Date','LTP','ADBL')"
   ]
  },
  {
   "cell_type": "code",
   "execution_count": null,
   "metadata": {},
   "outputs": [
    {
     "name": "stdout",
     "output_type": "stream",
     "text": [
      "<class 'pandas.core.frame.DataFrame'>\n",
      "RangeIndex: 39 entries, 0 to 38\n",
      "Data columns (total 9 columns):\n",
      " #   Column    Non-Null Count  Dtype         \n",
      "---  ------    --------------  -----         \n",
      " 0   Date      39 non-null     datetime64[ns]\n",
      " 1   Symbol    39 non-null     object        \n",
      " 2   LTP       39 non-null     float64       \n",
      " 3   %Change   39 non-null     object        \n",
      " 4   High      39 non-null     object        \n",
      " 5   Low       39 non-null     object        \n",
      " 6   Open      39 non-null     object        \n",
      " 7   Quantity  39 non-null     object        \n",
      " 8   Turnover  39 non-null     object        \n",
      "dtypes: datetime64[ns](1), float64(1), object(7)\n",
      "memory usage: 2.9+ KB\n"
     ]
    }
   ],
   "source": [
    "fn.mat_plot"
   ]
  },
  {
   "cell_type": "code",
   "execution_count": null,
   "metadata": {},
   "outputs": [],
   "source": [
    "df['LTP']= pd.to_numeric(df['LTP'])\n",
    "#ft = np.fft.fft_freq(df['LTP'].round(0).astype(int))"
   ]
  },
  {
   "cell_type": "code",
   "execution_count": null,
   "metadata": {},
   "outputs": [
    {
     "data": {
      "text/plain": [
       "array([411., 415., 422., 419., 421., 431., 429., 429., 424., 427., 435.,\n",
       "       441., 440., 433., 433., 430., 422., 420., 416., 417., 425., 422.,\n",
       "       423., 421., 418., 417., 417., 416., 414., 406., 404., 407., 407.,\n",
       "       405., 399., 402., 405., 400., 397.])"
      ]
     },
     "execution_count": 239,
     "metadata": {},
     "output_type": "execute_result"
    }
   ],
   "source": [
    "close_price = df['LTP'].values\n",
    "close_price.round(0)"
   ]
  },
  {
   "cell_type": "code",
   "execution_count": null,
   "metadata": {},
   "outputs": [],
   "source": [
    "fourier_transform = np.fft.fft(close_price)\n"
   ]
  },
  {
   "cell_type": "code",
   "execution_count": null,
   "metadata": {},
   "outputs": [
    {
     "data": {
      "text/plain": [
       "array([ 1.63188000e+04+0.00000000e+00j, -1.28468524e+02-2.39897116e+02j,\n",
       "       -7.12395710e+01-6.90315878e+01j,  3.23444587e+01+4.72266745e+00j,\n",
       "       -2.30165855e+01-6.37644325e+01j, -3.09043515e+01+5.70607942e+00j,\n",
       "        1.76339456e+01-9.65080133e+00j,  2.07537506e+01+6.24844880e+00j,\n",
       "       -1.04414683e+01-4.09739908e+01j, -2.60727583e+01-3.14795021e+01j,\n",
       "        6.41925181e+00-1.52923659e+01j,  1.00142022e+01-6.66918080e+00j,\n",
       "       -1.60307287e+00-5.72874060e+00j,  3.30000000e+00+1.05655099e+01j,\n",
       "        1.62806459e+01-2.05624962e+00j,  3.41628534e+00+2.08064496e+01j,\n",
       "        1.42768225e+01-1.23139029e-01j,  7.61646141e+00-5.90672609e+00j,\n",
       "        1.13811415e+01-9.68620576e+00j,  3.40936549e+00+3.19815517e+00j,\n",
       "        3.40936549e+00-3.19815517e+00j,  1.13811415e+01+9.68620576e+00j,\n",
       "        7.61646141e+00+5.90672609e+00j,  1.42768225e+01+1.23139029e-01j,\n",
       "        3.41628534e+00-2.08064496e+01j,  1.62806459e+01+2.05624962e+00j,\n",
       "        3.30000000e+00-1.05655099e+01j, -1.60307287e+00+5.72874060e+00j,\n",
       "        1.00142022e+01+6.66918080e+00j,  6.41925181e+00+1.52923659e+01j,\n",
       "       -2.60727583e+01+3.14795021e+01j, -1.04414683e+01+4.09739908e+01j,\n",
       "        2.07537506e+01-6.24844880e+00j,  1.76339456e+01+9.65080133e+00j,\n",
       "       -3.09043515e+01-5.70607942e+00j, -2.30165855e+01+6.37644325e+01j,\n",
       "        3.23444587e+01-4.72266745e+00j, -7.12395710e+01+6.90315878e+01j,\n",
       "       -1.28468524e+02+2.39897116e+02j])"
      ]
     },
     "execution_count": 241,
     "metadata": {},
     "output_type": "execute_result"
    }
   ],
   "source": [
    "fourier_transform"
   ]
  },
  {
   "cell_type": "code",
   "execution_count": null,
   "metadata": {},
   "outputs": [
    {
     "data": {
      "text/plain": [
       "array([ 0.        ,  0.02564103,  0.05128205,  0.07692308,  0.1025641 ,\n",
       "        0.12820513,  0.15384615,  0.17948718,  0.20512821,  0.23076923,\n",
       "        0.25641026,  0.28205128,  0.30769231,  0.33333333,  0.35897436,\n",
       "        0.38461538,  0.41025641,  0.43589744,  0.46153846,  0.48717949,\n",
       "       -0.48717949, -0.46153846, -0.43589744, -0.41025641, -0.38461538,\n",
       "       -0.35897436, -0.33333333, -0.30769231, -0.28205128, -0.25641026,\n",
       "       -0.23076923, -0.20512821, -0.17948718, -0.15384615, -0.12820513,\n",
       "       -0.1025641 , -0.07692308, -0.05128205, -0.02564103])"
      ]
     },
     "execution_count": 242,
     "metadata": {},
     "output_type": "execute_result"
    }
   ],
   "source": [
    "n = len(close_price)\n",
    "frequency_bins = np.fft.fftfreq(n)\n",
    "frequency_bins"
   ]
  },
  {
   "cell_type": "code",
   "execution_count": null,
   "metadata": {},
   "outputs": [
    {
     "data": {
      "image/png": "[encoded data removed]",
      "text/plain": [
       "<Figure size 640x480 with 1 Axes>"
      ]
     },
     "metadata": {},
     "output_type": "display_data"
    }
   ],
   "source": [
    "plt.plot(frequency_bins, np.abs(fourier_transform))\n",
    "plt.xlabel('Frequency')\n",
    "plt.ylabel('Magnitude')\n",
    "plt.title('Fourier Transform of Closing Prices')\n",
    "plt.grid(True)\n",
    "plt.show()\n"
   ]
  }
 ],
 "metadata": {
  "kernelspec": {
   "display_name": "base",
   "language": "python",
   "name": "python3"
  },
  "language_info": {
   "codemirror_mode": {
    "name": "ipython",
    "version": 3
   },
   "file_extension": ".py",
   "mimetype": "text/x-python",
   "name": "python",
   "nbconvert_exporter": "python",
   "pygments_lexer": "ipython3",
   "version": "3.10.9"
  },
  "orig_nbformat": 4
 },
 "nbformat": 4,
 "nbformat_minor": 2
}
