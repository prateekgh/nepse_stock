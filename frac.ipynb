{
 "cells": [
  {
   "cell_type": "code",
   "execution_count": 1,
   "metadata": {},
   "outputs": [],
   "source": [
    "import pandas as pd\n",
    "import numpy as np\n",
    "import function_initial as fn\n",
    "import function_frac_wind as  ffw\n",
    "import matplotlib.pyplot as  plt\n",
    "from mplfinance.original_flavor import candlestick_ohlc\n",
    "import matplotlib.dates as mpl_dates\n",
    "import plotly.graph_objects as go\n"
   ]
  },
  {
   "cell_type": "code",
   "execution_count": 2,
   "metadata": {},
   "outputs": [],
   "source": [
    "df= pd.read_csv('Initial_cleaned_data.csv')"
   ]
  },
  {
   "cell_type": "code",
   "execution_count": 3,
   "metadata": {},
   "outputs": [],
   "source": [
    "df=df[['Symbol','Date','Open','High','Low','LTP']]"
   ]
  },
  {
   "cell_type": "code",
   "execution_count": 4,
   "metadata": {},
   "outputs": [
    {
     "name": "stdout",
     "output_type": "stream",
     "text": [
      "<class 'pandas.core.frame.DataFrame'>\n",
      "RangeIndex: 40365 entries, 0 to 40364\n",
      "Data columns (total 6 columns):\n",
      " #   Column  Non-Null Count  Dtype  \n",
      "---  ------  --------------  -----  \n",
      " 0   Symbol  40365 non-null  object \n",
      " 1   Date    40365 non-null  object \n",
      " 2   Open    40365 non-null  float64\n",
      " 3   High    40365 non-null  float64\n",
      " 4   Low     40365 non-null  float64\n",
      " 5   LTP     40365 non-null  float64\n",
      "dtypes: float64(4), object(2)\n",
      "memory usage: 1.8+ MB\n"
     ]
    }
   ],
   "source": [
    "df.info()"
   ]
  },
  {
   "cell_type": "code",
   "execution_count": 5,
   "metadata": {},
   "outputs": [],
   "source": [
    "df['Date'] = pd.to_datetime(df['Date'])"
   ]
  },
  {
   "cell_type": "code",
   "execution_count": 6,
   "metadata": {},
   "outputs": [
    {
     "name": "stdout",
     "output_type": "stream",
     "text": [
      "<class 'pandas.core.frame.DataFrame'>\n",
      "RangeIndex: 40365 entries, 0 to 40364\n",
      "Data columns (total 6 columns):\n",
      " #   Column  Non-Null Count  Dtype         \n",
      "---  ------  --------------  -----         \n",
      " 0   Symbol  40365 non-null  object        \n",
      " 1   Date    40365 non-null  datetime64[ns]\n",
      " 2   Open    40365 non-null  float64       \n",
      " 3   High    40365 non-null  float64       \n",
      " 4   Low     40365 non-null  float64       \n",
      " 5   LTP     40365 non-null  float64       \n",
      "dtypes: datetime64[ns](1), float64(4), object(1)\n",
      "memory usage: 1.8+ MB\n"
     ]
    }
   ],
   "source": [
    "df.info()"
   ]
  },
  {
   "cell_type": "code",
   "execution_count": 7,
   "metadata": {},
   "outputs": [],
   "source": [
    "stock = 'SCB'\n",
    "start_date  ='2019-01-01'\n",
    "end_date = '2019-07-30'"
   ]
  },
  {
   "cell_type": "code",
   "execution_count": 8,
   "metadata": {},
   "outputs": [],
   "source": [
    "df= df[(df['Date'] > start_date ) & (df['Date'] < end_date ) & (df['Symbol']==stock )]"
   ]
  },
  {
   "cell_type": "code",
   "execution_count": 9,
   "metadata": {},
   "outputs": [],
   "source": [
    "df.reset_index(drop=True, inplace=True) # index is started from 0 such that there is no error in the code below\n"
   ]
  },
  {
   "cell_type": "code",
   "execution_count": 10,
   "metadata": {},
   "outputs": [
    {
     "data": {
      "text/html": [
       "<div>\n",
       "<style scoped>\n",
       "    .dataframe tbody tr th:only-of-type {\n",
       "        vertical-align: middle;\n",
       "    }\n",
       "\n",
       "    .dataframe tbody tr th {\n",
       "        vertical-align: top;\n",
       "    }\n",
       "\n",
       "    .dataframe thead th {\n",
       "        text-align: right;\n",
       "    }\n",
       "</style>\n",
       "<table border=\"1\" class=\"dataframe\">\n",
       "  <thead>\n",
       "    <tr style=\"text-align: right;\">\n",
       "      <th></th>\n",
       "      <th>Symbol</th>\n",
       "      <th>Date</th>\n",
       "      <th>Open</th>\n",
       "      <th>High</th>\n",
       "      <th>Low</th>\n",
       "      <th>LTP</th>\n",
       "    </tr>\n",
       "  </thead>\n",
       "  <tbody>\n",
       "    <tr>\n",
       "      <th>0</th>\n",
       "      <td>SCB</td>\n",
       "      <td>2019-01-10</td>\n",
       "      <td>605.0</td>\n",
       "      <td>610.0</td>\n",
       "      <td>602.0</td>\n",
       "      <td>608.0</td>\n",
       "    </tr>\n",
       "    <tr>\n",
       "      <th>1</th>\n",
       "      <td>SCB</td>\n",
       "      <td>2019-01-13</td>\n",
       "      <td>608.0</td>\n",
       "      <td>608.0</td>\n",
       "      <td>586.0</td>\n",
       "      <td>589.0</td>\n",
       "    </tr>\n",
       "    <tr>\n",
       "      <th>2</th>\n",
       "      <td>SCB</td>\n",
       "      <td>2019-01-14</td>\n",
       "      <td>589.0</td>\n",
       "      <td>593.0</td>\n",
       "      <td>585.0</td>\n",
       "      <td>590.0</td>\n",
       "    </tr>\n",
       "    <tr>\n",
       "      <th>3</th>\n",
       "      <td>SCB</td>\n",
       "      <td>2019-01-15</td>\n",
       "      <td>590.0</td>\n",
       "      <td>592.0</td>\n",
       "      <td>587.0</td>\n",
       "      <td>592.0</td>\n",
       "    </tr>\n",
       "    <tr>\n",
       "      <th>4</th>\n",
       "      <td>SCB</td>\n",
       "      <td>2019-01-16</td>\n",
       "      <td>592.0</td>\n",
       "      <td>599.0</td>\n",
       "      <td>590.0</td>\n",
       "      <td>594.0</td>\n",
       "    </tr>\n",
       "    <tr>\n",
       "      <th>...</th>\n",
       "      <td>...</td>\n",
       "      <td>...</td>\n",
       "      <td>...</td>\n",
       "      <td>...</td>\n",
       "      <td>...</td>\n",
       "      <td>...</td>\n",
       "    </tr>\n",
       "    <tr>\n",
       "      <th>136</th>\n",
       "      <td>SCB</td>\n",
       "      <td>2019-07-03</td>\n",
       "      <td>667.0</td>\n",
       "      <td>675.0</td>\n",
       "      <td>659.0</td>\n",
       "      <td>669.0</td>\n",
       "    </tr>\n",
       "    <tr>\n",
       "      <th>137</th>\n",
       "      <td>SCB</td>\n",
       "      <td>2019-07-04</td>\n",
       "      <td>675.0</td>\n",
       "      <td>675.0</td>\n",
       "      <td>662.0</td>\n",
       "      <td>665.0</td>\n",
       "    </tr>\n",
       "    <tr>\n",
       "      <th>138</th>\n",
       "      <td>SCB</td>\n",
       "      <td>2019-07-07</td>\n",
       "      <td>665.0</td>\n",
       "      <td>665.0</td>\n",
       "      <td>659.0</td>\n",
       "      <td>661.0</td>\n",
       "    </tr>\n",
       "    <tr>\n",
       "      <th>139</th>\n",
       "      <td>SCB</td>\n",
       "      <td>2019-07-08</td>\n",
       "      <td>660.0</td>\n",
       "      <td>660.0</td>\n",
       "      <td>653.0</td>\n",
       "      <td>655.0</td>\n",
       "    </tr>\n",
       "    <tr>\n",
       "      <th>140</th>\n",
       "      <td>SCB</td>\n",
       "      <td>2019-07-09</td>\n",
       "      <td>655.0</td>\n",
       "      <td>661.0</td>\n",
       "      <td>650.0</td>\n",
       "      <td>660.0</td>\n",
       "    </tr>\n",
       "  </tbody>\n",
       "</table>\n",
       "<p>141 rows × 6 columns</p>\n",
       "</div>"
      ],
      "text/plain": [
       "    Symbol       Date   Open   High    Low    LTP\n",
       "0      SCB 2019-01-10  605.0  610.0  602.0  608.0\n",
       "1      SCB 2019-01-13  608.0  608.0  586.0  589.0\n",
       "2      SCB 2019-01-14  589.0  593.0  585.0  590.0\n",
       "3      SCB 2019-01-15  590.0  592.0  587.0  592.0\n",
       "4      SCB 2019-01-16  592.0  599.0  590.0  594.0\n",
       "..     ...        ...    ...    ...    ...    ...\n",
       "136    SCB 2019-07-03  667.0  675.0  659.0  669.0\n",
       "137    SCB 2019-07-04  675.0  675.0  662.0  665.0\n",
       "138    SCB 2019-07-07  665.0  665.0  659.0  661.0\n",
       "139    SCB 2019-07-08  660.0  660.0  653.0  655.0\n",
       "140    SCB 2019-07-09  655.0  661.0  650.0  660.0\n",
       "\n",
       "[141 rows x 6 columns]"
      ]
     },
     "execution_count": 10,
     "metadata": {},
     "output_type": "execute_result"
    }
   ],
   "source": [
    "df"
   ]
  },
  {
   "cell_type": "code",
   "execution_count": 11,
   "metadata": {},
   "outputs": [],
   "source": [
    "#method 1: fractal candlestick pattern\n",
    "# determine bullish fractal \n",
    "def is_support(df,i):  \n",
    "  cond1 = df['Low'][i] < df['Low'][i-1]   \n",
    "  cond2 = df['Low'][i] < df['Low'][i+1]   \n",
    "  cond3 = df['Low'][i+1] < df['Low'][i+2]   \n",
    "  cond4 = df['Low'][i-1] < df['Low'][i-2]  \n",
    "  return (cond1 and cond2 and cond3 and cond4) \n",
    "# determine bearish fractal\n",
    "def is_resistance(df,i):  \n",
    "  cond1 = df['High'][i] > df['High'][i-1]   \n",
    "  cond2 = df['High'][i] > df['High'][i+1]   \n",
    "  cond3 = df['High'][i+1] > df['High'][i+2]   \n",
    "  cond4 = df['High'][i-1] > df['High'][i-2]  \n",
    "  return (cond1 and cond2 and cond3 and cond4)\n",
    "\n",
    "# to make sure the new level area does not exist already\n",
    "def is_far_from_level(value, levels, df):    \n",
    "  ave =  np.mean(df['High'] - df['Low'])    \n",
    "  return np.sum([abs(value-level)<ave for _,level in levels])==0\n",
    "\n",
    "# a list to store resistance and support levels\n",
    "levels = []\n",
    "for i in range(2, df.shape[0] - 2):  \n",
    "  if is_support(df, i):    \n",
    "    low = df['Low'][i]    \n",
    "    if is_far_from_level(low, levels, df):      \n",
    "      levels.append((i, low))  \n",
    "  elif is_resistance(df, i):    \n",
    "    high = df['High'][i]    \n",
    "    if is_far_from_level(high, levels, df):      \n",
    "      levels.append((i, high))"
   ]
  },
  {
   "attachments": {},
   "cell_type": "markdown",
   "metadata": {},
   "source": [
    "# for visualization\n",
    "\n",
    "### didnot work mplfinance\n",
    "\n",
    "```python\n",
    "def plot_all(levels, df):    \n",
    "  fig, ax = plt.subplots(figsize=(16, 9))   \n",
    "  candlestick_ohlc(ax,df.values,width=0.6, colorup='green', \n",
    "    colordown='red', alpha=0.8)    \n",
    "  date_format = mpl_dates.DateFormatter('%d %b %Y')\n",
    "  ax.xaxis.set_major_formatter(date_format)    \n",
    "  for level in levels:        \n",
    "    plt.hlines(level[1], xmin = df['Date'][level[0]], xmax = \n",
    "      max(df['Date']), colors='blue', linestyle='--')    \n",
    "  fig.show()\n",
    "\n",
    "'''\n",
    "  "
   ]
  },
  {
   "cell_type": "code",
   "execution_count": null,
   "metadata": {},
   "outputs": [],
   "source": []
  },
  {
   "cell_type": "code",
   "execution_count": 15,
   "metadata": {},
   "outputs": [
    {
     "data": {
      "application/vnd.plotly.v1+json": {
       "config": {
        "plotlyServerURL": "https://plot.ly"
       },
       "data": [
        {
         "close": [
          608,
          589,
          590,
          592,
          594,
          589,
          615,
          575,
          571,
          572,
          570,
          567,
          565,
          564,
          563,
          606,
          562,
          565,
          600,
          603,
          605,
          550,
          551,
          547,
          542,
          536,
          536,
          528,
          534,
          534,
          534,
          527,
          525,
          530,
          530,
          564,
          557,
          556,
          556,
          556,
          535,
          540,
          566,
          564,
          574,
          583,
          583,
          577,
          571,
          558,
          568,
          564,
          570,
          568,
          525,
          565,
          528,
          532,
          533,
          567,
          590,
          591,
          587,
          595,
          600,
          621,
          583,
          683,
          710,
          727,
          722,
          723,
          723,
          720,
          579,
          705,
          574,
          585,
          592,
          592,
          689,
          691,
          699,
          695,
          689,
          690,
          690,
          689,
          690,
          687,
          685,
          680,
          677,
          680,
          678,
          703,
          686,
          710,
          709,
          704,
          690,
          675,
          672,
          669,
          659,
          661,
          665,
          665,
          661,
          692,
          665,
          661,
          665,
          664,
          661,
          664,
          684,
          657,
          679,
          673,
          654,
          669,
          669,
          669,
          673,
          682,
          688,
          678,
          654,
          674,
          679,
          677,
          680,
          672,
          669,
          664,
          669,
          665,
          661,
          655,
          660
         ],
         "high": [
          610,
          608,
          593,
          592,
          599,
          599,
          623,
          590,
          586,
          580,
          576,
          573,
          568,
          569,
          567,
          616,
          565,
          572,
          609,
          608,
          610,
          558,
          555,
          551,
          555,
          544,
          542,
          537,
          540,
          540,
          540,
          534,
          529,
          534,
          534,
          569,
          564,
          570,
          560,
          561,
          535,
          541,
          566,
          572,
          576,
          591,
          587,
          590,
          580,
          571,
          572,
          570,
          574,
          574,
          531,
          579,
          530,
          532,
          536,
          569,
          597,
          594,
          588,
          597,
          610,
          625,
          584,
          683,
          741,
          735,
          732,
          735,
          755,
          723,
          591,
          734,
          580,
          585,
          602,
          599,
          700,
          699,
          705,
          710,
          695,
          700,
          710,
          692,
          699,
          695,
          686,
          680,
          680,
          680,
          683,
          715,
          693,
          710,
          724,
          710,
          710,
          680,
          676,
          674,
          670,
          663,
          669,
          677,
          670,
          702,
          667,
          670,
          665,
          665,
          667,
          666,
          690,
          674,
          690,
          677,
          660,
          671,
          671,
          670,
          685,
          706,
          688,
          698,
          655,
          678,
          682,
          687,
          686,
          680,
          670,
          666,
          675,
          675,
          665,
          660,
          661
         ],
         "low": [
          602,
          586,
          585,
          587,
          590,
          589,
          615,
          575,
          563,
          565,
          565,
          560,
          560,
          561,
          562,
          606,
          562,
          562,
          596,
          600,
          597,
          550,
          545,
          547,
          541,
          531,
          528,
          527,
          528,
          530,
          534,
          525,
          521,
          524,
          525,
          564,
          555,
          550,
          553,
          555,
          528,
          535,
          540,
          562,
          560,
          575,
          582,
          577,
          567,
          555,
          552,
          560,
          555,
          563,
          521,
          565,
          520,
          528,
          530,
          557,
          584,
          590,
          580,
          584,
          597,
          598,
          567,
          621,
          696,
          697,
          720,
          722,
          721,
          700,
          571,
          700,
          569,
          573,
          587,
          585,
          685,
          690,
          680,
          690,
          686,
          681,
          685,
          681,
          684,
          686,
          678,
          673,
          671,
          670,
          675,
          691,
          684,
          674,
          702,
          696,
          686,
          667,
          671,
          660,
          659,
          657,
          658,
          661,
          660,
          676,
          662,
          655,
          655,
          660,
          655,
          660,
          682,
          656,
          674,
          667,
          650,
          653,
          660,
          663,
          665,
          670,
          676,
          677,
          650,
          670,
          674,
          674,
          675,
          670,
          660,
          660,
          659,
          662,
          659,
          653,
          650
         ],
         "open": [
          605,
          608,
          589,
          590,
          592,
          594,
          621,
          589,
          575,
          571,
          575,
          570,
          567,
          565,
          564,
          615,
          563,
          562,
          606,
          600,
          603,
          557,
          554,
          550,
          552,
          543,
          537,
          537,
          530,
          540,
          539,
          534,
          527,
          534,
          525,
          568,
          556,
          551,
          555,
          561,
          530,
          535,
          542,
          570,
          576,
          575,
          583,
          580,
          577,
          571,
          555,
          570,
          564,
          563,
          521,
          579,
          524,
          528,
          535,
          557,
          592,
          592,
          585,
          584,
          595,
          601,
          567,
          622,
          696,
          711,
          720,
          722,
          737,
          723,
          580,
          734,
          575,
          584,
          585,
          592,
          690,
          699,
          690,
          699,
          695,
          691,
          710,
          692,
          699,
          690,
          684,
          680,
          672,
          677,
          680,
          691,
          690,
          690,
          710,
          709,
          710,
          668,
          673,
          673,
          670,
          659,
          661,
          665,
          670,
          702,
          662,
          670,
          660,
          663,
          657,
          660,
          690,
          674,
          689,
          670,
          660,
          656,
          660,
          665,
          670,
          706,
          676,
          698,
          651,
          678,
          674,
          679,
          680,
          675,
          660,
          660,
          667,
          675,
          665,
          660,
          655
         ],
         "type": "candlestick",
         "x": [
          "2019-01-10T00:00:00",
          "2019-01-13T00:00:00",
          "2019-01-14T00:00:00",
          "2019-01-15T00:00:00",
          "2019-01-16T00:00:00",
          "2019-01-17T00:00:00",
          "2019-01-02T00:00:00",
          "2019-01-20T00:00:00",
          "2019-01-21T00:00:00",
          "2019-01-22T00:00:00",
          "2019-01-23T00:00:00",
          "2019-01-24T00:00:00",
          "2019-01-27T00:00:00",
          "2019-01-28T00:00:00",
          "2019-01-29T00:00:00",
          "2019-01-03T00:00:00",
          "2019-01-30T00:00:00",
          "2019-01-31T00:00:00",
          "2019-01-06T00:00:00",
          "2019-01-08T00:00:00",
          "2019-01-09T00:00:00",
          "2019-02-10T00:00:00",
          "2019-02-11T00:00:00",
          "2019-02-12T00:00:00",
          "2019-02-13T00:00:00",
          "2019-02-14T00:00:00",
          "2019-02-17T00:00:00",
          "2019-02-18T00:00:00",
          "2019-02-19T00:00:00",
          "2019-02-20T00:00:00",
          "2019-02-21T00:00:00",
          "2019-02-24T00:00:00",
          "2019-02-25T00:00:00",
          "2019-02-26T00:00:00",
          "2019-02-27T00:00:00",
          "2019-02-03T00:00:00",
          "2019-02-04T00:00:00",
          "2019-02-05T00:00:00",
          "2019-02-06T00:00:00",
          "2019-02-07T00:00:00",
          "2019-03-10T00:00:00",
          "2019-03-11T00:00:00",
          "2019-03-12T00:00:00",
          "2019-03-13T00:00:00",
          "2019-03-14T00:00:00",
          "2019-03-17T00:00:00",
          "2019-03-18T00:00:00",
          "2019-03-19T00:00:00",
          "2019-03-21T00:00:00",
          "2019-03-24T00:00:00",
          "2019-03-25T00:00:00",
          "2019-03-26T00:00:00",
          "2019-03-27T00:00:00",
          "2019-03-28T00:00:00",
          "2019-03-03T00:00:00",
          "2019-03-31T00:00:00",
          "2019-03-05T00:00:00",
          "2019-03-06T00:00:00",
          "2019-03-07T00:00:00",
          "2019-04-01T00:00:00",
          "2019-04-10T00:00:00",
          "2019-04-11T00:00:00",
          "2019-04-15T00:00:00",
          "2019-04-16T00:00:00",
          "2019-04-17T00:00:00",
          "2019-04-18T00:00:00",
          "2019-04-02T00:00:00",
          "2019-04-21T00:00:00",
          "2019-04-22T00:00:00",
          "2019-04-23T00:00:00",
          "2019-04-24T00:00:00",
          "2019-04-25T00:00:00",
          "2019-04-28T00:00:00",
          "2019-04-29T00:00:00",
          "2019-04-03T00:00:00",
          "2019-04-30T00:00:00",
          "2019-04-04T00:00:00",
          "2019-04-07T00:00:00",
          "2019-04-08T00:00:00",
          "2019-04-09T00:00:00",
          "2019-05-12T00:00:00",
          "2019-05-13T00:00:00",
          "2019-05-14T00:00:00",
          "2019-05-15T00:00:00",
          "2019-05-16T00:00:00",
          "2019-05-19T00:00:00",
          "2019-05-02T00:00:00",
          "2019-05-20T00:00:00",
          "2019-05-21T00:00:00",
          "2019-05-22T00:00:00",
          "2019-05-23T00:00:00",
          "2019-05-26T00:00:00",
          "2019-05-27T00:00:00",
          "2019-05-28T00:00:00",
          "2019-05-29T00:00:00",
          "2019-05-30T00:00:00",
          "2019-05-05T00:00:00",
          "2019-05-06T00:00:00",
          "2019-05-07T00:00:00",
          "2019-05-08T00:00:00",
          "2019-05-09T00:00:00",
          "2019-06-10T00:00:00",
          "2019-06-11T00:00:00",
          "2019-06-12T00:00:00",
          "2019-06-13T00:00:00",
          "2019-06-16T00:00:00",
          "2019-06-17T00:00:00",
          "2019-06-18T00:00:00",
          "2019-06-19T00:00:00",
          "2019-06-02T00:00:00",
          "2019-06-20T00:00:00",
          "2019-06-23T00:00:00",
          "2019-06-24T00:00:00",
          "2019-06-25T00:00:00",
          "2019-06-26T00:00:00",
          "2019-06-27T00:00:00",
          "2019-06-03T00:00:00",
          "2019-06-30T00:00:00",
          "2019-06-04T00:00:00",
          "2019-06-06T00:00:00",
          "2019-07-01T00:00:00",
          "2019-07-10T00:00:00",
          "2019-07-11T00:00:00",
          "2019-07-14T00:00:00",
          "2019-07-15T00:00:00",
          "2019-07-16T00:00:00",
          "2019-07-17T00:00:00",
          "2019-07-18T00:00:00",
          "2019-07-02T00:00:00",
          "2019-07-21T00:00:00",
          "2019-07-22T00:00:00",
          "2019-07-23T00:00:00",
          "2019-07-24T00:00:00",
          "2019-07-25T00:00:00",
          "2019-07-28T00:00:00",
          "2019-07-29T00:00:00",
          "2019-07-03T00:00:00",
          "2019-07-04T00:00:00",
          "2019-07-07T00:00:00",
          "2019-07-08T00:00:00",
          "2019-07-09T00:00:00"
         ]
        }
       ],
       "layout": {
        "shapes": [
         {
          "line": {
           "color": "blue",
           "dash": "dash",
           "width": 1
          },
          "type": "line",
          "x0": "2019-01-14T00:00:00",
          "x1": "2019-01-15T00:00:00",
          "y0": 585,
          "y1": 585
         },
         {
          "line": {
           "color": "blue",
           "dash": "dash",
           "width": 1
          },
          "type": "line",
          "x0": "2019-02-18T00:00:00",
          "x1": "2019-02-19T00:00:00",
          "y0": 527,
          "y1": 527
         },
         {
          "line": {
           "color": "blue",
           "dash": "dash",
           "width": 1
          },
          "type": "line",
          "x0": "2019-02-05T00:00:00",
          "x1": "2019-02-06T00:00:00",
          "y0": 550,
          "y1": 550
         },
         {
          "line": {
           "color": "blue",
           "dash": "dash",
           "width": 1
          },
          "type": "line",
          "x0": "2019-04-22T00:00:00",
          "x1": "2019-04-23T00:00:00",
          "y0": 741,
          "y1": 741
         },
         {
          "line": {
           "color": "blue",
           "dash": "dash",
           "width": 1
          },
          "type": "line",
          "x0": "2019-04-28T00:00:00",
          "x1": "2019-04-29T00:00:00",
          "y0": 755,
          "y1": 755
         },
         {
          "line": {
           "color": "blue",
           "dash": "dash",
           "width": 1
          },
          "type": "line",
          "x0": "2019-05-28T00:00:00",
          "x1": "2019-05-29T00:00:00",
          "y0": 670,
          "y1": 670
         },
         {
          "line": {
           "color": "blue",
           "dash": "dash",
           "width": 1
          },
          "type": "line",
          "x0": "2019-07-01T00:00:00",
          "x1": "2019-07-10T00:00:00",
          "y0": 650,
          "y1": 650
         },
         {
          "line": {
           "color": "blue",
           "dash": "dash",
           "width": 1
          },
          "type": "line",
          "x0": "2019-07-23T00:00:00",
          "x1": "2019-07-24T00:00:00",
          "y0": 687,
          "y1": 687
         }
        ],
        "template": {
         "data": {
          "bar": [
           {
            "error_x": {
             "color": "#2a3f5f"
            },
            "error_y": {
             "color": "#2a3f5f"
            },
            "marker": {
             "line": {
              "color": "#E5ECF6",
              "width": 0.5
             },
             "pattern": {
              "fillmode": "overlay",
              "size": 10,
              "solidity": 0.2
             }
            },
            "type": "bar"
           }
          ],
          "barpolar": [
           {
            "marker": {
             "line": {
              "color": "#E5ECF6",
              "width": 0.5
             },
             "pattern": {
              "fillmode": "overlay",
              "size": 10,
              "solidity": 0.2
             }
            },
            "type": "barpolar"
           }
          ],
          "carpet": [
           {
            "aaxis": {
             "endlinecolor": "#2a3f5f",
             "gridcolor": "white",
             "linecolor": "white",
             "minorgridcolor": "white",
             "startlinecolor": "#2a3f5f"
            },
            "baxis": {
             "endlinecolor": "#2a3f5f",
             "gridcolor": "white",
             "linecolor": "white",
             "minorgridcolor": "white",
             "startlinecolor": "#2a3f5f"
            },
            "type": "carpet"
           }
          ],
          "choropleth": [
           {
            "colorbar": {
             "outlinewidth": 0,
             "ticks": ""
            },
            "type": "choropleth"
           }
          ],
          "contour": [
           {
            "colorbar": {
             "outlinewidth": 0,
             "ticks": ""
            },
            "colorscale": [
             [
              0,
              "#0d0887"
             ],
             [
              0.1111111111111111,
              "#46039f"
             ],
             [
              0.2222222222222222,
              "#7201a8"
             ],
             [
              0.3333333333333333,
              "#9c179e"
             ],
             [
              0.4444444444444444,
              "#bd3786"
             ],
             [
              0.5555555555555556,
              "#d8576b"
             ],
             [
              0.6666666666666666,
              "#ed7953"
             ],
             [
              0.7777777777777778,
              "#fb9f3a"
             ],
             [
              0.8888888888888888,
              "#fdca26"
             ],
             [
              1,
              "#f0f921"
             ]
            ],
            "type": "contour"
           }
          ],
          "contourcarpet": [
           {
            "colorbar": {
             "outlinewidth": 0,
             "ticks": ""
            },
            "type": "contourcarpet"
           }
          ],
          "heatmap": [
           {
            "colorbar": {
             "outlinewidth": 0,
             "ticks": ""
            },
            "colorscale": [
             [
              0,
              "#0d0887"
             ],
             [
              0.1111111111111111,
              "#46039f"
             ],
             [
              0.2222222222222222,
              "#7201a8"
             ],
             [
              0.3333333333333333,
              "#9c179e"
             ],
             [
              0.4444444444444444,
              "#bd3786"
             ],
             [
              0.5555555555555556,
              "#d8576b"
             ],
             [
              0.6666666666666666,
              "#ed7953"
             ],
             [
              0.7777777777777778,
              "#fb9f3a"
             ],
             [
              0.8888888888888888,
              "#fdca26"
             ],
             [
              1,
              "#f0f921"
             ]
            ],
            "type": "heatmap"
           }
          ],
          "heatmapgl": [
           {
            "colorbar": {
             "outlinewidth": 0,
             "ticks": ""
            },
            "colorscale": [
             [
              0,
              "#0d0887"
             ],
             [
              0.1111111111111111,
              "#46039f"
             ],
             [
              0.2222222222222222,
              "#7201a8"
             ],
             [
              0.3333333333333333,
              "#9c179e"
             ],
             [
              0.4444444444444444,
              "#bd3786"
             ],
             [
              0.5555555555555556,
              "#d8576b"
             ],
             [
              0.6666666666666666,
              "#ed7953"
             ],
             [
              0.7777777777777778,
              "#fb9f3a"
             ],
             [
              0.8888888888888888,
              "#fdca26"
             ],
             [
              1,
              "#f0f921"
             ]
            ],
            "type": "heatmapgl"
           }
          ],
          "histogram": [
           {
            "marker": {
             "pattern": {
              "fillmode": "overlay",
              "size": 10,
              "solidity": 0.2
             }
            },
            "type": "histogram"
           }
          ],
          "histogram2d": [
           {
            "colorbar": {
             "outlinewidth": 0,
             "ticks": ""
            },
            "colorscale": [
             [
              0,
              "#0d0887"
             ],
             [
              0.1111111111111111,
              "#46039f"
             ],
             [
              0.2222222222222222,
              "#7201a8"
             ],
             [
              0.3333333333333333,
              "#9c179e"
             ],
             [
              0.4444444444444444,
              "#bd3786"
             ],
             [
              0.5555555555555556,
              "#d8576b"
             ],
             [
              0.6666666666666666,
              "#ed7953"
             ],
             [
              0.7777777777777778,
              "#fb9f3a"
             ],
             [
              0.8888888888888888,
              "#fdca26"
             ],
             [
              1,
              "#f0f921"
             ]
            ],
            "type": "histogram2d"
           }
          ],
          "histogram2dcontour": [
           {
            "colorbar": {
             "outlinewidth": 0,
             "ticks": ""
            },
            "colorscale": [
             [
              0,
              "#0d0887"
             ],
             [
              0.1111111111111111,
              "#46039f"
             ],
             [
              0.2222222222222222,
              "#7201a8"
             ],
             [
              0.3333333333333333,
              "#9c179e"
             ],
             [
              0.4444444444444444,
              "#bd3786"
             ],
             [
              0.5555555555555556,
              "#d8576b"
             ],
             [
              0.6666666666666666,
              "#ed7953"
             ],
             [
              0.7777777777777778,
              "#fb9f3a"
             ],
             [
              0.8888888888888888,
              "#fdca26"
             ],
             [
              1,
              "#f0f921"
             ]
            ],
            "type": "histogram2dcontour"
           }
          ],
          "mesh3d": [
           {
            "colorbar": {
             "outlinewidth": 0,
             "ticks": ""
            },
            "type": "mesh3d"
           }
          ],
          "parcoords": [
           {
            "line": {
             "colorbar": {
              "outlinewidth": 0,
              "ticks": ""
             }
            },
            "type": "parcoords"
           }
          ],
          "pie": [
           {
            "automargin": true,
            "type": "pie"
           }
          ],
          "scatter": [
           {
            "fillpattern": {
             "fillmode": "overlay",
             "size": 10,
             "solidity": 0.2
            },
            "type": "scatter"
           }
          ],
          "scatter3d": [
           {
            "line": {
             "colorbar": {
              "outlinewidth": 0,
              "ticks": ""
             }
            },
            "marker": {
             "colorbar": {
              "outlinewidth": 0,
              "ticks": ""
             }
            },
            "type": "scatter3d"
           }
          ],
          "scattercarpet": [
           {
            "marker": {
             "colorbar": {
              "outlinewidth": 0,
              "ticks": ""
             }
            },
            "type": "scattercarpet"
           }
          ],
          "scattergeo": [
           {
            "marker": {
             "colorbar": {
              "outlinewidth": 0,
              "ticks": ""
             }
            },
            "type": "scattergeo"
           }
          ],
          "scattergl": [
           {
            "marker": {
             "colorbar": {
              "outlinewidth": 0,
              "ticks": ""
             }
            },
            "type": "scattergl"
           }
          ],
          "scattermapbox": [
           {
            "marker": {
             "colorbar": {
              "outlinewidth": 0,
              "ticks": ""
             }
            },
            "type": "scattermapbox"
           }
          ],
          "scatterpolar": [
           {
            "marker": {
             "colorbar": {
              "outlinewidth": 0,
              "ticks": ""
             }
            },
            "type": "scatterpolar"
           }
          ],
          "scatterpolargl": [
           {
            "marker": {
             "colorbar": {
              "outlinewidth": 0,
              "ticks": ""
             }
            },
            "type": "scatterpolargl"
           }
          ],
          "scatterternary": [
           {
            "marker": {
             "colorbar": {
              "outlinewidth": 0,
              "ticks": ""
             }
            },
            "type": "scatterternary"
           }
          ],
          "surface": [
           {
            "colorbar": {
             "outlinewidth": 0,
             "ticks": ""
            },
            "colorscale": [
             [
              0,
              "#0d0887"
             ],
             [
              0.1111111111111111,
              "#46039f"
             ],
             [
              0.2222222222222222,
              "#7201a8"
             ],
             [
              0.3333333333333333,
              "#9c179e"
             ],
             [
              0.4444444444444444,
              "#bd3786"
             ],
             [
              0.5555555555555556,
              "#d8576b"
             ],
             [
              0.6666666666666666,
              "#ed7953"
             ],
             [
              0.7777777777777778,
              "#fb9f3a"
             ],
             [
              0.8888888888888888,
              "#fdca26"
             ],
             [
              1,
              "#f0f921"
             ]
            ],
            "type": "surface"
           }
          ],
          "table": [
           {
            "cells": {
             "fill": {
              "color": "#EBF0F8"
             },
             "line": {
              "color": "white"
             }
            },
            "header": {
             "fill": {
              "color": "#C8D4E3"
             },
             "line": {
              "color": "white"
             }
            },
            "type": "table"
           }
          ]
         },
         "layout": {
          "annotationdefaults": {
           "arrowcolor": "#2a3f5f",
           "arrowhead": 0,
           "arrowwidth": 1
          },
          "autotypenumbers": "strict",
          "coloraxis": {
           "colorbar": {
            "outlinewidth": 0,
            "ticks": ""
           }
          },
          "colorscale": {
           "diverging": [
            [
             0,
             "#8e0152"
            ],
            [
             0.1,
             "#c51b7d"
            ],
            [
             0.2,
             "#de77ae"
            ],
            [
             0.3,
             "#f1b6da"
            ],
            [
             0.4,
             "#fde0ef"
            ],
            [
             0.5,
             "#f7f7f7"
            ],
            [
             0.6,
             "#e6f5d0"
            ],
            [
             0.7,
             "#b8e186"
            ],
            [
             0.8,
             "#7fbc41"
            ],
            [
             0.9,
             "#4d9221"
            ],
            [
             1,
             "#276419"
            ]
           ],
           "sequential": [
            [
             0,
             "#0d0887"
            ],
            [
             0.1111111111111111,
             "#46039f"
            ],
            [
             0.2222222222222222,
             "#7201a8"
            ],
            [
             0.3333333333333333,
             "#9c179e"
            ],
            [
             0.4444444444444444,
             "#bd3786"
            ],
            [
             0.5555555555555556,
             "#d8576b"
            ],
            [
             0.6666666666666666,
             "#ed7953"
            ],
            [
             0.7777777777777778,
             "#fb9f3a"
            ],
            [
             0.8888888888888888,
             "#fdca26"
            ],
            [
             1,
             "#f0f921"
            ]
           ],
           "sequentialminus": [
            [
             0,
             "#0d0887"
            ],
            [
             0.1111111111111111,
             "#46039f"
            ],
            [
             0.2222222222222222,
             "#7201a8"
            ],
            [
             0.3333333333333333,
             "#9c179e"
            ],
            [
             0.4444444444444444,
             "#bd3786"
            ],
            [
             0.5555555555555556,
             "#d8576b"
            ],
            [
             0.6666666666666666,
             "#ed7953"
            ],
            [
             0.7777777777777778,
             "#fb9f3a"
            ],
            [
             0.8888888888888888,
             "#fdca26"
            ],
            [
             1,
             "#f0f921"
            ]
           ]
          },
          "colorway": [
           "#636efa",
           "#EF553B",
           "#00cc96",
           "#ab63fa",
           "#FFA15A",
           "#19d3f3",
           "#FF6692",
           "#B6E880",
           "#FF97FF",
           "#FECB52"
          ],
          "font": {
           "color": "#2a3f5f"
          },
          "geo": {
           "bgcolor": "white",
           "lakecolor": "white",
           "landcolor": "#E5ECF6",
           "showlakes": true,
           "showland": true,
           "subunitcolor": "white"
          },
          "hoverlabel": {
           "align": "left"
          },
          "hovermode": "closest",
          "mapbox": {
           "style": "light"
          },
          "paper_bgcolor": "white",
          "plot_bgcolor": "#E5ECF6",
          "polar": {
           "angularaxis": {
            "gridcolor": "white",
            "linecolor": "white",
            "ticks": ""
           },
           "bgcolor": "#E5ECF6",
           "radialaxis": {
            "gridcolor": "white",
            "linecolor": "white",
            "ticks": ""
           }
          },
          "scene": {
           "xaxis": {
            "backgroundcolor": "#E5ECF6",
            "gridcolor": "white",
            "gridwidth": 2,
            "linecolor": "white",
            "showbackground": true,
            "ticks": "",
            "zerolinecolor": "white"
           },
           "yaxis": {
            "backgroundcolor": "#E5ECF6",
            "gridcolor": "white",
            "gridwidth": 2,
            "linecolor": "white",
            "showbackground": true,
            "ticks": "",
            "zerolinecolor": "white"
           },
           "zaxis": {
            "backgroundcolor": "#E5ECF6",
            "gridcolor": "white",
            "gridwidth": 2,
            "linecolor": "white",
            "showbackground": true,
            "ticks": "",
            "zerolinecolor": "white"
           }
          },
          "shapedefaults": {
           "line": {
            "color": "#2a3f5f"
           }
          },
          "ternary": {
           "aaxis": {
            "gridcolor": "white",
            "linecolor": "white",
            "ticks": ""
           },
           "baxis": {
            "gridcolor": "white",
            "linecolor": "white",
            "ticks": ""
           },
           "bgcolor": "#E5ECF6",
           "caxis": {
            "gridcolor": "white",
            "linecolor": "white",
            "ticks": ""
           }
          },
          "title": {
           "x": 0.05
          },
          "xaxis": {
           "automargin": true,
           "gridcolor": "white",
           "linecolor": "white",
           "ticks": "",
           "title": {
            "standoff": 15
           },
           "zerolinecolor": "white",
           "zerolinewidth": 2
          },
          "yaxis": {
           "automargin": true,
           "gridcolor": "white",
           "linecolor": "white",
           "ticks": "",
           "title": {
            "standoff": 15
           },
           "zerolinecolor": "white",
           "zerolinewidth": 2
          }
         }
        },
        "title": {
         "text": "Candlestick Chart with Levels"
        }
       }
      }
     },
     "metadata": {},
     "output_type": "display_data"
    }
   ],
   "source": [
    "fig = go.Figure(data=[go.Candlestick(x=df['Date'],\n",
    "                open=df['Open'],\n",
    "                high=df['High'],\n",
    "                low=df['Low'],\n",
    "                close=df['LTP'])])\n",
    "\n",
    "for level in levels:\n",
    "    index, value = level  # Unpack the index and value from the tuple\n",
    "    fig.add_shape(type='line',\n",
    "                  x0=df['Date'][index],\n",
    "                  y0=value,\n",
    "                  x1=df['Date'][index+1],  # Assuming the date is continuous\n",
    "                  y1=value,\n",
    "                  line=dict(color='blue', width=1, dash='dash'))\n",
    "\n",
    "\n",
    "fig.update_layout(title='Candlestick Chart with Levels')\n",
    "\n",
    "\n",
    "fig.show()\n",
    "\n"
   ]
  },
  {
   "cell_type": "code",
   "execution_count": 16,
   "metadata": {},
   "outputs": [
    {
     "data": {
      "application/vnd.plotly.v1+json": {
       "config": {
        "plotlyServerURL": "https://plot.ly"
       },
       "data": [
        {
         "close": [
          608,
          589,
          590,
          592,
          594,
          589,
          615,
          575,
          571,
          572,
          570,
          567,
          565,
          564,
          563,
          606,
          562,
          565,
          600,
          603,
          605,
          550,
          551,
          547,
          542,
          536,
          536,
          528,
          534,
          534,
          534,
          527,
          525,
          530,
          530,
          564,
          557,
          556,
          556,
          556,
          535,
          540,
          566,
          564,
          574,
          583,
          583,
          577,
          571,
          558,
          568,
          564,
          570,
          568,
          525,
          565,
          528,
          532,
          533,
          567,
          590,
          591,
          587,
          595,
          600,
          621,
          583,
          683,
          710,
          727,
          722,
          723,
          723,
          720,
          579,
          705,
          574,
          585,
          592,
          592,
          689,
          691,
          699,
          695,
          689,
          690,
          690,
          689,
          690,
          687,
          685,
          680,
          677,
          680,
          678,
          703,
          686,
          710,
          709,
          704,
          690,
          675,
          672,
          669,
          659,
          661,
          665,
          665,
          661,
          692,
          665,
          661,
          665,
          664,
          661,
          664,
          684,
          657,
          679,
          673,
          654,
          669,
          669,
          669,
          673,
          682,
          688,
          678,
          654,
          674,
          679,
          677,
          680,
          672,
          669,
          664,
          669,
          665,
          661,
          655,
          660
         ],
         "high": [
          610,
          608,
          593,
          592,
          599,
          599,
          623,
          590,
          586,
          580,
          576,
          573,
          568,
          569,
          567,
          616,
          565,
          572,
          609,
          608,
          610,
          558,
          555,
          551,
          555,
          544,
          542,
          537,
          540,
          540,
          540,
          534,
          529,
          534,
          534,
          569,
          564,
          570,
          560,
          561,
          535,
          541,
          566,
          572,
          576,
          591,
          587,
          590,
          580,
          571,
          572,
          570,
          574,
          574,
          531,
          579,
          530,
          532,
          536,
          569,
          597,
          594,
          588,
          597,
          610,
          625,
          584,
          683,
          741,
          735,
          732,
          735,
          755,
          723,
          591,
          734,
          580,
          585,
          602,
          599,
          700,
          699,
          705,
          710,
          695,
          700,
          710,
          692,
          699,
          695,
          686,
          680,
          680,
          680,
          683,
          715,
          693,
          710,
          724,
          710,
          710,
          680,
          676,
          674,
          670,
          663,
          669,
          677,
          670,
          702,
          667,
          670,
          665,
          665,
          667,
          666,
          690,
          674,
          690,
          677,
          660,
          671,
          671,
          670,
          685,
          706,
          688,
          698,
          655,
          678,
          682,
          687,
          686,
          680,
          670,
          666,
          675,
          675,
          665,
          660,
          661
         ],
         "low": [
          602,
          586,
          585,
          587,
          590,
          589,
          615,
          575,
          563,
          565,
          565,
          560,
          560,
          561,
          562,
          606,
          562,
          562,
          596,
          600,
          597,
          550,
          545,
          547,
          541,
          531,
          528,
          527,
          528,
          530,
          534,
          525,
          521,
          524,
          525,
          564,
          555,
          550,
          553,
          555,
          528,
          535,
          540,
          562,
          560,
          575,
          582,
          577,
          567,
          555,
          552,
          560,
          555,
          563,
          521,
          565,
          520,
          528,
          530,
          557,
          584,
          590,
          580,
          584,
          597,
          598,
          567,
          621,
          696,
          697,
          720,
          722,
          721,
          700,
          571,
          700,
          569,
          573,
          587,
          585,
          685,
          690,
          680,
          690,
          686,
          681,
          685,
          681,
          684,
          686,
          678,
          673,
          671,
          670,
          675,
          691,
          684,
          674,
          702,
          696,
          686,
          667,
          671,
          660,
          659,
          657,
          658,
          661,
          660,
          676,
          662,
          655,
          655,
          660,
          655,
          660,
          682,
          656,
          674,
          667,
          650,
          653,
          660,
          663,
          665,
          670,
          676,
          677,
          650,
          670,
          674,
          674,
          675,
          670,
          660,
          660,
          659,
          662,
          659,
          653,
          650
         ],
         "open": [
          605,
          608,
          589,
          590,
          592,
          594,
          621,
          589,
          575,
          571,
          575,
          570,
          567,
          565,
          564,
          615,
          563,
          562,
          606,
          600,
          603,
          557,
          554,
          550,
          552,
          543,
          537,
          537,
          530,
          540,
          539,
          534,
          527,
          534,
          525,
          568,
          556,
          551,
          555,
          561,
          530,
          535,
          542,
          570,
          576,
          575,
          583,
          580,
          577,
          571,
          555,
          570,
          564,
          563,
          521,
          579,
          524,
          528,
          535,
          557,
          592,
          592,
          585,
          584,
          595,
          601,
          567,
          622,
          696,
          711,
          720,
          722,
          737,
          723,
          580,
          734,
          575,
          584,
          585,
          592,
          690,
          699,
          690,
          699,
          695,
          691,
          710,
          692,
          699,
          690,
          684,
          680,
          672,
          677,
          680,
          691,
          690,
          690,
          710,
          709,
          710,
          668,
          673,
          673,
          670,
          659,
          661,
          665,
          670,
          702,
          662,
          670,
          660,
          663,
          657,
          660,
          690,
          674,
          689,
          670,
          660,
          656,
          660,
          665,
          670,
          706,
          676,
          698,
          651,
          678,
          674,
          679,
          680,
          675,
          660,
          660,
          667,
          675,
          665,
          660,
          655
         ],
         "type": "candlestick",
         "x": [
          "2019-01-10T00:00:00",
          "2019-01-13T00:00:00",
          "2019-01-14T00:00:00",
          "2019-01-15T00:00:00",
          "2019-01-16T00:00:00",
          "2019-01-17T00:00:00",
          "2019-01-02T00:00:00",
          "2019-01-20T00:00:00",
          "2019-01-21T00:00:00",
          "2019-01-22T00:00:00",
          "2019-01-23T00:00:00",
          "2019-01-24T00:00:00",
          "2019-01-27T00:00:00",
          "2019-01-28T00:00:00",
          "2019-01-29T00:00:00",
          "2019-01-03T00:00:00",
          "2019-01-30T00:00:00",
          "2019-01-31T00:00:00",
          "2019-01-06T00:00:00",
          "2019-01-08T00:00:00",
          "2019-01-09T00:00:00",
          "2019-02-10T00:00:00",
          "2019-02-11T00:00:00",
          "2019-02-12T00:00:00",
          "2019-02-13T00:00:00",
          "2019-02-14T00:00:00",
          "2019-02-17T00:00:00",
          "2019-02-18T00:00:00",
          "2019-02-19T00:00:00",
          "2019-02-20T00:00:00",
          "2019-02-21T00:00:00",
          "2019-02-24T00:00:00",
          "2019-02-25T00:00:00",
          "2019-02-26T00:00:00",
          "2019-02-27T00:00:00",
          "2019-02-03T00:00:00",
          "2019-02-04T00:00:00",
          "2019-02-05T00:00:00",
          "2019-02-06T00:00:00",
          "2019-02-07T00:00:00",
          "2019-03-10T00:00:00",
          "2019-03-11T00:00:00",
          "2019-03-12T00:00:00",
          "2019-03-13T00:00:00",
          "2019-03-14T00:00:00",
          "2019-03-17T00:00:00",
          "2019-03-18T00:00:00",
          "2019-03-19T00:00:00",
          "2019-03-21T00:00:00",
          "2019-03-24T00:00:00",
          "2019-03-25T00:00:00",
          "2019-03-26T00:00:00",
          "2019-03-27T00:00:00",
          "2019-03-28T00:00:00",
          "2019-03-03T00:00:00",
          "2019-03-31T00:00:00",
          "2019-03-05T00:00:00",
          "2019-03-06T00:00:00",
          "2019-03-07T00:00:00",
          "2019-04-01T00:00:00",
          "2019-04-10T00:00:00",
          "2019-04-11T00:00:00",
          "2019-04-15T00:00:00",
          "2019-04-16T00:00:00",
          "2019-04-17T00:00:00",
          "2019-04-18T00:00:00",
          "2019-04-02T00:00:00",
          "2019-04-21T00:00:00",
          "2019-04-22T00:00:00",
          "2019-04-23T00:00:00",
          "2019-04-24T00:00:00",
          "2019-04-25T00:00:00",
          "2019-04-28T00:00:00",
          "2019-04-29T00:00:00",
          "2019-04-03T00:00:00",
          "2019-04-30T00:00:00",
          "2019-04-04T00:00:00",
          "2019-04-07T00:00:00",
          "2019-04-08T00:00:00",
          "2019-04-09T00:00:00",
          "2019-05-12T00:00:00",
          "2019-05-13T00:00:00",
          "2019-05-14T00:00:00",
          "2019-05-15T00:00:00",
          "2019-05-16T00:00:00",
          "2019-05-19T00:00:00",
          "2019-05-02T00:00:00",
          "2019-05-20T00:00:00",
          "2019-05-21T00:00:00",
          "2019-05-22T00:00:00",
          "2019-05-23T00:00:00",
          "2019-05-26T00:00:00",
          "2019-05-27T00:00:00",
          "2019-05-28T00:00:00",
          "2019-05-29T00:00:00",
          "2019-05-30T00:00:00",
          "2019-05-05T00:00:00",
          "2019-05-06T00:00:00",
          "2019-05-07T00:00:00",
          "2019-05-08T00:00:00",
          "2019-05-09T00:00:00",
          "2019-06-10T00:00:00",
          "2019-06-11T00:00:00",
          "2019-06-12T00:00:00",
          "2019-06-13T00:00:00",
          "2019-06-16T00:00:00",
          "2019-06-17T00:00:00",
          "2019-06-18T00:00:00",
          "2019-06-19T00:00:00",
          "2019-06-02T00:00:00",
          "2019-06-20T00:00:00",
          "2019-06-23T00:00:00",
          "2019-06-24T00:00:00",
          "2019-06-25T00:00:00",
          "2019-06-26T00:00:00",
          "2019-06-27T00:00:00",
          "2019-06-03T00:00:00",
          "2019-06-30T00:00:00",
          "2019-06-04T00:00:00",
          "2019-06-06T00:00:00",
          "2019-07-01T00:00:00",
          "2019-07-10T00:00:00",
          "2019-07-11T00:00:00",
          "2019-07-14T00:00:00",
          "2019-07-15T00:00:00",
          "2019-07-16T00:00:00",
          "2019-07-17T00:00:00",
          "2019-07-18T00:00:00",
          "2019-07-02T00:00:00",
          "2019-07-21T00:00:00",
          "2019-07-22T00:00:00",
          "2019-07-23T00:00:00",
          "2019-07-24T00:00:00",
          "2019-07-25T00:00:00",
          "2019-07-28T00:00:00",
          "2019-07-29T00:00:00",
          "2019-07-03T00:00:00",
          "2019-07-04T00:00:00",
          "2019-07-07T00:00:00",
          "2019-07-08T00:00:00",
          "2019-07-09T00:00:00"
         ]
        }
       ],
       "layout": {
        "height": 600,
        "shapes": [
         {
          "line": {
           "color": "blue",
           "dash": "dash",
           "width": 1
          },
          "type": "line",
          "x0": "2019-01-14T00:00:00",
          "x1": "2019-01-15T00:00:00",
          "y0": 585,
          "y1": 585
         },
         {
          "line": {
           "color": "blue",
           "dash": "dash",
           "width": 1
          },
          "type": "line",
          "x0": "2019-01-15T00:00:00",
          "x1": "2019-04-25T00:00:00",
          "y0": 585,
          "y1": 585
         },
         {
          "line": {
           "color": "blue",
           "dash": "dash",
           "width": 1
          },
          "type": "line",
          "x0": "2019-02-18T00:00:00",
          "x1": "2019-02-19T00:00:00",
          "y0": 527,
          "y1": 527
         },
         {
          "line": {
           "color": "blue",
           "dash": "dash",
           "width": 1
          },
          "type": "line",
          "x0": "2019-02-19T00:00:00",
          "x1": "2019-05-30T00:00:00",
          "y0": 527,
          "y1": 527
         },
         {
          "line": {
           "color": "blue",
           "dash": "dash",
           "width": 1
          },
          "type": "line",
          "x0": "2019-02-05T00:00:00",
          "x1": "2019-02-06T00:00:00",
          "y0": 550,
          "y1": 550
         },
         {
          "line": {
           "color": "blue",
           "dash": "dash",
           "width": 1
          },
          "type": "line",
          "x0": "2019-02-06T00:00:00",
          "x1": "2019-05-17T00:00:00",
          "y0": 550,
          "y1": 550
         },
         {
          "line": {
           "color": "blue",
           "dash": "dash",
           "width": 1
          },
          "type": "line",
          "x0": "2019-04-22T00:00:00",
          "x1": "2019-04-23T00:00:00",
          "y0": 741,
          "y1": 741
         },
         {
          "line": {
           "color": "blue",
           "dash": "dash",
           "width": 1
          },
          "type": "line",
          "x0": "2019-04-23T00:00:00",
          "x1": "2019-08-01T00:00:00",
          "y0": 741,
          "y1": 741
         },
         {
          "line": {
           "color": "blue",
           "dash": "dash",
           "width": 1
          },
          "type": "line",
          "x0": "2019-04-28T00:00:00",
          "x1": "2019-04-29T00:00:00",
          "y0": 755,
          "y1": 755
         },
         {
          "line": {
           "color": "blue",
           "dash": "dash",
           "width": 1
          },
          "type": "line",
          "x0": "2019-04-29T00:00:00",
          "x1": "2019-08-07T00:00:00",
          "y0": 755,
          "y1": 755
         },
         {
          "line": {
           "color": "blue",
           "dash": "dash",
           "width": 1
          },
          "type": "line",
          "x0": "2019-05-28T00:00:00",
          "x1": "2019-05-29T00:00:00",
          "y0": 670,
          "y1": 670
         },
         {
          "line": {
           "color": "blue",
           "dash": "dash",
           "width": 1
          },
          "type": "line",
          "x0": "2019-05-29T00:00:00",
          "x1": "2019-09-06T00:00:00",
          "y0": 670,
          "y1": 670
         },
         {
          "line": {
           "color": "blue",
           "dash": "dash",
           "width": 1
          },
          "type": "line",
          "x0": "2019-07-01T00:00:00",
          "x1": "2019-07-10T00:00:00",
          "y0": 650,
          "y1": 650
         },
         {
          "line": {
           "color": "blue",
           "dash": "dash",
           "width": 1
          },
          "type": "line",
          "x0": "2019-07-10T00:00:00",
          "x1": "2019-10-18T00:00:00",
          "y0": 650,
          "y1": 650
         },
         {
          "line": {
           "color": "blue",
           "dash": "dash",
           "width": 1
          },
          "type": "line",
          "x0": "2019-07-23T00:00:00",
          "x1": "2019-07-24T00:00:00",
          "y0": 687,
          "y1": 687
         },
         {
          "line": {
           "color": "blue",
           "dash": "dash",
           "width": 1
          },
          "type": "line",
          "x0": "2019-07-24T00:00:00",
          "x1": "2019-11-01T00:00:00",
          "y0": 687,
          "y1": 687
         }
        ],
        "template": {
         "data": {
          "bar": [
           {
            "error_x": {
             "color": "#2a3f5f"
            },
            "error_y": {
             "color": "#2a3f5f"
            },
            "marker": {
             "line": {
              "color": "#E5ECF6",
              "width": 0.5
             },
             "pattern": {
              "fillmode": "overlay",
              "size": 10,
              "solidity": 0.2
             }
            },
            "type": "bar"
           }
          ],
          "barpolar": [
           {
            "marker": {
             "line": {
              "color": "#E5ECF6",
              "width": 0.5
             },
             "pattern": {
              "fillmode": "overlay",
              "size": 10,
              "solidity": 0.2
             }
            },
            "type": "barpolar"
           }
          ],
          "carpet": [
           {
            "aaxis": {
             "endlinecolor": "#2a3f5f",
             "gridcolor": "white",
             "linecolor": "white",
             "minorgridcolor": "white",
             "startlinecolor": "#2a3f5f"
            },
            "baxis": {
             "endlinecolor": "#2a3f5f",
             "gridcolor": "white",
             "linecolor": "white",
             "minorgridcolor": "white",
             "startlinecolor": "#2a3f5f"
            },
            "type": "carpet"
           }
          ],
          "choropleth": [
           {
            "colorbar": {
             "outlinewidth": 0,
             "ticks": ""
            },
            "type": "choropleth"
           }
          ],
          "contour": [
           {
            "colorbar": {
             "outlinewidth": 0,
             "ticks": ""
            },
            "colorscale": [
             [
              0,
              "#0d0887"
             ],
             [
              0.1111111111111111,
              "#46039f"
             ],
             [
              0.2222222222222222,
              "#7201a8"
             ],
             [
              0.3333333333333333,
              "#9c179e"
             ],
             [
              0.4444444444444444,
              "#bd3786"
             ],
             [
              0.5555555555555556,
              "#d8576b"
             ],
             [
              0.6666666666666666,
              "#ed7953"
             ],
             [
              0.7777777777777778,
              "#fb9f3a"
             ],
             [
              0.8888888888888888,
              "#fdca26"
             ],
             [
              1,
              "#f0f921"
             ]
            ],
            "type": "contour"
           }
          ],
          "contourcarpet": [
           {
            "colorbar": {
             "outlinewidth": 0,
             "ticks": ""
            },
            "type": "contourcarpet"
           }
          ],
          "heatmap": [
           {
            "colorbar": {
             "outlinewidth": 0,
             "ticks": ""
            },
            "colorscale": [
             [
              0,
              "#0d0887"
             ],
             [
              0.1111111111111111,
              "#46039f"
             ],
             [
              0.2222222222222222,
              "#7201a8"
             ],
             [
              0.3333333333333333,
              "#9c179e"
             ],
             [
              0.4444444444444444,
              "#bd3786"
             ],
             [
              0.5555555555555556,
              "#d8576b"
             ],
             [
              0.6666666666666666,
              "#ed7953"
             ],
             [
              0.7777777777777778,
              "#fb9f3a"
             ],
             [
              0.8888888888888888,
              "#fdca26"
             ],
             [
              1,
              "#f0f921"
             ]
            ],
            "type": "heatmap"
           }
          ],
          "heatmapgl": [
           {
            "colorbar": {
             "outlinewidth": 0,
             "ticks": ""
            },
            "colorscale": [
             [
              0,
              "#0d0887"
             ],
             [
              0.1111111111111111,
              "#46039f"
             ],
             [
              0.2222222222222222,
              "#7201a8"
             ],
             [
              0.3333333333333333,
              "#9c179e"
             ],
             [
              0.4444444444444444,
              "#bd3786"
             ],
             [
              0.5555555555555556,
              "#d8576b"
             ],
             [
              0.6666666666666666,
              "#ed7953"
             ],
             [
              0.7777777777777778,
              "#fb9f3a"
             ],
             [
              0.8888888888888888,
              "#fdca26"
             ],
             [
              1,
              "#f0f921"
             ]
            ],
            "type": "heatmapgl"
           }
          ],
          "histogram": [
           {
            "marker": {
             "pattern": {
              "fillmode": "overlay",
              "size": 10,
              "solidity": 0.2
             }
            },
            "type": "histogram"
           }
          ],
          "histogram2d": [
           {
            "colorbar": {
             "outlinewidth": 0,
             "ticks": ""
            },
            "colorscale": [
             [
              0,
              "#0d0887"
             ],
             [
              0.1111111111111111,
              "#46039f"
             ],
             [
              0.2222222222222222,
              "#7201a8"
             ],
             [
              0.3333333333333333,
              "#9c179e"
             ],
             [
              0.4444444444444444,
              "#bd3786"
             ],
             [
              0.5555555555555556,
              "#d8576b"
             ],
             [
              0.6666666666666666,
              "#ed7953"
             ],
             [
              0.7777777777777778,
              "#fb9f3a"
             ],
             [
              0.8888888888888888,
              "#fdca26"
             ],
             [
              1,
              "#f0f921"
             ]
            ],
            "type": "histogram2d"
           }
          ],
          "histogram2dcontour": [
           {
            "colorbar": {
             "outlinewidth": 0,
             "ticks": ""
            },
            "colorscale": [
             [
              0,
              "#0d0887"
             ],
             [
              0.1111111111111111,
              "#46039f"
             ],
             [
              0.2222222222222222,
              "#7201a8"
             ],
             [
              0.3333333333333333,
              "#9c179e"
             ],
             [
              0.4444444444444444,
              "#bd3786"
             ],
             [
              0.5555555555555556,
              "#d8576b"
             ],
             [
              0.6666666666666666,
              "#ed7953"
             ],
             [
              0.7777777777777778,
              "#fb9f3a"
             ],
             [
              0.8888888888888888,
              "#fdca26"
             ],
             [
              1,
              "#f0f921"
             ]
            ],
            "type": "histogram2dcontour"
           }
          ],
          "mesh3d": [
           {
            "colorbar": {
             "outlinewidth": 0,
             "ticks": ""
            },
            "type": "mesh3d"
           }
          ],
          "parcoords": [
           {
            "line": {
             "colorbar": {
              "outlinewidth": 0,
              "ticks": ""
             }
            },
            "type": "parcoords"
           }
          ],
          "pie": [
           {
            "automargin": true,
            "type": "pie"
           }
          ],
          "scatter": [
           {
            "fillpattern": {
             "fillmode": "overlay",
             "size": 10,
             "solidity": 0.2
            },
            "type": "scatter"
           }
          ],
          "scatter3d": [
           {
            "line": {
             "colorbar": {
              "outlinewidth": 0,
              "ticks": ""
             }
            },
            "marker": {
             "colorbar": {
              "outlinewidth": 0,
              "ticks": ""
             }
            },
            "type": "scatter3d"
           }
          ],
          "scattercarpet": [
           {
            "marker": {
             "colorbar": {
              "outlinewidth": 0,
              "ticks": ""
             }
            },
            "type": "scattercarpet"
           }
          ],
          "scattergeo": [
           {
            "marker": {
             "colorbar": {
              "outlinewidth": 0,
              "ticks": ""
             }
            },
            "type": "scattergeo"
           }
          ],
          "scattergl": [
           {
            "marker": {
             "colorbar": {
              "outlinewidth": 0,
              "ticks": ""
             }
            },
            "type": "scattergl"
           }
          ],
          "scattermapbox": [
           {
            "marker": {
             "colorbar": {
              "outlinewidth": 0,
              "ticks": ""
             }
            },
            "type": "scattermapbox"
           }
          ],
          "scatterpolar": [
           {
            "marker": {
             "colorbar": {
              "outlinewidth": 0,
              "ticks": ""
             }
            },
            "type": "scatterpolar"
           }
          ],
          "scatterpolargl": [
           {
            "marker": {
             "colorbar": {
              "outlinewidth": 0,
              "ticks": ""
             }
            },
            "type": "scatterpolargl"
           }
          ],
          "scatterternary": [
           {
            "marker": {
             "colorbar": {
              "outlinewidth": 0,
              "ticks": ""
             }
            },
            "type": "scatterternary"
           }
          ],
          "surface": [
           {
            "colorbar": {
             "outlinewidth": 0,
             "ticks": ""
            },
            "colorscale": [
             [
              0,
              "#0d0887"
             ],
             [
              0.1111111111111111,
              "#46039f"
             ],
             [
              0.2222222222222222,
              "#7201a8"
             ],
             [
              0.3333333333333333,
              "#9c179e"
             ],
             [
              0.4444444444444444,
              "#bd3786"
             ],
             [
              0.5555555555555556,
              "#d8576b"
             ],
             [
              0.6666666666666666,
              "#ed7953"
             ],
             [
              0.7777777777777778,
              "#fb9f3a"
             ],
             [
              0.8888888888888888,
              "#fdca26"
             ],
             [
              1,
              "#f0f921"
             ]
            ],
            "type": "surface"
           }
          ],
          "table": [
           {
            "cells": {
             "fill": {
              "color": "#EBF0F8"
             },
             "line": {
              "color": "white"
             }
            },
            "header": {
             "fill": {
              "color": "#C8D4E3"
             },
             "line": {
              "color": "white"
             }
            },
            "type": "table"
           }
          ]
         },
         "layout": {
          "annotationdefaults": {
           "arrowcolor": "#2a3f5f",
           "arrowhead": 0,
           "arrowwidth": 1
          },
          "autotypenumbers": "strict",
          "coloraxis": {
           "colorbar": {
            "outlinewidth": 0,
            "ticks": ""
           }
          },
          "colorscale": {
           "diverging": [
            [
             0,
             "#8e0152"
            ],
            [
             0.1,
             "#c51b7d"
            ],
            [
             0.2,
             "#de77ae"
            ],
            [
             0.3,
             "#f1b6da"
            ],
            [
             0.4,
             "#fde0ef"
            ],
            [
             0.5,
             "#f7f7f7"
            ],
            [
             0.6,
             "#e6f5d0"
            ],
            [
             0.7,
             "#b8e186"
            ],
            [
             0.8,
             "#7fbc41"
            ],
            [
             0.9,
             "#4d9221"
            ],
            [
             1,
             "#276419"
            ]
           ],
           "sequential": [
            [
             0,
             "#0d0887"
            ],
            [
             0.1111111111111111,
             "#46039f"
            ],
            [
             0.2222222222222222,
             "#7201a8"
            ],
            [
             0.3333333333333333,
             "#9c179e"
            ],
            [
             0.4444444444444444,
             "#bd3786"
            ],
            [
             0.5555555555555556,
             "#d8576b"
            ],
            [
             0.6666666666666666,
             "#ed7953"
            ],
            [
             0.7777777777777778,
             "#fb9f3a"
            ],
            [
             0.8888888888888888,
             "#fdca26"
            ],
            [
             1,
             "#f0f921"
            ]
           ],
           "sequentialminus": [
            [
             0,
             "#0d0887"
            ],
            [
             0.1111111111111111,
             "#46039f"
            ],
            [
             0.2222222222222222,
             "#7201a8"
            ],
            [
             0.3333333333333333,
             "#9c179e"
            ],
            [
             0.4444444444444444,
             "#bd3786"
            ],
            [
             0.5555555555555556,
             "#d8576b"
            ],
            [
             0.6666666666666666,
             "#ed7953"
            ],
            [
             0.7777777777777778,
             "#fb9f3a"
            ],
            [
             0.8888888888888888,
             "#fdca26"
            ],
            [
             1,
             "#f0f921"
            ]
           ]
          },
          "colorway": [
           "#636efa",
           "#EF553B",
           "#00cc96",
           "#ab63fa",
           "#FFA15A",
           "#19d3f3",
           "#FF6692",
           "#B6E880",
           "#FF97FF",
           "#FECB52"
          ],
          "font": {
           "color": "#2a3f5f"
          },
          "geo": {
           "bgcolor": "white",
           "lakecolor": "white",
           "landcolor": "#E5ECF6",
           "showlakes": true,
           "showland": true,
           "subunitcolor": "white"
          },
          "hoverlabel": {
           "align": "left"
          },
          "hovermode": "closest",
          "mapbox": {
           "style": "light"
          },
          "paper_bgcolor": "white",
          "plot_bgcolor": "#E5ECF6",
          "polar": {
           "angularaxis": {
            "gridcolor": "white",
            "linecolor": "white",
            "ticks": ""
           },
           "bgcolor": "#E5ECF6",
           "radialaxis": {
            "gridcolor": "white",
            "linecolor": "white",
            "ticks": ""
           }
          },
          "scene": {
           "xaxis": {
            "backgroundcolor": "#E5ECF6",
            "gridcolor": "white",
            "gridwidth": 2,
            "linecolor": "white",
            "showbackground": true,
            "ticks": "",
            "zerolinecolor": "white"
           },
           "yaxis": {
            "backgroundcolor": "#E5ECF6",
            "gridcolor": "white",
            "gridwidth": 2,
            "linecolor": "white",
            "showbackground": true,
            "ticks": "",
            "zerolinecolor": "white"
           },
           "zaxis": {
            "backgroundcolor": "#E5ECF6",
            "gridcolor": "white",
            "gridwidth": 2,
            "linecolor": "white",
            "showbackground": true,
            "ticks": "",
            "zerolinecolor": "white"
           }
          },
          "shapedefaults": {
           "line": {
            "color": "#2a3f5f"
           }
          },
          "ternary": {
           "aaxis": {
            "gridcolor": "white",
            "linecolor": "white",
            "ticks": ""
           },
           "baxis": {
            "gridcolor": "white",
            "linecolor": "white",
            "ticks": ""
           },
           "bgcolor": "#E5ECF6",
           "caxis": {
            "gridcolor": "white",
            "linecolor": "white",
            "ticks": ""
           }
          },
          "title": {
           "x": 0.05
          },
          "xaxis": {
           "automargin": true,
           "gridcolor": "white",
           "linecolor": "white",
           "ticks": "",
           "title": {
            "standoff": 15
           },
           "zerolinecolor": "white",
           "zerolinewidth": 2
          },
          "yaxis": {
           "automargin": true,
           "gridcolor": "white",
           "linecolor": "white",
           "ticks": "",
           "title": {
            "standoff": 15
           },
           "zerolinecolor": "white",
           "zerolinewidth": 2
          }
         }
        },
        "title": {
         "text": "Candlestick chart with levels"
        },
        "width": 1200
       }
      }
     },
     "metadata": {},
     "output_type": "display_data"
    }
   ],
   "source": [
    "import plotly.graph_objects as go\n",
    "\n",
    "fig = go.Figure(data=[go.Candlestick(x=df['Date'],\n",
    "                                    open=df['Open'],\n",
    "                                    high=df['High'],\n",
    "                                    low=df['Low'],\n",
    "                                    close=df['LTP'])])\n",
    "\n",
    "for level in levels:\n",
    "    index, value = level  # Unpack the index and value from the tuple\n",
    "    x0 = df['Date'][index]\n",
    "    y0 = value\n",
    "    x1 = df['Date'][index + 1] if index + 1 < len(df['Date']) else df['Date'][index]  # Assuming the date is continuous\n",
    "    y1 = value\n",
    "    fig.add_shape(type='line',\n",
    "                  x0=x0,\n",
    "                  y0=y0,\n",
    "                  x1=x1,\n",
    "                  y1=y1,\n",
    "                  line=dict(color='blue', width=1, dash='dash'))\n",
    "\n",
    "    # Specify the desired length extension\n",
    "    length_extension = pd.Timedelta(days=100)\n",
    "    if index + 1 < len(df['Date']):\n",
    "        x1_extension = pd.to_datetime(x1) + length_extension\n",
    "    else:\n",
    "        x1_extension = pd.to_datetime(x1)\n",
    "\n",
    "    fig.add_shape(type='line',\n",
    "                  x0=x1,\n",
    "                  y0=y1,\n",
    "                  x1=x1_extension,\n",
    "                  y1=y1,\n",
    "                  line=dict(color='blue', width=1, dash='dash'))\n",
    "\n",
    "fig.update_layout(height=600, width=1200,title = 'Candlestick chart with levels')\n",
    "\n",
    "fig.show()\n"
   ]
  },
  {
   "cell_type": "code",
   "execution_count": null,
   "metadata": {},
   "outputs": [],
   "source": []
  },
  {
   "cell_type": "code",
   "execution_count": null,
   "metadata": {},
   "outputs": [],
   "source": []
  },
  {
   "cell_type": "code",
   "execution_count": null,
   "metadata": {},
   "outputs": [],
   "source": []
  }
 ],
 "metadata": {
  "kernelspec": {
   "display_name": "base",
   "language": "python",
   "name": "python3"
  },
  "language_info": {
   "codemirror_mode": {
    "name": "ipython",
    "version": 3
   },
   "file_extension": ".py",
   "mimetype": "text/x-python",
   "name": "python",
   "nbconvert_exporter": "python",
   "pygments_lexer": "ipython3",
   "version": "3.10.9"
  },
  "orig_nbformat": 4
 },
 "nbformat": 4,
 "nbformat_minor": 2
}
