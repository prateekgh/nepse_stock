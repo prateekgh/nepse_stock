{
 "cells": [
  {
   "cell_type": "code",
   "execution_count": 195,
   "metadata": {},
   "outputs": [],
   "source": [
    "import pandas as pd\n",
    "import numpy as np \n",
    "import function_initial as fn\n",
    "import function_frac_wind as  ffw\n",
    "import matplotlib.pyplot as  plt\n",
    "from mplfinance.original_flavor import candlestick_ohlc\n",
    "import matplotlib.dates as mpl_dates"
   ]
  },
  {
   "cell_type": "code",
   "execution_count": 196,
   "metadata": {},
   "outputs": [],
   "source": [
    "import mplfinance as mpf\n"
   ]
  },
  {
   "cell_type": "code",
   "execution_count": 197,
   "metadata": {},
   "outputs": [],
   "source": [
    "df_i= ffw.read_file('Initial_cleaned_data.csv')"
   ]
  },
  {
   "cell_type": "code",
   "execution_count": 198,
   "metadata": {},
   "outputs": [],
   "source": [
    "df = fn.initialization(df_i,'SBL','2019-07-19','2019-08-30')"
   ]
  },
  {
   "cell_type": "code",
   "execution_count": 199,
   "metadata": {},
   "outputs": [
    {
     "name": "stdout",
     "output_type": "stream",
     "text": [
      "<class 'pandas.core.frame.DataFrame'>\n",
      "Int64Index: 30 entries, 30989 to 35831\n",
      "Data columns (total 9 columns):\n",
      " #   Column    Non-Null Count  Dtype         \n",
      "---  ------    --------------  -----         \n",
      " 0   Date      30 non-null     datetime64[ns]\n",
      " 1   Symbol    30 non-null     object        \n",
      " 2   LTP       30 non-null     float64       \n",
      " 3   %Change   30 non-null     float64       \n",
      " 4   High      30 non-null     float64       \n",
      " 5   Low       30 non-null     float64       \n",
      " 6   Open      30 non-null     float64       \n",
      " 7   Quantity  30 non-null     float64       \n",
      " 8   Turnover  30 non-null     float64       \n",
      "dtypes: datetime64[ns](1), float64(7), object(1)\n",
      "memory usage: 2.3+ KB\n"
     ]
    }
   ],
   "source": [
    "df.info()"
   ]
  },
  {
   "cell_type": "code",
   "execution_count": 200,
   "metadata": {},
   "outputs": [
    {
     "data": {
      "text/html": [
       "<div>\n",
       "<style scoped>\n",
       "    .dataframe tbody tr th:only-of-type {\n",
       "        vertical-align: middle;\n",
       "    }\n",
       "\n",
       "    .dataframe tbody tr th {\n",
       "        vertical-align: top;\n",
       "    }\n",
       "\n",
       "    .dataframe thead th {\n",
       "        text-align: right;\n",
       "    }\n",
       "</style>\n",
       "<table border=\"1\" class=\"dataframe\">\n",
       "  <thead>\n",
       "    <tr style=\"text-align: right;\">\n",
       "      <th></th>\n",
       "      <th>Date</th>\n",
       "      <th>Symbol</th>\n",
       "      <th>LTP</th>\n",
       "      <th>%Change</th>\n",
       "      <th>High</th>\n",
       "      <th>Low</th>\n",
       "      <th>Open</th>\n",
       "      <th>Quantity</th>\n",
       "      <th>Turnover</th>\n",
       "    </tr>\n",
       "  </thead>\n",
       "  <tbody>\n",
       "    <tr>\n",
       "      <th>30989</th>\n",
       "      <td>2019-07-21</td>\n",
       "      <td>SBL</td>\n",
       "      <td>327.0</td>\n",
       "      <td>0.00</td>\n",
       "      <td>327.0</td>\n",
       "      <td>321.0</td>\n",
       "      <td>321.0</td>\n",
       "      <td>18223.0</td>\n",
       "      <td>5867285.0</td>\n",
       "    </tr>\n",
       "    <tr>\n",
       "      <th>31158</th>\n",
       "      <td>2019-07-22</td>\n",
       "      <td>SBL</td>\n",
       "      <td>324.0</td>\n",
       "      <td>-0.92</td>\n",
       "      <td>327.0</td>\n",
       "      <td>323.0</td>\n",
       "      <td>326.0</td>\n",
       "      <td>13483.0</td>\n",
       "      <td>4376663.0</td>\n",
       "    </tr>\n",
       "    <tr>\n",
       "      <th>31323</th>\n",
       "      <td>2019-07-23</td>\n",
       "      <td>SBL</td>\n",
       "      <td>326.0</td>\n",
       "      <td>0.62</td>\n",
       "      <td>328.0</td>\n",
       "      <td>324.0</td>\n",
       "      <td>324.0</td>\n",
       "      <td>23573.0</td>\n",
       "      <td>7672034.0</td>\n",
       "    </tr>\n",
       "    <tr>\n",
       "      <th>31491</th>\n",
       "      <td>2019-07-24</td>\n",
       "      <td>SBL</td>\n",
       "      <td>327.0</td>\n",
       "      <td>0.31</td>\n",
       "      <td>329.0</td>\n",
       "      <td>326.0</td>\n",
       "      <td>329.0</td>\n",
       "      <td>41655.0</td>\n",
       "      <td>13637949.0</td>\n",
       "    </tr>\n",
       "    <tr>\n",
       "      <th>31661</th>\n",
       "      <td>2019-07-25</td>\n",
       "      <td>SBL</td>\n",
       "      <td>324.0</td>\n",
       "      <td>-0.92</td>\n",
       "      <td>327.0</td>\n",
       "      <td>322.0</td>\n",
       "      <td>327.0</td>\n",
       "      <td>21422.0</td>\n",
       "      <td>6946170.0</td>\n",
       "    </tr>\n",
       "    <tr>\n",
       "      <th>31827</th>\n",
       "      <td>2019-07-28</td>\n",
       "      <td>SBL</td>\n",
       "      <td>321.0</td>\n",
       "      <td>-0.93</td>\n",
       "      <td>321.0</td>\n",
       "      <td>318.0</td>\n",
       "      <td>320.0</td>\n",
       "      <td>14468.0</td>\n",
       "      <td>4626429.0</td>\n",
       "    </tr>\n",
       "    <tr>\n",
       "      <th>31991</th>\n",
       "      <td>2019-07-29</td>\n",
       "      <td>SBL</td>\n",
       "      <td>320.0</td>\n",
       "      <td>-0.31</td>\n",
       "      <td>325.0</td>\n",
       "      <td>320.0</td>\n",
       "      <td>325.0</td>\n",
       "      <td>18523.0</td>\n",
       "      <td>5937565.0</td>\n",
       "    </tr>\n",
       "    <tr>\n",
       "      <th>32333</th>\n",
       "      <td>2019-07-30</td>\n",
       "      <td>SBL</td>\n",
       "      <td>322.0</td>\n",
       "      <td>0.62</td>\n",
       "      <td>325.0</td>\n",
       "      <td>315.0</td>\n",
       "      <td>317.0</td>\n",
       "      <td>14950.0</td>\n",
       "      <td>4804360.0</td>\n",
       "    </tr>\n",
       "    <tr>\n",
       "      <th>32499</th>\n",
       "      <td>2019-07-31</td>\n",
       "      <td>SBL</td>\n",
       "      <td>324.0</td>\n",
       "      <td>0.62</td>\n",
       "      <td>325.0</td>\n",
       "      <td>321.0</td>\n",
       "      <td>321.0</td>\n",
       "      <td>8971.0</td>\n",
       "      <td>2899063.0</td>\n",
       "    </tr>\n",
       "    <tr>\n",
       "      <th>33350</th>\n",
       "      <td>2019-08-01</td>\n",
       "      <td>SBL</td>\n",
       "      <td>322.0</td>\n",
       "      <td>-0.62</td>\n",
       "      <td>327.0</td>\n",
       "      <td>321.0</td>\n",
       "      <td>325.0</td>\n",
       "      <td>18341.0</td>\n",
       "      <td>5908046.0</td>\n",
       "    </tr>\n",
       "    <tr>\n",
       "      <th>36001</th>\n",
       "      <td>2019-08-04</td>\n",
       "      <td>SBL</td>\n",
       "      <td>323.0</td>\n",
       "      <td>0.31</td>\n",
       "      <td>327.0</td>\n",
       "      <td>318.0</td>\n",
       "      <td>319.0</td>\n",
       "      <td>27548.0</td>\n",
       "      <td>8876727.0</td>\n",
       "    </tr>\n",
       "    <tr>\n",
       "      <th>36168</th>\n",
       "      <td>2019-08-05</td>\n",
       "      <td>SBL</td>\n",
       "      <td>321.0</td>\n",
       "      <td>-0.62</td>\n",
       "      <td>323.0</td>\n",
       "      <td>320.0</td>\n",
       "      <td>323.0</td>\n",
       "      <td>27505.0</td>\n",
       "      <td>8827167.0</td>\n",
       "    </tr>\n",
       "    <tr>\n",
       "      <th>36333</th>\n",
       "      <td>2019-08-06</td>\n",
       "      <td>SBL</td>\n",
       "      <td>317.0</td>\n",
       "      <td>-1.25</td>\n",
       "      <td>321.0</td>\n",
       "      <td>315.0</td>\n",
       "      <td>321.0</td>\n",
       "      <td>33320.0</td>\n",
       "      <td>10540153.0</td>\n",
       "    </tr>\n",
       "    <tr>\n",
       "      <th>36504</th>\n",
       "      <td>2019-08-07</td>\n",
       "      <td>SBL</td>\n",
       "      <td>321.0</td>\n",
       "      <td>1.26</td>\n",
       "      <td>323.0</td>\n",
       "      <td>315.0</td>\n",
       "      <td>315.0</td>\n",
       "      <td>15396.0</td>\n",
       "      <td>4926483.0</td>\n",
       "    </tr>\n",
       "    <tr>\n",
       "      <th>36671</th>\n",
       "      <td>2019-08-08</td>\n",
       "      <td>SBL</td>\n",
       "      <td>318.0</td>\n",
       "      <td>-0.93</td>\n",
       "      <td>320.0</td>\n",
       "      <td>318.0</td>\n",
       "      <td>320.0</td>\n",
       "      <td>21797.0</td>\n",
       "      <td>6953701.0</td>\n",
       "    </tr>\n",
       "    <tr>\n",
       "      <th>33513</th>\n",
       "      <td>2019-08-11</td>\n",
       "      <td>SBL</td>\n",
       "      <td>319.0</td>\n",
       "      <td>0.31</td>\n",
       "      <td>319.0</td>\n",
       "      <td>316.0</td>\n",
       "      <td>318.0</td>\n",
       "      <td>20275.0</td>\n",
       "      <td>6440899.0</td>\n",
       "    </tr>\n",
       "    <tr>\n",
       "      <th>33685</th>\n",
       "      <td>2019-08-12</td>\n",
       "      <td>SBL</td>\n",
       "      <td>318.0</td>\n",
       "      <td>-0.31</td>\n",
       "      <td>319.0</td>\n",
       "      <td>317.0</td>\n",
       "      <td>318.0</td>\n",
       "      <td>13634.0</td>\n",
       "      <td>4331585.0</td>\n",
       "    </tr>\n",
       "    <tr>\n",
       "      <th>33849</th>\n",
       "      <td>2019-08-13</td>\n",
       "      <td>SBL</td>\n",
       "      <td>316.0</td>\n",
       "      <td>-0.63</td>\n",
       "      <td>333.0</td>\n",
       "      <td>311.0</td>\n",
       "      <td>333.0</td>\n",
       "      <td>17641.0</td>\n",
       "      <td>5596329.0</td>\n",
       "    </tr>\n",
       "    <tr>\n",
       "      <th>34018</th>\n",
       "      <td>2019-08-14</td>\n",
       "      <td>SBL</td>\n",
       "      <td>316.0</td>\n",
       "      <td>0.00</td>\n",
       "      <td>316.0</td>\n",
       "      <td>315.0</td>\n",
       "      <td>316.0</td>\n",
       "      <td>14035.0</td>\n",
       "      <td>4426087.0</td>\n",
       "    </tr>\n",
       "    <tr>\n",
       "      <th>34175</th>\n",
       "      <td>2019-08-15</td>\n",
       "      <td>SBL</td>\n",
       "      <td>317.0</td>\n",
       "      <td>0.32</td>\n",
       "      <td>317.0</td>\n",
       "      <td>314.0</td>\n",
       "      <td>315.0</td>\n",
       "      <td>12916.0</td>\n",
       "      <td>4066558.0</td>\n",
       "    </tr>\n",
       "    <tr>\n",
       "      <th>34324</th>\n",
       "      <td>2019-08-18</td>\n",
       "      <td>SBL</td>\n",
       "      <td>315.0</td>\n",
       "      <td>-0.63</td>\n",
       "      <td>318.0</td>\n",
       "      <td>315.0</td>\n",
       "      <td>317.0</td>\n",
       "      <td>22968.0</td>\n",
       "      <td>7250860.0</td>\n",
       "    </tr>\n",
       "    <tr>\n",
       "      <th>34491</th>\n",
       "      <td>2019-08-19</td>\n",
       "      <td>SBL</td>\n",
       "      <td>319.0</td>\n",
       "      <td>1.27</td>\n",
       "      <td>325.0</td>\n",
       "      <td>314.0</td>\n",
       "      <td>315.0</td>\n",
       "      <td>7900.0</td>\n",
       "      <td>2515424.0</td>\n",
       "    </tr>\n",
       "    <tr>\n",
       "      <th>34658</th>\n",
       "      <td>2019-08-20</td>\n",
       "      <td>SBL</td>\n",
       "      <td>315.0</td>\n",
       "      <td>-1.25</td>\n",
       "      <td>318.0</td>\n",
       "      <td>314.0</td>\n",
       "      <td>316.0</td>\n",
       "      <td>12975.0</td>\n",
       "      <td>4091532.0</td>\n",
       "    </tr>\n",
       "    <tr>\n",
       "      <th>34819</th>\n",
       "      <td>2019-08-21</td>\n",
       "      <td>SBL</td>\n",
       "      <td>315.0</td>\n",
       "      <td>0.00</td>\n",
       "      <td>318.0</td>\n",
       "      <td>314.0</td>\n",
       "      <td>318.0</td>\n",
       "      <td>9372.0</td>\n",
       "      <td>2952692.0</td>\n",
       "    </tr>\n",
       "    <tr>\n",
       "      <th>34988</th>\n",
       "      <td>2019-08-22</td>\n",
       "      <td>SBL</td>\n",
       "      <td>316.0</td>\n",
       "      <td>0.32</td>\n",
       "      <td>318.0</td>\n",
       "      <td>315.0</td>\n",
       "      <td>315.0</td>\n",
       "      <td>2654.0</td>\n",
       "      <td>841364.0</td>\n",
       "    </tr>\n",
       "    <tr>\n",
       "      <th>35159</th>\n",
       "      <td>2019-08-25</td>\n",
       "      <td>SBL</td>\n",
       "      <td>315.0</td>\n",
       "      <td>-0.32</td>\n",
       "      <td>317.0</td>\n",
       "      <td>312.0</td>\n",
       "      <td>312.0</td>\n",
       "      <td>6923.0</td>\n",
       "      <td>2182831.0</td>\n",
       "    </tr>\n",
       "    <tr>\n",
       "      <th>35325</th>\n",
       "      <td>2019-08-26</td>\n",
       "      <td>SBL</td>\n",
       "      <td>314.0</td>\n",
       "      <td>-0.32</td>\n",
       "      <td>318.0</td>\n",
       "      <td>312.0</td>\n",
       "      <td>313.0</td>\n",
       "      <td>9225.0</td>\n",
       "      <td>2893103.0</td>\n",
       "    </tr>\n",
       "    <tr>\n",
       "      <th>35495</th>\n",
       "      <td>2019-08-27</td>\n",
       "      <td>SBL</td>\n",
       "      <td>318.0</td>\n",
       "      <td>1.27</td>\n",
       "      <td>318.0</td>\n",
       "      <td>314.0</td>\n",
       "      <td>314.0</td>\n",
       "      <td>6466.0</td>\n",
       "      <td>2044219.0</td>\n",
       "    </tr>\n",
       "    <tr>\n",
       "      <th>35664</th>\n",
       "      <td>2019-08-28</td>\n",
       "      <td>SBL</td>\n",
       "      <td>314.0</td>\n",
       "      <td>-1.26</td>\n",
       "      <td>318.0</td>\n",
       "      <td>314.0</td>\n",
       "      <td>318.0</td>\n",
       "      <td>3266.0</td>\n",
       "      <td>1028027.0</td>\n",
       "    </tr>\n",
       "    <tr>\n",
       "      <th>35831</th>\n",
       "      <td>2019-08-29</td>\n",
       "      <td>SBL</td>\n",
       "      <td>314.0</td>\n",
       "      <td>0.00</td>\n",
       "      <td>314.0</td>\n",
       "      <td>312.0</td>\n",
       "      <td>313.0</td>\n",
       "      <td>11825.0</td>\n",
       "      <td>3703251.0</td>\n",
       "    </tr>\n",
       "  </tbody>\n",
       "</table>\n",
       "</div>"
      ],
      "text/plain": [
       "            Date Symbol    LTP  %Change   High    Low   Open  Quantity  \\\n",
       "30989 2019-07-21    SBL  327.0     0.00  327.0  321.0  321.0   18223.0   \n",
       "31158 2019-07-22    SBL  324.0    -0.92  327.0  323.0  326.0   13483.0   \n",
       "31323 2019-07-23    SBL  326.0     0.62  328.0  324.0  324.0   23573.0   \n",
       "31491 2019-07-24    SBL  327.0     0.31  329.0  326.0  329.0   41655.0   \n",
       "31661 2019-07-25    SBL  324.0    -0.92  327.0  322.0  327.0   21422.0   \n",
       "31827 2019-07-28    SBL  321.0    -0.93  321.0  318.0  320.0   14468.0   \n",
       "31991 2019-07-29    SBL  320.0    -0.31  325.0  320.0  325.0   18523.0   \n",
       "32333 2019-07-30    SBL  322.0     0.62  325.0  315.0  317.0   14950.0   \n",
       "32499 2019-07-31    SBL  324.0     0.62  325.0  321.0  321.0    8971.0   \n",
       "33350 2019-08-01    SBL  322.0    -0.62  327.0  321.0  325.0   18341.0   \n",
       "36001 2019-08-04    SBL  323.0     0.31  327.0  318.0  319.0   27548.0   \n",
       "36168 2019-08-05    SBL  321.0    -0.62  323.0  320.0  323.0   27505.0   \n",
       "36333 2019-08-06    SBL  317.0    -1.25  321.0  315.0  321.0   33320.0   \n",
       "36504 2019-08-07    SBL  321.0     1.26  323.0  315.0  315.0   15396.0   \n",
       "36671 2019-08-08    SBL  318.0    -0.93  320.0  318.0  320.0   21797.0   \n",
       "33513 2019-08-11    SBL  319.0     0.31  319.0  316.0  318.0   20275.0   \n",
       "33685 2019-08-12    SBL  318.0    -0.31  319.0  317.0  318.0   13634.0   \n",
       "33849 2019-08-13    SBL  316.0    -0.63  333.0  311.0  333.0   17641.0   \n",
       "34018 2019-08-14    SBL  316.0     0.00  316.0  315.0  316.0   14035.0   \n",
       "34175 2019-08-15    SBL  317.0     0.32  317.0  314.0  315.0   12916.0   \n",
       "34324 2019-08-18    SBL  315.0    -0.63  318.0  315.0  317.0   22968.0   \n",
       "34491 2019-08-19    SBL  319.0     1.27  325.0  314.0  315.0    7900.0   \n",
       "34658 2019-08-20    SBL  315.0    -1.25  318.0  314.0  316.0   12975.0   \n",
       "34819 2019-08-21    SBL  315.0     0.00  318.0  314.0  318.0    9372.0   \n",
       "34988 2019-08-22    SBL  316.0     0.32  318.0  315.0  315.0    2654.0   \n",
       "35159 2019-08-25    SBL  315.0    -0.32  317.0  312.0  312.0    6923.0   \n",
       "35325 2019-08-26    SBL  314.0    -0.32  318.0  312.0  313.0    9225.0   \n",
       "35495 2019-08-27    SBL  318.0     1.27  318.0  314.0  314.0    6466.0   \n",
       "35664 2019-08-28    SBL  314.0    -1.26  318.0  314.0  318.0    3266.0   \n",
       "35831 2019-08-29    SBL  314.0     0.00  314.0  312.0  313.0   11825.0   \n",
       "\n",
       "         Turnover  \n",
       "30989   5867285.0  \n",
       "31158   4376663.0  \n",
       "31323   7672034.0  \n",
       "31491  13637949.0  \n",
       "31661   6946170.0  \n",
       "31827   4626429.0  \n",
       "31991   5937565.0  \n",
       "32333   4804360.0  \n",
       "32499   2899063.0  \n",
       "33350   5908046.0  \n",
       "36001   8876727.0  \n",
       "36168   8827167.0  \n",
       "36333  10540153.0  \n",
       "36504   4926483.0  \n",
       "36671   6953701.0  \n",
       "33513   6440899.0  \n",
       "33685   4331585.0  \n",
       "33849   5596329.0  \n",
       "34018   4426087.0  \n",
       "34175   4066558.0  \n",
       "34324   7250860.0  \n",
       "34491   2515424.0  \n",
       "34658   4091532.0  \n",
       "34819   2952692.0  \n",
       "34988    841364.0  \n",
       "35159   2182831.0  \n",
       "35325   2893103.0  \n",
       "35495   2044219.0  \n",
       "35664   1028027.0  \n",
       "35831   3703251.0  "
      ]
     },
     "execution_count": 200,
     "metadata": {},
     "output_type": "execute_result"
    }
   ],
   "source": [
    "df"
   ]
  },
  {
   "cell_type": "code",
   "execution_count": 201,
   "metadata": {},
   "outputs": [],
   "source": [
    "df = df.reset_index()\n"
   ]
  },
  {
   "cell_type": "code",
   "execution_count": 202,
   "metadata": {},
   "outputs": [],
   "source": [
    "df = df.drop('index',axis=1)"
   ]
  },
  {
   "cell_type": "code",
   "execution_count": 203,
   "metadata": {},
   "outputs": [
    {
     "data": {
      "application/vnd.plotly.v1+json": {
       "config": {
        "plotlyServerURL": "https://plot.ly"
       },
       "data": [
        {
         "hovertemplate": "Date=%{x}<br>LTP=%{y}<extra></extra>",
         "legendgroup": "",
         "line": {
          "color": "#636efa",
          "dash": "solid"
         },
         "marker": {
          "symbol": "circle"
         },
         "mode": "lines",
         "name": "",
         "orientation": "v",
         "showlegend": false,
         "type": "scatter",
         "x": [
          "2019-07-21T00:00:00",
          "2019-07-22T00:00:00",
          "2019-07-23T00:00:00",
          "2019-07-24T00:00:00",
          "2019-07-25T00:00:00",
          "2019-07-28T00:00:00",
          "2019-07-29T00:00:00",
          "2019-07-30T00:00:00",
          "2019-07-31T00:00:00",
          "2019-08-01T00:00:00",
          "2019-08-04T00:00:00",
          "2019-08-05T00:00:00",
          "2019-08-06T00:00:00",
          "2019-08-07T00:00:00",
          "2019-08-08T00:00:00",
          "2019-08-11T00:00:00",
          "2019-08-12T00:00:00",
          "2019-08-13T00:00:00",
          "2019-08-14T00:00:00",
          "2019-08-15T00:00:00",
          "2019-08-18T00:00:00",
          "2019-08-19T00:00:00",
          "2019-08-20T00:00:00",
          "2019-08-21T00:00:00",
          "2019-08-22T00:00:00",
          "2019-08-25T00:00:00",
          "2019-08-26T00:00:00",
          "2019-08-27T00:00:00",
          "2019-08-28T00:00:00",
          "2019-08-29T00:00:00"
         ],
         "xaxis": "x",
         "y": [
          327,
          324,
          326,
          327,
          324,
          321,
          320,
          322,
          324,
          322,
          323,
          321,
          317,
          321,
          318,
          319,
          318,
          316,
          316,
          317,
          315,
          319,
          315,
          315,
          316,
          315,
          314,
          318,
          314,
          314
         ],
         "yaxis": "y"
        }
       ],
       "layout": {
        "height": 400,
        "legend": {
         "tracegroupgap": 0
        },
        "template": {
         "data": {
          "bar": [
           {
            "error_x": {
             "color": "#2a3f5f"
            },
            "error_y": {
             "color": "#2a3f5f"
            },
            "marker": {
             "line": {
              "color": "#E5ECF6",
              "width": 0.5
             },
             "pattern": {
              "fillmode": "overlay",
              "size": 10,
              "solidity": 0.2
             }
            },
            "type": "bar"
           }
          ],
          "barpolar": [
           {
            "marker": {
             "line": {
              "color": "#E5ECF6",
              "width": 0.5
             },
             "pattern": {
              "fillmode": "overlay",
              "size": 10,
              "solidity": 0.2
             }
            },
            "type": "barpolar"
           }
          ],
          "carpet": [
           {
            "aaxis": {
             "endlinecolor": "#2a3f5f",
             "gridcolor": "white",
             "linecolor": "white",
             "minorgridcolor": "white",
             "startlinecolor": "#2a3f5f"
            },
            "baxis": {
             "endlinecolor": "#2a3f5f",
             "gridcolor": "white",
             "linecolor": "white",
             "minorgridcolor": "white",
             "startlinecolor": "#2a3f5f"
            },
            "type": "carpet"
           }
          ],
          "choropleth": [
           {
            "colorbar": {
             "outlinewidth": 0,
             "ticks": ""
            },
            "type": "choropleth"
           }
          ],
          "contour": [
           {
            "colorbar": {
             "outlinewidth": 0,
             "ticks": ""
            },
            "colorscale": [
             [
              0,
              "#0d0887"
             ],
             [
              0.1111111111111111,
              "#46039f"
             ],
             [
              0.2222222222222222,
              "#7201a8"
             ],
             [
              0.3333333333333333,
              "#9c179e"
             ],
             [
              0.4444444444444444,
              "#bd3786"
             ],
             [
              0.5555555555555556,
              "#d8576b"
             ],
             [
              0.6666666666666666,
              "#ed7953"
             ],
             [
              0.7777777777777778,
              "#fb9f3a"
             ],
             [
              0.8888888888888888,
              "#fdca26"
             ],
             [
              1,
              "#f0f921"
             ]
            ],
            "type": "contour"
           }
          ],
          "contourcarpet": [
           {
            "colorbar": {
             "outlinewidth": 0,
             "ticks": ""
            },
            "type": "contourcarpet"
           }
          ],
          "heatmap": [
           {
            "colorbar": {
             "outlinewidth": 0,
             "ticks": ""
            },
            "colorscale": [
             [
              0,
              "#0d0887"
             ],
             [
              0.1111111111111111,
              "#46039f"
             ],
             [
              0.2222222222222222,
              "#7201a8"
             ],
             [
              0.3333333333333333,
              "#9c179e"
             ],
             [
              0.4444444444444444,
              "#bd3786"
             ],
             [
              0.5555555555555556,
              "#d8576b"
             ],
             [
              0.6666666666666666,
              "#ed7953"
             ],
             [
              0.7777777777777778,
              "#fb9f3a"
             ],
             [
              0.8888888888888888,
              "#fdca26"
             ],
             [
              1,
              "#f0f921"
             ]
            ],
            "type": "heatmap"
           }
          ],
          "heatmapgl": [
           {
            "colorbar": {
             "outlinewidth": 0,
             "ticks": ""
            },
            "colorscale": [
             [
              0,
              "#0d0887"
             ],
             [
              0.1111111111111111,
              "#46039f"
             ],
             [
              0.2222222222222222,
              "#7201a8"
             ],
             [
              0.3333333333333333,
              "#9c179e"
             ],
             [
              0.4444444444444444,
              "#bd3786"
             ],
             [
              0.5555555555555556,
              "#d8576b"
             ],
             [
              0.6666666666666666,
              "#ed7953"
             ],
             [
              0.7777777777777778,
              "#fb9f3a"
             ],
             [
              0.8888888888888888,
              "#fdca26"
             ],
             [
              1,
              "#f0f921"
             ]
            ],
            "type": "heatmapgl"
           }
          ],
          "histogram": [
           {
            "marker": {
             "pattern": {
              "fillmode": "overlay",
              "size": 10,
              "solidity": 0.2
             }
            },
            "type": "histogram"
           }
          ],
          "histogram2d": [
           {
            "colorbar": {
             "outlinewidth": 0,
             "ticks": ""
            },
            "colorscale": [
             [
              0,
              "#0d0887"
             ],
             [
              0.1111111111111111,
              "#46039f"
             ],
             [
              0.2222222222222222,
              "#7201a8"
             ],
             [
              0.3333333333333333,
              "#9c179e"
             ],
             [
              0.4444444444444444,
              "#bd3786"
             ],
             [
              0.5555555555555556,
              "#d8576b"
             ],
             [
              0.6666666666666666,
              "#ed7953"
             ],
             [
              0.7777777777777778,
              "#fb9f3a"
             ],
             [
              0.8888888888888888,
              "#fdca26"
             ],
             [
              1,
              "#f0f921"
             ]
            ],
            "type": "histogram2d"
           }
          ],
          "histogram2dcontour": [
           {
            "colorbar": {
             "outlinewidth": 0,
             "ticks": ""
            },
            "colorscale": [
             [
              0,
              "#0d0887"
             ],
             [
              0.1111111111111111,
              "#46039f"
             ],
             [
              0.2222222222222222,
              "#7201a8"
             ],
             [
              0.3333333333333333,
              "#9c179e"
             ],
             [
              0.4444444444444444,
              "#bd3786"
             ],
             [
              0.5555555555555556,
              "#d8576b"
             ],
             [
              0.6666666666666666,
              "#ed7953"
             ],
             [
              0.7777777777777778,
              "#fb9f3a"
             ],
             [
              0.8888888888888888,
              "#fdca26"
             ],
             [
              1,
              "#f0f921"
             ]
            ],
            "type": "histogram2dcontour"
           }
          ],
          "mesh3d": [
           {
            "colorbar": {
             "outlinewidth": 0,
             "ticks": ""
            },
            "type": "mesh3d"
           }
          ],
          "parcoords": [
           {
            "line": {
             "colorbar": {
              "outlinewidth": 0,
              "ticks": ""
             }
            },
            "type": "parcoords"
           }
          ],
          "pie": [
           {
            "automargin": true,
            "type": "pie"
           }
          ],
          "scatter": [
           {
            "fillpattern": {
             "fillmode": "overlay",
             "size": 10,
             "solidity": 0.2
            },
            "type": "scatter"
           }
          ],
          "scatter3d": [
           {
            "line": {
             "colorbar": {
              "outlinewidth": 0,
              "ticks": ""
             }
            },
            "marker": {
             "colorbar": {
              "outlinewidth": 0,
              "ticks": ""
             }
            },
            "type": "scatter3d"
           }
          ],
          "scattercarpet": [
           {
            "marker": {
             "colorbar": {
              "outlinewidth": 0,
              "ticks": ""
             }
            },
            "type": "scattercarpet"
           }
          ],
          "scattergeo": [
           {
            "marker": {
             "colorbar": {
              "outlinewidth": 0,
              "ticks": ""
             }
            },
            "type": "scattergeo"
           }
          ],
          "scattergl": [
           {
            "marker": {
             "colorbar": {
              "outlinewidth": 0,
              "ticks": ""
             }
            },
            "type": "scattergl"
           }
          ],
          "scattermapbox": [
           {
            "marker": {
             "colorbar": {
              "outlinewidth": 0,
              "ticks": ""
             }
            },
            "type": "scattermapbox"
           }
          ],
          "scatterpolar": [
           {
            "marker": {
             "colorbar": {
              "outlinewidth": 0,
              "ticks": ""
             }
            },
            "type": "scatterpolar"
           }
          ],
          "scatterpolargl": [
           {
            "marker": {
             "colorbar": {
              "outlinewidth": 0,
              "ticks": ""
             }
            },
            "type": "scatterpolargl"
           }
          ],
          "scatterternary": [
           {
            "marker": {
             "colorbar": {
              "outlinewidth": 0,
              "ticks": ""
             }
            },
            "type": "scatterternary"
           }
          ],
          "surface": [
           {
            "colorbar": {
             "outlinewidth": 0,
             "ticks": ""
            },
            "colorscale": [
             [
              0,
              "#0d0887"
             ],
             [
              0.1111111111111111,
              "#46039f"
             ],
             [
              0.2222222222222222,
              "#7201a8"
             ],
             [
              0.3333333333333333,
              "#9c179e"
             ],
             [
              0.4444444444444444,
              "#bd3786"
             ],
             [
              0.5555555555555556,
              "#d8576b"
             ],
             [
              0.6666666666666666,
              "#ed7953"
             ],
             [
              0.7777777777777778,
              "#fb9f3a"
             ],
             [
              0.8888888888888888,
              "#fdca26"
             ],
             [
              1,
              "#f0f921"
             ]
            ],
            "type": "surface"
           }
          ],
          "table": [
           {
            "cells": {
             "fill": {
              "color": "#EBF0F8"
             },
             "line": {
              "color": "white"
             }
            },
            "header": {
             "fill": {
              "color": "#C8D4E3"
             },
             "line": {
              "color": "white"
             }
            },
            "type": "table"
           }
          ]
         },
         "layout": {
          "annotationdefaults": {
           "arrowcolor": "#2a3f5f",
           "arrowhead": 0,
           "arrowwidth": 1
          },
          "autotypenumbers": "strict",
          "coloraxis": {
           "colorbar": {
            "outlinewidth": 0,
            "ticks": ""
           }
          },
          "colorscale": {
           "diverging": [
            [
             0,
             "#8e0152"
            ],
            [
             0.1,
             "#c51b7d"
            ],
            [
             0.2,
             "#de77ae"
            ],
            [
             0.3,
             "#f1b6da"
            ],
            [
             0.4,
             "#fde0ef"
            ],
            [
             0.5,
             "#f7f7f7"
            ],
            [
             0.6,
             "#e6f5d0"
            ],
            [
             0.7,
             "#b8e186"
            ],
            [
             0.8,
             "#7fbc41"
            ],
            [
             0.9,
             "#4d9221"
            ],
            [
             1,
             "#276419"
            ]
           ],
           "sequential": [
            [
             0,
             "#0d0887"
            ],
            [
             0.1111111111111111,
             "#46039f"
            ],
            [
             0.2222222222222222,
             "#7201a8"
            ],
            [
             0.3333333333333333,
             "#9c179e"
            ],
            [
             0.4444444444444444,
             "#bd3786"
            ],
            [
             0.5555555555555556,
             "#d8576b"
            ],
            [
             0.6666666666666666,
             "#ed7953"
            ],
            [
             0.7777777777777778,
             "#fb9f3a"
            ],
            [
             0.8888888888888888,
             "#fdca26"
            ],
            [
             1,
             "#f0f921"
            ]
           ],
           "sequentialminus": [
            [
             0,
             "#0d0887"
            ],
            [
             0.1111111111111111,
             "#46039f"
            ],
            [
             0.2222222222222222,
             "#7201a8"
            ],
            [
             0.3333333333333333,
             "#9c179e"
            ],
            [
             0.4444444444444444,
             "#bd3786"
            ],
            [
             0.5555555555555556,
             "#d8576b"
            ],
            [
             0.6666666666666666,
             "#ed7953"
            ],
            [
             0.7777777777777778,
             "#fb9f3a"
            ],
            [
             0.8888888888888888,
             "#fdca26"
            ],
            [
             1,
             "#f0f921"
            ]
           ]
          },
          "colorway": [
           "#636efa",
           "#EF553B",
           "#00cc96",
           "#ab63fa",
           "#FFA15A",
           "#19d3f3",
           "#FF6692",
           "#B6E880",
           "#FF97FF",
           "#FECB52"
          ],
          "font": {
           "color": "#2a3f5f"
          },
          "geo": {
           "bgcolor": "white",
           "lakecolor": "white",
           "landcolor": "#E5ECF6",
           "showlakes": true,
           "showland": true,
           "subunitcolor": "white"
          },
          "hoverlabel": {
           "align": "left"
          },
          "hovermode": "closest",
          "mapbox": {
           "style": "light"
          },
          "paper_bgcolor": "white",
          "plot_bgcolor": "#E5ECF6",
          "polar": {
           "angularaxis": {
            "gridcolor": "white",
            "linecolor": "white",
            "ticks": ""
           },
           "bgcolor": "#E5ECF6",
           "radialaxis": {
            "gridcolor": "white",
            "linecolor": "white",
            "ticks": ""
           }
          },
          "scene": {
           "xaxis": {
            "backgroundcolor": "#E5ECF6",
            "gridcolor": "white",
            "gridwidth": 2,
            "linecolor": "white",
            "showbackground": true,
            "ticks": "",
            "zerolinecolor": "white"
           },
           "yaxis": {
            "backgroundcolor": "#E5ECF6",
            "gridcolor": "white",
            "gridwidth": 2,
            "linecolor": "white",
            "showbackground": true,
            "ticks": "",
            "zerolinecolor": "white"
           },
           "zaxis": {
            "backgroundcolor": "#E5ECF6",
            "gridcolor": "white",
            "gridwidth": 2,
            "linecolor": "white",
            "showbackground": true,
            "ticks": "",
            "zerolinecolor": "white"
           }
          },
          "shapedefaults": {
           "line": {
            "color": "#2a3f5f"
           }
          },
          "ternary": {
           "aaxis": {
            "gridcolor": "white",
            "linecolor": "white",
            "ticks": ""
           },
           "baxis": {
            "gridcolor": "white",
            "linecolor": "white",
            "ticks": ""
           },
           "bgcolor": "#E5ECF6",
           "caxis": {
            "gridcolor": "white",
            "linecolor": "white",
            "ticks": ""
           }
          },
          "title": {
           "x": 0.05
          },
          "xaxis": {
           "automargin": true,
           "gridcolor": "white",
           "linecolor": "white",
           "ticks": "",
           "title": {
            "standoff": 15
           },
           "zerolinecolor": "white",
           "zerolinewidth": 2
          },
          "yaxis": {
           "automargin": true,
           "gridcolor": "white",
           "linecolor": "white",
           "ticks": "",
           "title": {
            "standoff": 15
           },
           "zerolinecolor": "white",
           "zerolinewidth": 2
          }
         }
        },
        "title": {
         "text": "LTP of the given dates of SBL"
        },
        "width": 1000,
        "xaxis": {
         "anchor": "y",
         "domain": [
          0,
          1
         ],
         "title": {
          "text": "Date"
         }
        },
        "yaxis": {
         "anchor": "x",
         "domain": [
          0,
          1
         ],
         "title": {
          "text": "LTP"
         }
        }
       }
      }
     },
     "metadata": {},
     "output_type": "display_data"
    }
   ],
   "source": [
    "fn.plotly_plot_line(df,'Date','LTP','SBL')"
   ]
  },
  {
   "cell_type": "code",
   "execution_count": 204,
   "metadata": {},
   "outputs": [],
   "source": [
    "#method 1: fractal candlestick pattern\n",
    "# determine bullish fractal \n",
    "def is_support(df,i):  \n",
    "  cond1 = df['Low'][i] < df['Low'][i-1]   \n",
    "  cond2 = df['Low'][i] < df['Low'][i+1]   \n",
    "  cond3 = df['Low'][i+1] < df['Low'][i+2]   \n",
    "  cond4 = df['Low'][i-1] < df['Low'][i-2]  \n",
    "  return (cond1 and cond2 and cond3 and cond4) \n",
    "\n",
    "\n",
    "# determine bearish fractal\n",
    "def is_resistance(df,i):  \n",
    "  cond1 = df['High'][i] > df['High'][i-1]   \n",
    "  cond2 = df['High'][i] > df['High'][i+1]   \n",
    "  cond3 = df['High'][i+1] > df['High'][i+2]   \n",
    "  cond4 = df['High'][i-1] > df['High'][i-2]  \n",
    "  return (cond1 and cond2 and cond3 and cond4)"
   ]
  },
  {
   "cell_type": "code",
   "execution_count": 205,
   "metadata": {},
   "outputs": [],
   "source": [
    "def is_far_from_level(value, levels, df):    \n",
    "  ave =  np.mean(df['High'] - df['Low'])    \n",
    "  return np.sum([abs(value-level)<ave for _,level in levels])==0\n",
    "\n"
   ]
  },
  {
   "cell_type": "code",
   "execution_count": 206,
   "metadata": {},
   "outputs": [],
   "source": [
    "n = df.shape[0]-2"
   ]
  },
  {
   "cell_type": "code",
   "execution_count": 207,
   "metadata": {},
   "outputs": [
    {
     "data": {
      "text/html": [
       "<div>\n",
       "<style scoped>\n",
       "    .dataframe tbody tr th:only-of-type {\n",
       "        vertical-align: middle;\n",
       "    }\n",
       "\n",
       "    .dataframe tbody tr th {\n",
       "        vertical-align: top;\n",
       "    }\n",
       "\n",
       "    .dataframe thead th {\n",
       "        text-align: right;\n",
       "    }\n",
       "</style>\n",
       "<table border=\"1\" class=\"dataframe\">\n",
       "  <thead>\n",
       "    <tr style=\"text-align: right;\">\n",
       "      <th></th>\n",
       "      <th>Date</th>\n",
       "      <th>Open</th>\n",
       "      <th>High</th>\n",
       "      <th>Low</th>\n",
       "      <th>LTP</th>\n",
       "    </tr>\n",
       "  </thead>\n",
       "  <tbody>\n",
       "    <tr>\n",
       "      <th>0</th>\n",
       "      <td>2019-07-21</td>\n",
       "      <td>321.0</td>\n",
       "      <td>327.0</td>\n",
       "      <td>321.0</td>\n",
       "      <td>327.0</td>\n",
       "    </tr>\n",
       "    <tr>\n",
       "      <th>1</th>\n",
       "      <td>2019-07-22</td>\n",
       "      <td>326.0</td>\n",
       "      <td>327.0</td>\n",
       "      <td>323.0</td>\n",
       "      <td>324.0</td>\n",
       "    </tr>\n",
       "    <tr>\n",
       "      <th>2</th>\n",
       "      <td>2019-07-23</td>\n",
       "      <td>324.0</td>\n",
       "      <td>328.0</td>\n",
       "      <td>324.0</td>\n",
       "      <td>326.0</td>\n",
       "    </tr>\n",
       "    <tr>\n",
       "      <th>3</th>\n",
       "      <td>2019-07-24</td>\n",
       "      <td>329.0</td>\n",
       "      <td>329.0</td>\n",
       "      <td>326.0</td>\n",
       "      <td>327.0</td>\n",
       "    </tr>\n",
       "    <tr>\n",
       "      <th>4</th>\n",
       "      <td>2019-07-25</td>\n",
       "      <td>327.0</td>\n",
       "      <td>327.0</td>\n",
       "      <td>322.0</td>\n",
       "      <td>324.0</td>\n",
       "    </tr>\n",
       "    <tr>\n",
       "      <th>5</th>\n",
       "      <td>2019-07-28</td>\n",
       "      <td>320.0</td>\n",
       "      <td>321.0</td>\n",
       "      <td>318.0</td>\n",
       "      <td>321.0</td>\n",
       "    </tr>\n",
       "    <tr>\n",
       "      <th>6</th>\n",
       "      <td>2019-07-29</td>\n",
       "      <td>325.0</td>\n",
       "      <td>325.0</td>\n",
       "      <td>320.0</td>\n",
       "      <td>320.0</td>\n",
       "    </tr>\n",
       "    <tr>\n",
       "      <th>7</th>\n",
       "      <td>2019-07-30</td>\n",
       "      <td>317.0</td>\n",
       "      <td>325.0</td>\n",
       "      <td>315.0</td>\n",
       "      <td>322.0</td>\n",
       "    </tr>\n",
       "    <tr>\n",
       "      <th>8</th>\n",
       "      <td>2019-07-31</td>\n",
       "      <td>321.0</td>\n",
       "      <td>325.0</td>\n",
       "      <td>321.0</td>\n",
       "      <td>324.0</td>\n",
       "    </tr>\n",
       "    <tr>\n",
       "      <th>9</th>\n",
       "      <td>2019-08-01</td>\n",
       "      <td>325.0</td>\n",
       "      <td>327.0</td>\n",
       "      <td>321.0</td>\n",
       "      <td>322.0</td>\n",
       "    </tr>\n",
       "    <tr>\n",
       "      <th>10</th>\n",
       "      <td>2019-08-04</td>\n",
       "      <td>319.0</td>\n",
       "      <td>327.0</td>\n",
       "      <td>318.0</td>\n",
       "      <td>323.0</td>\n",
       "    </tr>\n",
       "    <tr>\n",
       "      <th>11</th>\n",
       "      <td>2019-08-05</td>\n",
       "      <td>323.0</td>\n",
       "      <td>323.0</td>\n",
       "      <td>320.0</td>\n",
       "      <td>321.0</td>\n",
       "    </tr>\n",
       "    <tr>\n",
       "      <th>12</th>\n",
       "      <td>2019-08-06</td>\n",
       "      <td>321.0</td>\n",
       "      <td>321.0</td>\n",
       "      <td>315.0</td>\n",
       "      <td>317.0</td>\n",
       "    </tr>\n",
       "    <tr>\n",
       "      <th>13</th>\n",
       "      <td>2019-08-07</td>\n",
       "      <td>315.0</td>\n",
       "      <td>323.0</td>\n",
       "      <td>315.0</td>\n",
       "      <td>321.0</td>\n",
       "    </tr>\n",
       "    <tr>\n",
       "      <th>14</th>\n",
       "      <td>2019-08-08</td>\n",
       "      <td>320.0</td>\n",
       "      <td>320.0</td>\n",
       "      <td>318.0</td>\n",
       "      <td>318.0</td>\n",
       "    </tr>\n",
       "    <tr>\n",
       "      <th>15</th>\n",
       "      <td>2019-08-11</td>\n",
       "      <td>318.0</td>\n",
       "      <td>319.0</td>\n",
       "      <td>316.0</td>\n",
       "      <td>319.0</td>\n",
       "    </tr>\n",
       "    <tr>\n",
       "      <th>16</th>\n",
       "      <td>2019-08-12</td>\n",
       "      <td>318.0</td>\n",
       "      <td>319.0</td>\n",
       "      <td>317.0</td>\n",
       "      <td>318.0</td>\n",
       "    </tr>\n",
       "    <tr>\n",
       "      <th>17</th>\n",
       "      <td>2019-08-13</td>\n",
       "      <td>333.0</td>\n",
       "      <td>333.0</td>\n",
       "      <td>311.0</td>\n",
       "      <td>316.0</td>\n",
       "    </tr>\n",
       "    <tr>\n",
       "      <th>18</th>\n",
       "      <td>2019-08-14</td>\n",
       "      <td>316.0</td>\n",
       "      <td>316.0</td>\n",
       "      <td>315.0</td>\n",
       "      <td>316.0</td>\n",
       "    </tr>\n",
       "    <tr>\n",
       "      <th>19</th>\n",
       "      <td>2019-08-15</td>\n",
       "      <td>315.0</td>\n",
       "      <td>317.0</td>\n",
       "      <td>314.0</td>\n",
       "      <td>317.0</td>\n",
       "    </tr>\n",
       "    <tr>\n",
       "      <th>20</th>\n",
       "      <td>2019-08-18</td>\n",
       "      <td>317.0</td>\n",
       "      <td>318.0</td>\n",
       "      <td>315.0</td>\n",
       "      <td>315.0</td>\n",
       "    </tr>\n",
       "    <tr>\n",
       "      <th>21</th>\n",
       "      <td>2019-08-19</td>\n",
       "      <td>315.0</td>\n",
       "      <td>325.0</td>\n",
       "      <td>314.0</td>\n",
       "      <td>319.0</td>\n",
       "    </tr>\n",
       "    <tr>\n",
       "      <th>22</th>\n",
       "      <td>2019-08-20</td>\n",
       "      <td>316.0</td>\n",
       "      <td>318.0</td>\n",
       "      <td>314.0</td>\n",
       "      <td>315.0</td>\n",
       "    </tr>\n",
       "    <tr>\n",
       "      <th>23</th>\n",
       "      <td>2019-08-21</td>\n",
       "      <td>318.0</td>\n",
       "      <td>318.0</td>\n",
       "      <td>314.0</td>\n",
       "      <td>315.0</td>\n",
       "    </tr>\n",
       "    <tr>\n",
       "      <th>24</th>\n",
       "      <td>2019-08-22</td>\n",
       "      <td>315.0</td>\n",
       "      <td>318.0</td>\n",
       "      <td>315.0</td>\n",
       "      <td>316.0</td>\n",
       "    </tr>\n",
       "    <tr>\n",
       "      <th>25</th>\n",
       "      <td>2019-08-25</td>\n",
       "      <td>312.0</td>\n",
       "      <td>317.0</td>\n",
       "      <td>312.0</td>\n",
       "      <td>315.0</td>\n",
       "    </tr>\n",
       "    <tr>\n",
       "      <th>26</th>\n",
       "      <td>2019-08-26</td>\n",
       "      <td>313.0</td>\n",
       "      <td>318.0</td>\n",
       "      <td>312.0</td>\n",
       "      <td>314.0</td>\n",
       "    </tr>\n",
       "    <tr>\n",
       "      <th>27</th>\n",
       "      <td>2019-08-27</td>\n",
       "      <td>314.0</td>\n",
       "      <td>318.0</td>\n",
       "      <td>314.0</td>\n",
       "      <td>318.0</td>\n",
       "    </tr>\n",
       "    <tr>\n",
       "      <th>28</th>\n",
       "      <td>2019-08-28</td>\n",
       "      <td>318.0</td>\n",
       "      <td>318.0</td>\n",
       "      <td>314.0</td>\n",
       "      <td>314.0</td>\n",
       "    </tr>\n",
       "    <tr>\n",
       "      <th>29</th>\n",
       "      <td>2019-08-29</td>\n",
       "      <td>313.0</td>\n",
       "      <td>314.0</td>\n",
       "      <td>312.0</td>\n",
       "      <td>314.0</td>\n",
       "    </tr>\n",
       "  </tbody>\n",
       "</table>\n",
       "</div>"
      ],
      "text/plain": [
       "         Date   Open   High    Low    LTP\n",
       "0  2019-07-21  321.0  327.0  321.0  327.0\n",
       "1  2019-07-22  326.0  327.0  323.0  324.0\n",
       "2  2019-07-23  324.0  328.0  324.0  326.0\n",
       "3  2019-07-24  329.0  329.0  326.0  327.0\n",
       "4  2019-07-25  327.0  327.0  322.0  324.0\n",
       "5  2019-07-28  320.0  321.0  318.0  321.0\n",
       "6  2019-07-29  325.0  325.0  320.0  320.0\n",
       "7  2019-07-30  317.0  325.0  315.0  322.0\n",
       "8  2019-07-31  321.0  325.0  321.0  324.0\n",
       "9  2019-08-01  325.0  327.0  321.0  322.0\n",
       "10 2019-08-04  319.0  327.0  318.0  323.0\n",
       "11 2019-08-05  323.0  323.0  320.0  321.0\n",
       "12 2019-08-06  321.0  321.0  315.0  317.0\n",
       "13 2019-08-07  315.0  323.0  315.0  321.0\n",
       "14 2019-08-08  320.0  320.0  318.0  318.0\n",
       "15 2019-08-11  318.0  319.0  316.0  319.0\n",
       "16 2019-08-12  318.0  319.0  317.0  318.0\n",
       "17 2019-08-13  333.0  333.0  311.0  316.0\n",
       "18 2019-08-14  316.0  316.0  315.0  316.0\n",
       "19 2019-08-15  315.0  317.0  314.0  317.0\n",
       "20 2019-08-18  317.0  318.0  315.0  315.0\n",
       "21 2019-08-19  315.0  325.0  314.0  319.0\n",
       "22 2019-08-20  316.0  318.0  314.0  315.0\n",
       "23 2019-08-21  318.0  318.0  314.0  315.0\n",
       "24 2019-08-22  315.0  318.0  315.0  316.0\n",
       "25 2019-08-25  312.0  317.0  312.0  315.0\n",
       "26 2019-08-26  313.0  318.0  312.0  314.0\n",
       "27 2019-08-27  314.0  318.0  314.0  318.0\n",
       "28 2019-08-28  318.0  318.0  314.0  314.0\n",
       "29 2019-08-29  313.0  314.0  312.0  314.0"
      ]
     },
     "execution_count": 207,
     "metadata": {},
     "output_type": "execute_result"
    }
   ],
   "source": [
    "df[['Date','Open','High','Low','LTP']]"
   ]
  },
  {
   "cell_type": "code",
   "execution_count": 208,
   "metadata": {},
   "outputs": [],
   "source": [
    "levels = []\n",
    "for i in range(2, n):  \n",
    "  if is_support(df, i):    \n",
    "    low = df['Low'][i]    \n",
    "    if is_far_from_level(low, levels, df):      \n",
    "      levels.append((i, low))  \n",
    "  elif is_resistance(df, i):    \n",
    "    high = df['High'][i]    \n",
    "    if is_far_from_level(high, levels, df):      \n",
    "      levels.append((i, high))     \n",
    "                "
   ]
  },
  {
   "cell_type": "code",
   "execution_count": 209,
   "metadata": {},
   "outputs": [],
   "source": [
    "# for visualization\n",
    "def plot_all(levels,df):    \n",
    "  fig, ax = plt.subplots(figsize=(16, 9))   \n",
    "  candlestick_ohlc(ax,df[['Date','Open','High','Low','LTP']],width=0.6, colorup='green', \n",
    "    colordown='red', alpha=0.8)    \n",
    "  date_format = mpl_dates.DateFormatter('%d %b %Y')\n",
    "  ax.xaxis.set_major_formatter(date_format)    \n",
    "  for level in levels:        \n",
    "    plt.hlines(level[1], xmin = df['Date'][level[0]], xmax = \n",
    "      max(df['Date']), colors='blue', linestyle='--')    \n",
    "  fig.show()"
   ]
  },
  {
   "cell_type": "code",
   "execution_count": null,
   "metadata": {},
   "outputs": [],
   "source": []
  },
  {
   "cell_type": "code",
   "execution_count": 210,
   "metadata": {},
   "outputs": [
    {
     "ename": "ValueError",
     "evalue": "not enough values to unpack (expected 5, got 4)",
     "output_type": "error",
     "traceback": [
      "\u001b[1;31m---------------------------------------------------------------------------\u001b[0m",
      "\u001b[1;31mValueError\u001b[0m                                Traceback (most recent call last)",
      "Cell \u001b[1;32mIn[210], line 1\u001b[0m\n\u001b[1;32m----> 1\u001b[0m plot_all(levels,df)\n",
      "Cell \u001b[1;32mIn[209], line 4\u001b[0m, in \u001b[0;36mplot_all\u001b[1;34m(levels, df)\u001b[0m\n\u001b[0;32m      2\u001b[0m \u001b[39mdef\u001b[39;00m \u001b[39mplot_all\u001b[39m(levels,df):    \n\u001b[0;32m      3\u001b[0m   fig, ax \u001b[39m=\u001b[39m plt\u001b[39m.\u001b[39msubplots(figsize\u001b[39m=\u001b[39m(\u001b[39m16\u001b[39m, \u001b[39m9\u001b[39m))   \n\u001b[1;32m----> 4\u001b[0m   candlestick_ohlc(ax,df[[\u001b[39m'\u001b[39;49m\u001b[39mDate\u001b[39;49m\u001b[39m'\u001b[39;49m,\u001b[39m'\u001b[39;49m\u001b[39mOpen\u001b[39;49m\u001b[39m'\u001b[39;49m,\u001b[39m'\u001b[39;49m\u001b[39mHigh\u001b[39;49m\u001b[39m'\u001b[39;49m,\u001b[39m'\u001b[39;49m\u001b[39mLow\u001b[39;49m\u001b[39m'\u001b[39;49m,\u001b[39m'\u001b[39;49m\u001b[39mLTP\u001b[39;49m\u001b[39m'\u001b[39;49m]],width\u001b[39m=\u001b[39;49m\u001b[39m0.6\u001b[39;49m, colorup\u001b[39m=\u001b[39;49m\u001b[39m'\u001b[39;49m\u001b[39mgreen\u001b[39;49m\u001b[39m'\u001b[39;49m, \n\u001b[0;32m      5\u001b[0m     colordown\u001b[39m=\u001b[39;49m\u001b[39m'\u001b[39;49m\u001b[39mred\u001b[39;49m\u001b[39m'\u001b[39;49m, alpha\u001b[39m=\u001b[39;49m\u001b[39m0.8\u001b[39;49m)    \n\u001b[0;32m      6\u001b[0m   date_format \u001b[39m=\u001b[39m mpl_dates\u001b[39m.\u001b[39mDateFormatter(\u001b[39m'\u001b[39m\u001b[39m%d\u001b[39;00m\u001b[39m \u001b[39m\u001b[39m%\u001b[39m\u001b[39mb \u001b[39m\u001b[39m%\u001b[39m\u001b[39mY\u001b[39m\u001b[39m'\u001b[39m)\n\u001b[0;32m      7\u001b[0m   ax\u001b[39m.\u001b[39mxaxis\u001b[39m.\u001b[39mset_major_formatter(date_format)    \n",
      "File \u001b[1;32m~\\AppData\\Roaming\\Python\\Python310\\site-packages\\mplfinance\\original_flavor.py:234\u001b[0m, in \u001b[0;36mcandlestick_ohlc\u001b[1;34m(ax, quotes, width, colorup, colordown, alpha)\u001b[0m\n\u001b[0;32m    200\u001b[0m \u001b[39mdef\u001b[39;00m \u001b[39mcandlestick_ohlc\u001b[39m(ax, quotes, width\u001b[39m=\u001b[39m\u001b[39m0.2\u001b[39m, colorup\u001b[39m=\u001b[39m\u001b[39m'\u001b[39m\u001b[39mk\u001b[39m\u001b[39m'\u001b[39m, colordown\u001b[39m=\u001b[39m\u001b[39m'\u001b[39m\u001b[39mr\u001b[39m\u001b[39m'\u001b[39m,\n\u001b[0;32m    201\u001b[0m                      alpha\u001b[39m=\u001b[39m\u001b[39m1.0\u001b[39m):\n\u001b[0;32m    202\u001b[0m     \u001b[39m\"\"\"\u001b[39;00m\n\u001b[0;32m    203\u001b[0m \u001b[39m    Plot the time, open, high, low, close as a vertical line ranging\u001b[39;00m\n\u001b[0;32m    204\u001b[0m \u001b[39m    from low to high.  Use a rectangular bar to represent the\u001b[39;00m\n\u001b[1;32m   (...)\u001b[0m\n\u001b[0;32m    232\u001b[0m \n\u001b[0;32m    233\u001b[0m \u001b[39m    \"\"\"\u001b[39;00m\n\u001b[1;32m--> 234\u001b[0m     \u001b[39mreturn\u001b[39;00m _candlestick(ax, quotes, width\u001b[39m=\u001b[39;49mwidth, colorup\u001b[39m=\u001b[39;49mcolorup,\n\u001b[0;32m    235\u001b[0m                         colordown\u001b[39m=\u001b[39;49mcolordown,\n\u001b[0;32m    236\u001b[0m                         alpha\u001b[39m=\u001b[39;49malpha, ochl\u001b[39m=\u001b[39;49m\u001b[39mFalse\u001b[39;49;00m)\n",
      "File \u001b[1;32m~\\AppData\\Roaming\\Python\\Python310\\site-packages\\mplfinance\\original_flavor.py:283\u001b[0m, in \u001b[0;36m_candlestick\u001b[1;34m(ax, quotes, width, colorup, colordown, alpha, ochl)\u001b[0m\n\u001b[0;32m    281\u001b[0m     t, \u001b[39mopen\u001b[39m, close, high, low \u001b[39m=\u001b[39m q[:\u001b[39m5\u001b[39m]\n\u001b[0;32m    282\u001b[0m \u001b[39melse\u001b[39;00m:\n\u001b[1;32m--> 283\u001b[0m     t, \u001b[39mopen\u001b[39m, high, low, close \u001b[39m=\u001b[39m q[:\u001b[39m5\u001b[39m]\n\u001b[0;32m    285\u001b[0m \u001b[39mif\u001b[39;00m close \u001b[39m>\u001b[39m\u001b[39m=\u001b[39m \u001b[39mopen\u001b[39m:\n\u001b[0;32m    286\u001b[0m     color \u001b[39m=\u001b[39m colorup\n",
      "\u001b[1;31mValueError\u001b[0m: not enough values to unpack (expected 5, got 4)"
     ]
    },
    {
     "data": {
      "image/png": "[encoded data removed]",
      "text/plain": [
       "<Figure size 1600x900 with 1 Axes>"
      ]
     },
     "metadata": {},
     "output_type": "display_data"
    }
   ],
   "source": [
    "plot_all(levels,df)"
   ]
  }
 ],
 "metadata": {
  "kernelspec": {
   "display_name": "base",
   "language": "python",
   "name": "python3"
  },
  "language_info": {
   "codemirror_mode": {
    "name": "ipython",
    "version": 3
   },
   "file_extension": ".py",
   "mimetype": "text/x-python",
   "name": "python",
   "nbconvert_exporter": "python",
   "pygments_lexer": "ipython3",
   "version": "3.10.9"
  },
  "orig_nbformat": 4
 },
 "nbformat": 4,
 "nbformat_minor": 2
}
